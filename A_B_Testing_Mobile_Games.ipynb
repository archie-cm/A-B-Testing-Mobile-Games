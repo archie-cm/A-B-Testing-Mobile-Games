{
  "cells": [
    {
      "cell_type": "markdown",
      "metadata": {
        "id": "view-in-github",
        "colab_type": "text"
      },
      "source": [
        "<a href=\"https://colab.research.google.com/github/archie-cm/A-B-Testing-Mobile-Games/blob/main/A_B_Testing_Mobile_Games.ipynb\" target=\"_parent\"><img src=\"https://colab.research.google.com/assets/colab-badge.svg\" alt=\"Open In Colab\"/></a>"
      ]
    },
    {
      "cell_type": "markdown",
      "id": "0aa9c73f",
      "metadata": {
        "papermill": {
          "duration": 0.019851,
          "end_time": "2022-08-24T13:08:23.950719",
          "exception": false,
          "start_time": "2022-08-24T13:08:23.930868",
          "status": "completed"
        },
        "tags": [],
        "id": "0aa9c73f"
      },
      "source": [
        "# 1. Introduction and Context <a name='1'></a>"
      ]
    },
    {
      "cell_type": "markdown",
      "id": "3331ab56",
      "metadata": {
        "papermill": {
          "duration": 0.018307,
          "end_time": "2022-08-24T13:08:23.987771",
          "exception": false,
          "start_time": "2022-08-24T13:08:23.969464",
          "status": "completed"
        },
        "tags": [],
        "id": "3331ab56"
      },
      "source": [
        "[Cookie Cats](https://tactilegames.com/cookie-cats/) is a hugely popular mobile puzzle game developed by [Tactile Entertainment](https://tactilegames.com). It's a classic \"connect three\" style puzzle game where the player must connect tiles of the same color in order to clear the board and win the level. It also features singing cats. We're not kidding!\n",
        "\n",
        "**As players progress through the game they will encounter gates that force them to wait some time before they can progress or alternatively make an in-app purchase to progress. In this project, we will analyze the result of an A/B test where the first gate in Cookie Cats was moved from level 30 to level 40. In particular, we will analyze the impact on player retention.**\n",
        "\n",
        "🍪 🐈 🍪 🐈 🍪 🐈\n",
        "\n",
        "## Problem Statement\n",
        "\n",
        "Should the proposed gate at Level 40 be implemented over the existing gate at Level 30 based on day 1 and 7 player retention rates.\n",
        "\n",
        "## Data Descriptions\n",
        "\n",
        "The dataset contains is from 90,189 players that installed the game while the AB Test was running. \n",
        "\n",
        "Dataset labels:\n",
        "- `userid` - `int` - unique player identifier.\n",
        "- `version` - `str` - group the player was randomly assigned to: control (`gate_30` .- gate at Level 30) or treatment (`gate_40` - gate at Level 40).\n",
        "- `sum_gamerounds` - `int` - total number of games played by the player during the first week after installation.\n",
        "- `retention_1` - `bool` - `True` if the player played 1 day after installing else `False`.\n",
        "- `retention_7` - `bool` - `True` if the player played 7 days after installing else `False`."
      ]
    },
    {
      "cell_type": "markdown",
      "id": "a8969faa",
      "metadata": {
        "papermill": {
          "duration": 0.018944,
          "end_time": "2022-08-24T13:08:24.025638",
          "exception": false,
          "start_time": "2022-08-24T13:08:24.006694",
          "status": "completed"
        },
        "tags": [],
        "id": "a8969faa"
      },
      "source": [
        "# 2. Imports<a name='2'></a>"
      ]
    },
    {
      "cell_type": "code",
      "execution_count": null,
      "id": "8ace9be6",
      "metadata": {
        "execution": {
          "iopub.execute_input": "2022-08-24T13:08:24.065214Z",
          "iopub.status.busy": "2022-08-24T13:08:24.064471Z",
          "iopub.status.idle": "2022-08-24T13:08:25.616230Z",
          "shell.execute_reply": "2022-08-24T13:08:25.614942Z"
        },
        "papermill": {
          "duration": 1.575595,
          "end_time": "2022-08-24T13:08:25.619492",
          "exception": false,
          "start_time": "2022-08-24T13:08:24.043897",
          "status": "completed"
        },
        "tags": [],
        "id": "8ace9be6"
      },
      "outputs": [],
      "source": [
        "# PyData\n",
        "import numpy as np\n",
        "import pandas as pd\n",
        "import matplotlib.pyplot as plt\n",
        "import seaborn as sns\n",
        "import os\n",
        "\n",
        "# Hypothesis Testing\n",
        "import scipy.stats as stats\n",
        "from statsmodels.stats.proportion import proportions_ztest\n",
        "\n",
        "import warnings\n",
        "warnings.filterwarnings('ignore')\n",
        "\n",
        "pd.set_option('display.max_columns', None)\n",
        "pd.options.display.float_format = '{:,.2f}'.format"
      ]
    },
    {
      "cell_type": "code",
      "execution_count": null,
      "id": "cff328ed",
      "metadata": {
        "execution": {
          "iopub.execute_input": "2022-08-24T13:08:25.660454Z",
          "iopub.status.busy": "2022-08-24T13:08:25.659228Z",
          "iopub.status.idle": "2022-08-24T13:08:25.668682Z",
          "shell.execute_reply": "2022-08-24T13:08:25.667314Z"
        },
        "papermill": {
          "duration": 0.033129,
          "end_time": "2022-08-24T13:08:25.671875",
          "exception": false,
          "start_time": "2022-08-24T13:08:25.638746",
          "status": "completed"
        },
        "tags": [],
        "id": "cff328ed"
      },
      "outputs": [],
      "source": [
        "# Global Formatting and rendering\n",
        "sns.set(rc={'figure.figsize':(20.7,8.27)})\n",
        "sns.set_style(\"whitegrid\")\n",
        "sns.color_palette(\"dark\")\n",
        "plt.style.use(\"fivethirtyeight\")"
      ]
    },
    {
      "cell_type": "markdown",
      "id": "2473be80",
      "metadata": {
        "papermill": {
          "duration": 0.018444,
          "end_time": "2022-08-24T13:08:25.770730",
          "exception": false,
          "start_time": "2022-08-24T13:08:25.752286",
          "status": "completed"
        },
        "tags": [],
        "id": "2473be80"
      },
      "source": [
        "# 3. Data <a name='3'></a>"
      ]
    },
    {
      "cell_type": "code",
      "execution_count": null,
      "id": "27e5a384",
      "metadata": {
        "execution": {
          "iopub.execute_input": "2022-08-24T13:08:25.809708Z",
          "iopub.status.busy": "2022-08-24T13:08:25.809137Z",
          "iopub.status.idle": "2022-08-24T13:08:25.929625Z",
          "shell.execute_reply": "2022-08-24T13:08:25.928153Z"
        },
        "papermill": {
          "duration": 0.144121,
          "end_time": "2022-08-24T13:08:25.933003",
          "exception": false,
          "start_time": "2022-08-24T13:08:25.788882",
          "status": "completed"
        },
        "tags": [],
        "colab": {
          "base_uri": "https://localhost:8080/",
          "height": 223
        },
        "id": "27e5a384",
        "outputId": "55a0fd1c-51ac-4e99-cd68-2f420ec99da2"
      },
      "outputs": [
        {
          "output_type": "stream",
          "name": "stdout",
          "text": [
            "Drive already mounted at /content/drive; to attempt to forcibly remount, call drive.mount(\"/content/drive\", force_remount=True).\n"
          ]
        },
        {
          "output_type": "execute_result",
          "data": {
            "text/plain": [
              "   userid  version  sum_gamerounds  retention_1  retention_7\n",
              "0     116  gate_30               3        False        False\n",
              "1     337  gate_30              38         True        False\n",
              "2     377  gate_40             165         True        False\n",
              "3     483  gate_40               1        False        False\n",
              "4     488  gate_40             179         True         True"
            ],
            "text/html": [
              "\n",
              "  <div id=\"df-45cbb049-5b95-4d57-b2ba-592e63586da9\">\n",
              "    <div class=\"colab-df-container\">\n",
              "      <div>\n",
              "<style scoped>\n",
              "    .dataframe tbody tr th:only-of-type {\n",
              "        vertical-align: middle;\n",
              "    }\n",
              "\n",
              "    .dataframe tbody tr th {\n",
              "        vertical-align: top;\n",
              "    }\n",
              "\n",
              "    .dataframe thead th {\n",
              "        text-align: right;\n",
              "    }\n",
              "</style>\n",
              "<table border=\"1\" class=\"dataframe\">\n",
              "  <thead>\n",
              "    <tr style=\"text-align: right;\">\n",
              "      <th></th>\n",
              "      <th>userid</th>\n",
              "      <th>version</th>\n",
              "      <th>sum_gamerounds</th>\n",
              "      <th>retention_1</th>\n",
              "      <th>retention_7</th>\n",
              "    </tr>\n",
              "  </thead>\n",
              "  <tbody>\n",
              "    <tr>\n",
              "      <th>0</th>\n",
              "      <td>116</td>\n",
              "      <td>gate_30</td>\n",
              "      <td>3</td>\n",
              "      <td>False</td>\n",
              "      <td>False</td>\n",
              "    </tr>\n",
              "    <tr>\n",
              "      <th>1</th>\n",
              "      <td>337</td>\n",
              "      <td>gate_30</td>\n",
              "      <td>38</td>\n",
              "      <td>True</td>\n",
              "      <td>False</td>\n",
              "    </tr>\n",
              "    <tr>\n",
              "      <th>2</th>\n",
              "      <td>377</td>\n",
              "      <td>gate_40</td>\n",
              "      <td>165</td>\n",
              "      <td>True</td>\n",
              "      <td>False</td>\n",
              "    </tr>\n",
              "    <tr>\n",
              "      <th>3</th>\n",
              "      <td>483</td>\n",
              "      <td>gate_40</td>\n",
              "      <td>1</td>\n",
              "      <td>False</td>\n",
              "      <td>False</td>\n",
              "    </tr>\n",
              "    <tr>\n",
              "      <th>4</th>\n",
              "      <td>488</td>\n",
              "      <td>gate_40</td>\n",
              "      <td>179</td>\n",
              "      <td>True</td>\n",
              "      <td>True</td>\n",
              "    </tr>\n",
              "  </tbody>\n",
              "</table>\n",
              "</div>\n",
              "      <button class=\"colab-df-convert\" onclick=\"convertToInteractive('df-45cbb049-5b95-4d57-b2ba-592e63586da9')\"\n",
              "              title=\"Convert this dataframe to an interactive table.\"\n",
              "              style=\"display:none;\">\n",
              "        \n",
              "  <svg xmlns=\"http://www.w3.org/2000/svg\" height=\"24px\"viewBox=\"0 0 24 24\"\n",
              "       width=\"24px\">\n",
              "    <path d=\"M0 0h24v24H0V0z\" fill=\"none\"/>\n",
              "    <path d=\"M18.56 5.44l.94 2.06.94-2.06 2.06-.94-2.06-.94-.94-2.06-.94 2.06-2.06.94zm-11 1L8.5 8.5l.94-2.06 2.06-.94-2.06-.94L8.5 2.5l-.94 2.06-2.06.94zm10 10l.94 2.06.94-2.06 2.06-.94-2.06-.94-.94-2.06-.94 2.06-2.06.94z\"/><path d=\"M17.41 7.96l-1.37-1.37c-.4-.4-.92-.59-1.43-.59-.52 0-1.04.2-1.43.59L10.3 9.45l-7.72 7.72c-.78.78-.78 2.05 0 2.83L4 21.41c.39.39.9.59 1.41.59.51 0 1.02-.2 1.41-.59l7.78-7.78 2.81-2.81c.8-.78.8-2.07 0-2.86zM5.41 20L4 18.59l7.72-7.72 1.47 1.35L5.41 20z\"/>\n",
              "  </svg>\n",
              "      </button>\n",
              "      \n",
              "  <style>\n",
              "    .colab-df-container {\n",
              "      display:flex;\n",
              "      flex-wrap:wrap;\n",
              "      gap: 12px;\n",
              "    }\n",
              "\n",
              "    .colab-df-convert {\n",
              "      background-color: #E8F0FE;\n",
              "      border: none;\n",
              "      border-radius: 50%;\n",
              "      cursor: pointer;\n",
              "      display: none;\n",
              "      fill: #1967D2;\n",
              "      height: 32px;\n",
              "      padding: 0 0 0 0;\n",
              "      width: 32px;\n",
              "    }\n",
              "\n",
              "    .colab-df-convert:hover {\n",
              "      background-color: #E2EBFA;\n",
              "      box-shadow: 0px 1px 2px rgba(60, 64, 67, 0.3), 0px 1px 3px 1px rgba(60, 64, 67, 0.15);\n",
              "      fill: #174EA6;\n",
              "    }\n",
              "\n",
              "    [theme=dark] .colab-df-convert {\n",
              "      background-color: #3B4455;\n",
              "      fill: #D2E3FC;\n",
              "    }\n",
              "\n",
              "    [theme=dark] .colab-df-convert:hover {\n",
              "      background-color: #434B5C;\n",
              "      box-shadow: 0px 1px 3px 1px rgba(0, 0, 0, 0.15);\n",
              "      filter: drop-shadow(0px 1px 2px rgba(0, 0, 0, 0.3));\n",
              "      fill: #FFFFFF;\n",
              "    }\n",
              "  </style>\n",
              "\n",
              "      <script>\n",
              "        const buttonEl =\n",
              "          document.querySelector('#df-45cbb049-5b95-4d57-b2ba-592e63586da9 button.colab-df-convert');\n",
              "        buttonEl.style.display =\n",
              "          google.colab.kernel.accessAllowed ? 'block' : 'none';\n",
              "\n",
              "        async function convertToInteractive(key) {\n",
              "          const element = document.querySelector('#df-45cbb049-5b95-4d57-b2ba-592e63586da9');\n",
              "          const dataTable =\n",
              "            await google.colab.kernel.invokeFunction('convertToInteractive',\n",
              "                                                     [key], {});\n",
              "          if (!dataTable) return;\n",
              "\n",
              "          const docLinkHtml = 'Like what you see? Visit the ' +\n",
              "            '<a target=\"_blank\" href=https://colab.research.google.com/notebooks/data_table.ipynb>data table notebook</a>'\n",
              "            + ' to learn more about interactive tables.';\n",
              "          element.innerHTML = '';\n",
              "          dataTable['output_type'] = 'display_data';\n",
              "          await google.colab.output.renderOutput(dataTable, element);\n",
              "          const docLink = document.createElement('div');\n",
              "          docLink.innerHTML = docLinkHtml;\n",
              "          element.appendChild(docLink);\n",
              "        }\n",
              "      </script>\n",
              "    </div>\n",
              "  </div>\n",
              "  "
            ]
          },
          "metadata": {},
          "execution_count": 3
        }
      ],
      "source": [
        "from google.colab import drive\n",
        "drive.mount('/content/drive')\n",
        "data = pd.read_csv('/content/drive/MyDrive/cookie_cats.csv')\n",
        "\n",
        "data.head()"
      ]
    },
    {
      "cell_type": "code",
      "execution_count": null,
      "id": "f3d43a63",
      "metadata": {
        "execution": {
          "iopub.execute_input": "2022-08-24T13:08:25.972269Z",
          "iopub.status.busy": "2022-08-24T13:08:25.971484Z",
          "iopub.status.idle": "2022-08-24T13:08:26.034838Z",
          "shell.execute_reply": "2022-08-24T13:08:26.032951Z"
        },
        "papermill": {
          "duration": 0.086332,
          "end_time": "2022-08-24T13:08:26.037597",
          "exception": false,
          "start_time": "2022-08-24T13:08:25.951265",
          "status": "completed"
        },
        "tags": [],
        "colab": {
          "base_uri": "https://localhost:8080/"
        },
        "id": "f3d43a63",
        "outputId": "6e6bbf42-32cd-4c21-b1e2-e9ccb727b5d7"
      },
      "outputs": [
        {
          "output_type": "stream",
          "name": "stdout",
          "text": [
            "<class 'pandas.core.frame.DataFrame'>\n",
            "RangeIndex: 90189 entries, 0 to 90188\n",
            "Data columns (total 5 columns):\n",
            " #   Column          Non-Null Count  Dtype \n",
            "---  ------          --------------  ----- \n",
            " 0   userid          90189 non-null  int64 \n",
            " 1   version         90189 non-null  object\n",
            " 2   sum_gamerounds  90189 non-null  int64 \n",
            " 3   retention_1     90189 non-null  bool  \n",
            " 4   retention_7     90189 non-null  bool  \n",
            "dtypes: bool(2), int64(2), object(1)\n",
            "memory usage: 2.2+ MB\n"
          ]
        }
      ],
      "source": [
        "# Check dataframe shape, null counts, datatypes\n",
        "data.info()"
      ]
    },
    {
      "cell_type": "markdown",
      "metadata": {
        "id": "5dZYy7bYCk2I"
      },
      "source": [
        "### Duplicated Data"
      ],
      "id": "5dZYy7bYCk2I"
    },
    {
      "cell_type": "code",
      "execution_count": null,
      "metadata": {
        "colab": {
          "base_uri": "https://localhost:8080/"
        },
        "id": "NFobeYqHCk2I",
        "outputId": "3550c69c-534d-4232-e0b5-85298bf47864"
      },
      "outputs": [
        {
          "output_type": "execute_result",
          "data": {
            "text/plain": [
              "0"
            ]
          },
          "metadata": {},
          "execution_count": 5
        }
      ],
      "source": [
        "data.duplicated().sum()"
      ],
      "id": "NFobeYqHCk2I"
    },
    {
      "cell_type": "markdown",
      "metadata": {
        "id": "xr8dqJHvCk2I"
      },
      "source": [
        "Tidak terdapat duplicated data"
      ],
      "id": "xr8dqJHvCk2I"
    },
    {
      "cell_type": "markdown",
      "metadata": {
        "id": "C7TusZJ4Ck2H"
      },
      "source": [
        "### Missing Data"
      ],
      "id": "C7TusZJ4Ck2H"
    },
    {
      "cell_type": "code",
      "execution_count": null,
      "metadata": {
        "colab": {
          "base_uri": "https://localhost:8080/"
        },
        "id": "LyAo5clOCk2I",
        "outputId": "10be4ae9-8cdc-43f1-cbba-ed57a82ed931"
      },
      "outputs": [
        {
          "output_type": "execute_result",
          "data": {
            "text/plain": [
              "userid            0\n",
              "version           0\n",
              "sum_gamerounds    0\n",
              "retention_1       0\n",
              "retention_7       0\n",
              "dtype: int64"
            ]
          },
          "metadata": {},
          "execution_count": 6
        }
      ],
      "source": [
        "data.isna().sum()"
      ],
      "id": "LyAo5clOCk2I"
    },
    {
      "cell_type": "markdown",
      "metadata": {
        "id": "l22d-0RsCk2I"
      },
      "source": [
        "Tidak terdapat missing data"
      ],
      "id": "l22d-0RsCk2I"
    },
    {
      "cell_type": "markdown",
      "id": "74195778",
      "metadata": {
        "papermill": {
          "duration": 0.018494,
          "end_time": "2022-08-24T13:08:26.210753",
          "exception": false,
          "start_time": "2022-08-24T13:08:26.192259",
          "status": "completed"
        },
        "tags": [],
        "id": "74195778"
      },
      "source": [
        "### Dataset Balance"
      ]
    },
    {
      "cell_type": "code",
      "execution_count": null,
      "id": "b48be5ff",
      "metadata": {
        "execution": {
          "iopub.execute_input": "2022-08-24T13:08:26.251268Z",
          "iopub.status.busy": "2022-08-24T13:08:26.250682Z",
          "iopub.status.idle": "2022-08-24T13:08:26.549729Z",
          "shell.execute_reply": "2022-08-24T13:08:26.548642Z"
        },
        "papermill": {
          "duration": 0.322848,
          "end_time": "2022-08-24T13:08:26.552617",
          "exception": false,
          "start_time": "2022-08-24T13:08:26.229769",
          "status": "completed"
        },
        "tags": [],
        "colab": {
          "base_uri": "https://localhost:8080/",
          "height": 576
        },
        "id": "b48be5ff",
        "outputId": "445d7d47-0307-42bd-b883-d68912a4638b"
      },
      "outputs": [
        {
          "output_type": "display_data",
          "data": {
            "text/plain": [
              "         userid  sum_gamerounds  retention_1  retention_7\n",
              "version                                                  \n",
              "gate_30   44700           44700        44700        44700\n",
              "gate_40   45489           45489        45489        45489"
            ],
            "text/html": [
              "\n",
              "  <div id=\"df-59dd1a0b-2de2-448f-a28e-6ed4441418bb\">\n",
              "    <div class=\"colab-df-container\">\n",
              "      <div>\n",
              "<style scoped>\n",
              "    .dataframe tbody tr th:only-of-type {\n",
              "        vertical-align: middle;\n",
              "    }\n",
              "\n",
              "    .dataframe tbody tr th {\n",
              "        vertical-align: top;\n",
              "    }\n",
              "\n",
              "    .dataframe thead th {\n",
              "        text-align: right;\n",
              "    }\n",
              "</style>\n",
              "<table border=\"1\" class=\"dataframe\">\n",
              "  <thead>\n",
              "    <tr style=\"text-align: right;\">\n",
              "      <th></th>\n",
              "      <th>userid</th>\n",
              "      <th>sum_gamerounds</th>\n",
              "      <th>retention_1</th>\n",
              "      <th>retention_7</th>\n",
              "    </tr>\n",
              "    <tr>\n",
              "      <th>version</th>\n",
              "      <th></th>\n",
              "      <th></th>\n",
              "      <th></th>\n",
              "      <th></th>\n",
              "    </tr>\n",
              "  </thead>\n",
              "  <tbody>\n",
              "    <tr>\n",
              "      <th>gate_30</th>\n",
              "      <td>44700</td>\n",
              "      <td>44700</td>\n",
              "      <td>44700</td>\n",
              "      <td>44700</td>\n",
              "    </tr>\n",
              "    <tr>\n",
              "      <th>gate_40</th>\n",
              "      <td>45489</td>\n",
              "      <td>45489</td>\n",
              "      <td>45489</td>\n",
              "      <td>45489</td>\n",
              "    </tr>\n",
              "  </tbody>\n",
              "</table>\n",
              "</div>\n",
              "      <button class=\"colab-df-convert\" onclick=\"convertToInteractive('df-59dd1a0b-2de2-448f-a28e-6ed4441418bb')\"\n",
              "              title=\"Convert this dataframe to an interactive table.\"\n",
              "              style=\"display:none;\">\n",
              "        \n",
              "  <svg xmlns=\"http://www.w3.org/2000/svg\" height=\"24px\"viewBox=\"0 0 24 24\"\n",
              "       width=\"24px\">\n",
              "    <path d=\"M0 0h24v24H0V0z\" fill=\"none\"/>\n",
              "    <path d=\"M18.56 5.44l.94 2.06.94-2.06 2.06-.94-2.06-.94-.94-2.06-.94 2.06-2.06.94zm-11 1L8.5 8.5l.94-2.06 2.06-.94-2.06-.94L8.5 2.5l-.94 2.06-2.06.94zm10 10l.94 2.06.94-2.06 2.06-.94-2.06-.94-.94-2.06-.94 2.06-2.06.94z\"/><path d=\"M17.41 7.96l-1.37-1.37c-.4-.4-.92-.59-1.43-.59-.52 0-1.04.2-1.43.59L10.3 9.45l-7.72 7.72c-.78.78-.78 2.05 0 2.83L4 21.41c.39.39.9.59 1.41.59.51 0 1.02-.2 1.41-.59l7.78-7.78 2.81-2.81c.8-.78.8-2.07 0-2.86zM5.41 20L4 18.59l7.72-7.72 1.47 1.35L5.41 20z\"/>\n",
              "  </svg>\n",
              "      </button>\n",
              "      \n",
              "  <style>\n",
              "    .colab-df-container {\n",
              "      display:flex;\n",
              "      flex-wrap:wrap;\n",
              "      gap: 12px;\n",
              "    }\n",
              "\n",
              "    .colab-df-convert {\n",
              "      background-color: #E8F0FE;\n",
              "      border: none;\n",
              "      border-radius: 50%;\n",
              "      cursor: pointer;\n",
              "      display: none;\n",
              "      fill: #1967D2;\n",
              "      height: 32px;\n",
              "      padding: 0 0 0 0;\n",
              "      width: 32px;\n",
              "    }\n",
              "\n",
              "    .colab-df-convert:hover {\n",
              "      background-color: #E2EBFA;\n",
              "      box-shadow: 0px 1px 2px rgba(60, 64, 67, 0.3), 0px 1px 3px 1px rgba(60, 64, 67, 0.15);\n",
              "      fill: #174EA6;\n",
              "    }\n",
              "\n",
              "    [theme=dark] .colab-df-convert {\n",
              "      background-color: #3B4455;\n",
              "      fill: #D2E3FC;\n",
              "    }\n",
              "\n",
              "    [theme=dark] .colab-df-convert:hover {\n",
              "      background-color: #434B5C;\n",
              "      box-shadow: 0px 1px 3px 1px rgba(0, 0, 0, 0.15);\n",
              "      filter: drop-shadow(0px 1px 2px rgba(0, 0, 0, 0.3));\n",
              "      fill: #FFFFFF;\n",
              "    }\n",
              "  </style>\n",
              "\n",
              "      <script>\n",
              "        const buttonEl =\n",
              "          document.querySelector('#df-59dd1a0b-2de2-448f-a28e-6ed4441418bb button.colab-df-convert');\n",
              "        buttonEl.style.display =\n",
              "          google.colab.kernel.accessAllowed ? 'block' : 'none';\n",
              "\n",
              "        async function convertToInteractive(key) {\n",
              "          const element = document.querySelector('#df-59dd1a0b-2de2-448f-a28e-6ed4441418bb');\n",
              "          const dataTable =\n",
              "            await google.colab.kernel.invokeFunction('convertToInteractive',\n",
              "                                                     [key], {});\n",
              "          if (!dataTable) return;\n",
              "\n",
              "          const docLinkHtml = 'Like what you see? Visit the ' +\n",
              "            '<a target=\"_blank\" href=https://colab.research.google.com/notebooks/data_table.ipynb>data table notebook</a>'\n",
              "            + ' to learn more about interactive tables.';\n",
              "          element.innerHTML = '';\n",
              "          dataTable['output_type'] = 'display_data';\n",
              "          await google.colab.output.renderOutput(dataTable, element);\n",
              "          const docLink = document.createElement('div');\n",
              "          docLink.innerHTML = docLinkHtml;\n",
              "          element.appendChild(docLink);\n",
              "        }\n",
              "      </script>\n",
              "    </div>\n",
              "  </div>\n",
              "  "
            ]
          },
          "metadata": {}
        },
        {
          "output_type": "display_data",
          "data": {
            "text/plain": [
              "<Figure size 1490.4x595.44 with 1 Axes>"
            ],
            "image/png": "[encoded data removed]"
          },
          "metadata": {}
        }
      ],
      "source": [
        "# Coount of players in control and treatment group w/ visualisation\n",
        "\n",
        "display(data.groupby('version').count())\n",
        "\n",
        "sns.countplot(x='version', data=data)\n",
        "plt.show()"
      ]
    },
    {
      "cell_type": "code",
      "execution_count": null,
      "id": "2540adda",
      "metadata": {
        "execution": {
          "iopub.execute_input": "2022-08-24T13:08:26.594767Z",
          "iopub.status.busy": "2022-08-24T13:08:26.593793Z",
          "iopub.status.idle": "2022-08-24T13:08:26.612443Z",
          "shell.execute_reply": "2022-08-24T13:08:26.611286Z"
        },
        "papermill": {
          "duration": 0.043148,
          "end_time": "2022-08-24T13:08:26.615471",
          "exception": false,
          "start_time": "2022-08-24T13:08:26.572323",
          "status": "completed"
        },
        "tags": [],
        "colab": {
          "base_uri": "https://localhost:8080/"
        },
        "id": "2540adda",
        "outputId": "d9f56fb1-d16f-4f53-918d-e783a8daef40"
      },
      "outputs": [
        {
          "output_type": "stream",
          "name": "stdout",
          "text": [
            "50.44% of users in control group\n",
            "49.56% of users in treatment group\n"
          ]
        }
      ],
      "source": [
        "# Percentage of players in control and treatment groups\n",
        "\n",
        "control, treatment = data['version'].value_counts()[0], data['version'].value_counts()[1]\n",
        "print(f'{control / data.shape[0] * 100:.2f}% of users in control group')\n",
        "print(f'{treatment / data.shape[0] * 100:.2f}% of users in treatment group')"
      ]
    },
    {
      "cell_type": "markdown",
      "id": "ce9e2c66",
      "metadata": {
        "papermill": {
          "duration": 0.019024,
          "end_time": "2022-08-24T13:08:26.654024",
          "exception": false,
          "start_time": "2022-08-24T13:08:26.635000",
          "status": "completed"
        },
        "tags": [],
        "id": "ce9e2c66"
      },
      "source": [
        "Spread of randomly assigned players looks even, though Sample Ratio Mismatch (SRM), could still be present. I will not be performing a SRM analysis, but this could be performed with a Chi-squared goodness of fit test."
      ]
    },
    {
      "cell_type": "markdown",
      "id": "75abe263",
      "metadata": {
        "papermill": {
          "duration": 0.018954,
          "end_time": "2022-08-24T13:08:26.692582",
          "exception": false,
          "start_time": "2022-08-24T13:08:26.673628",
          "status": "completed"
        },
        "tags": [],
        "id": "75abe263"
      },
      "source": [
        "Observations:\n",
        "- There are no null values.\n",
        "- `version`, `retention_1` and `retention_7` have binary values as expected.\n",
        "- There are no duplicate entries or duplicated users.\n",
        "- The dataset looks relatively balanced.\n",
        "- Data is generally clean and ready to use."
      ]
    },
    {
      "cell_type": "markdown",
      "id": "0029213e",
      "metadata": {
        "papermill": {
          "duration": 0.018983,
          "end_time": "2022-08-24T13:08:26.731707",
          "exception": false,
          "start_time": "2022-08-24T13:08:26.712724",
          "status": "completed"
        },
        "tags": [],
        "id": "0029213e"
      },
      "source": [
        "# 4. Exploratory Data Analysis <a name='4'></a>"
      ]
    },
    {
      "cell_type": "markdown",
      "id": "b8fad094",
      "metadata": {
        "papermill": {
          "duration": 0.019042,
          "end_time": "2022-08-24T13:08:26.769937",
          "exception": false,
          "start_time": "2022-08-24T13:08:26.750895",
          "status": "completed"
        },
        "tags": [],
        "id": "b8fad094"
      },
      "source": [
        "There are two primary explanations that we can perform, the first with the number of game rounds played and the second with the 1 and 7 day retention rates."
      ]
    },
    {
      "cell_type": "markdown",
      "id": "830a8aa3",
      "metadata": {
        "papermill": {
          "duration": 0.018842,
          "end_time": "2022-08-24T13:08:26.808445",
          "exception": false,
          "start_time": "2022-08-24T13:08:26.789603",
          "status": "completed"
        },
        "tags": [],
        "id": "830a8aa3"
      },
      "source": [
        "## 4.1 EDA - Game Rounds Played <a name ='4.1'></a>\n",
        "\n",
        "Lets look at the `sum_gamerounds` played for each player, first as a whole of the dataset and then by experiment group."
      ]
    },
    {
      "cell_type": "code",
      "execution_count": null,
      "id": "5fb169ec",
      "metadata": {
        "execution": {
          "iopub.execute_input": "2022-08-24T13:08:26.851742Z",
          "iopub.status.busy": "2022-08-24T13:08:26.851151Z",
          "iopub.status.idle": "2022-08-24T13:08:26.879791Z",
          "shell.execute_reply": "2022-08-24T13:08:26.878792Z"
        },
        "papermill": {
          "duration": 0.053505,
          "end_time": "2022-08-24T13:08:26.882251",
          "exception": false,
          "start_time": "2022-08-24T13:08:26.828746",
          "status": "completed"
        },
        "tags": [],
        "colab": {
          "base_uri": "https://localhost:8080/",
          "height": 81
        },
        "id": "5fb169ec",
        "outputId": "52d77c7f-907d-40e9-b0da-06b6bccc44a4"
      },
      "outputs": [
        {
          "output_type": "execute_result",
          "data": {
            "text/plain": [
              "                   count  mean    std  min  25%   50%   75%       max\n",
              "sum_gamerounds 90,189.00 51.87 195.05 0.00 5.00 16.00 51.00 49,854.00"
            ],
            "text/html": [
              "\n",
              "  <div id=\"df-9f09e9d3-ca2f-4fd6-b0b1-b3321165ee41\">\n",
              "    <div class=\"colab-df-container\">\n",
              "      <div>\n",
              "<style scoped>\n",
              "    .dataframe tbody tr th:only-of-type {\n",
              "        vertical-align: middle;\n",
              "    }\n",
              "\n",
              "    .dataframe tbody tr th {\n",
              "        vertical-align: top;\n",
              "    }\n",
              "\n",
              "    .dataframe thead th {\n",
              "        text-align: right;\n",
              "    }\n",
              "</style>\n",
              "<table border=\"1\" class=\"dataframe\">\n",
              "  <thead>\n",
              "    <tr style=\"text-align: right;\">\n",
              "      <th></th>\n",
              "      <th>count</th>\n",
              "      <th>mean</th>\n",
              "      <th>std</th>\n",
              "      <th>min</th>\n",
              "      <th>25%</th>\n",
              "      <th>50%</th>\n",
              "      <th>75%</th>\n",
              "      <th>max</th>\n",
              "    </tr>\n",
              "  </thead>\n",
              "  <tbody>\n",
              "    <tr>\n",
              "      <th>sum_gamerounds</th>\n",
              "      <td>90,189.00</td>\n",
              "      <td>51.87</td>\n",
              "      <td>195.05</td>\n",
              "      <td>0.00</td>\n",
              "      <td>5.00</td>\n",
              "      <td>16.00</td>\n",
              "      <td>51.00</td>\n",
              "      <td>49,854.00</td>\n",
              "    </tr>\n",
              "  </tbody>\n",
              "</table>\n",
              "</div>\n",
              "      <button class=\"colab-df-convert\" onclick=\"convertToInteractive('df-9f09e9d3-ca2f-4fd6-b0b1-b3321165ee41')\"\n",
              "              title=\"Convert this dataframe to an interactive table.\"\n",
              "              style=\"display:none;\">\n",
              "        \n",
              "  <svg xmlns=\"http://www.w3.org/2000/svg\" height=\"24px\"viewBox=\"0 0 24 24\"\n",
              "       width=\"24px\">\n",
              "    <path d=\"M0 0h24v24H0V0z\" fill=\"none\"/>\n",
              "    <path d=\"M18.56 5.44l.94 2.06.94-2.06 2.06-.94-2.06-.94-.94-2.06-.94 2.06-2.06.94zm-11 1L8.5 8.5l.94-2.06 2.06-.94-2.06-.94L8.5 2.5l-.94 2.06-2.06.94zm10 10l.94 2.06.94-2.06 2.06-.94-2.06-.94-.94-2.06-.94 2.06-2.06.94z\"/><path d=\"M17.41 7.96l-1.37-1.37c-.4-.4-.92-.59-1.43-.59-.52 0-1.04.2-1.43.59L10.3 9.45l-7.72 7.72c-.78.78-.78 2.05 0 2.83L4 21.41c.39.39.9.59 1.41.59.51 0 1.02-.2 1.41-.59l7.78-7.78 2.81-2.81c.8-.78.8-2.07 0-2.86zM5.41 20L4 18.59l7.72-7.72 1.47 1.35L5.41 20z\"/>\n",
              "  </svg>\n",
              "      </button>\n",
              "      \n",
              "  <style>\n",
              "    .colab-df-container {\n",
              "      display:flex;\n",
              "      flex-wrap:wrap;\n",
              "      gap: 12px;\n",
              "    }\n",
              "\n",
              "    .colab-df-convert {\n",
              "      background-color: #E8F0FE;\n",
              "      border: none;\n",
              "      border-radius: 50%;\n",
              "      cursor: pointer;\n",
              "      display: none;\n",
              "      fill: #1967D2;\n",
              "      height: 32px;\n",
              "      padding: 0 0 0 0;\n",
              "      width: 32px;\n",
              "    }\n",
              "\n",
              "    .colab-df-convert:hover {\n",
              "      background-color: #E2EBFA;\n",
              "      box-shadow: 0px 1px 2px rgba(60, 64, 67, 0.3), 0px 1px 3px 1px rgba(60, 64, 67, 0.15);\n",
              "      fill: #174EA6;\n",
              "    }\n",
              "\n",
              "    [theme=dark] .colab-df-convert {\n",
              "      background-color: #3B4455;\n",
              "      fill: #D2E3FC;\n",
              "    }\n",
              "\n",
              "    [theme=dark] .colab-df-convert:hover {\n",
              "      background-color: #434B5C;\n",
              "      box-shadow: 0px 1px 3px 1px rgba(0, 0, 0, 0.15);\n",
              "      filter: drop-shadow(0px 1px 2px rgba(0, 0, 0, 0.3));\n",
              "      fill: #FFFFFF;\n",
              "    }\n",
              "  </style>\n",
              "\n",
              "      <script>\n",
              "        const buttonEl =\n",
              "          document.querySelector('#df-9f09e9d3-ca2f-4fd6-b0b1-b3321165ee41 button.colab-df-convert');\n",
              "        buttonEl.style.display =\n",
              "          google.colab.kernel.accessAllowed ? 'block' : 'none';\n",
              "\n",
              "        async function convertToInteractive(key) {\n",
              "          const element = document.querySelector('#df-9f09e9d3-ca2f-4fd6-b0b1-b3321165ee41');\n",
              "          const dataTable =\n",
              "            await google.colab.kernel.invokeFunction('convertToInteractive',\n",
              "                                                     [key], {});\n",
              "          if (!dataTable) return;\n",
              "\n",
              "          const docLinkHtml = 'Like what you see? Visit the ' +\n",
              "            '<a target=\"_blank\" href=https://colab.research.google.com/notebooks/data_table.ipynb>data table notebook</a>'\n",
              "            + ' to learn more about interactive tables.';\n",
              "          element.innerHTML = '';\n",
              "          dataTable['output_type'] = 'display_data';\n",
              "          await google.colab.output.renderOutput(dataTable, element);\n",
              "          const docLink = document.createElement('div');\n",
              "          docLink.innerHTML = docLinkHtml;\n",
              "          element.appendChild(docLink);\n",
              "        }\n",
              "      </script>\n",
              "    </div>\n",
              "  </div>\n",
              "  "
            ]
          },
          "metadata": {},
          "execution_count": 9
        }
      ],
      "source": [
        "# Desptive statistics of the entire data set to get an idea of the distribution\n",
        "\n",
        "data[['sum_gamerounds']].describe().T"
      ]
    },
    {
      "cell_type": "code",
      "execution_count": null,
      "id": "68b6b4ba",
      "metadata": {
        "execution": {
          "iopub.execute_input": "2022-08-24T13:08:26.924798Z",
          "iopub.status.busy": "2022-08-24T13:08:26.923913Z",
          "iopub.status.idle": "2022-08-24T13:08:26.964898Z",
          "shell.execute_reply": "2022-08-24T13:08:26.963502Z"
        },
        "papermill": {
          "duration": 0.065719,
          "end_time": "2022-08-24T13:08:26.967953",
          "exception": false,
          "start_time": "2022-08-24T13:08:26.902234",
          "status": "completed"
        },
        "tags": [],
        "colab": {
          "base_uri": "https://localhost:8080/",
          "height": 143
        },
        "id": "68b6b4ba",
        "outputId": "e25b82f1-288e-473e-f8ec-953f00039fc5"
      },
      "outputs": [
        {
          "output_type": "execute_result",
          "data": {
            "text/plain": [
              "         count  mean  median    std    max\n",
              "version                                   \n",
              "gate_30  44700 52.46   17.00 256.72  49854\n",
              "gate_40  45489 51.30   16.00 103.29   2640"
            ],
            "text/html": [
              "\n",
              "  <div id=\"df-15e495e8-09f3-471e-a590-802fb6573f51\">\n",
              "    <div class=\"colab-df-container\">\n",
              "      <div>\n",
              "<style scoped>\n",
              "    .dataframe tbody tr th:only-of-type {\n",
              "        vertical-align: middle;\n",
              "    }\n",
              "\n",
              "    .dataframe tbody tr th {\n",
              "        vertical-align: top;\n",
              "    }\n",
              "\n",
              "    .dataframe thead th {\n",
              "        text-align: right;\n",
              "    }\n",
              "</style>\n",
              "<table border=\"1\" class=\"dataframe\">\n",
              "  <thead>\n",
              "    <tr style=\"text-align: right;\">\n",
              "      <th></th>\n",
              "      <th>count</th>\n",
              "      <th>mean</th>\n",
              "      <th>median</th>\n",
              "      <th>std</th>\n",
              "      <th>max</th>\n",
              "    </tr>\n",
              "    <tr>\n",
              "      <th>version</th>\n",
              "      <th></th>\n",
              "      <th></th>\n",
              "      <th></th>\n",
              "      <th></th>\n",
              "      <th></th>\n",
              "    </tr>\n",
              "  </thead>\n",
              "  <tbody>\n",
              "    <tr>\n",
              "      <th>gate_30</th>\n",
              "      <td>44700</td>\n",
              "      <td>52.46</td>\n",
              "      <td>17.00</td>\n",
              "      <td>256.72</td>\n",
              "      <td>49854</td>\n",
              "    </tr>\n",
              "    <tr>\n",
              "      <th>gate_40</th>\n",
              "      <td>45489</td>\n",
              "      <td>51.30</td>\n",
              "      <td>16.00</td>\n",
              "      <td>103.29</td>\n",
              "      <td>2640</td>\n",
              "    </tr>\n",
              "  </tbody>\n",
              "</table>\n",
              "</div>\n",
              "      <button class=\"colab-df-convert\" onclick=\"convertToInteractive('df-15e495e8-09f3-471e-a590-802fb6573f51')\"\n",
              "              title=\"Convert this dataframe to an interactive table.\"\n",
              "              style=\"display:none;\">\n",
              "        \n",
              "  <svg xmlns=\"http://www.w3.org/2000/svg\" height=\"24px\"viewBox=\"0 0 24 24\"\n",
              "       width=\"24px\">\n",
              "    <path d=\"M0 0h24v24H0V0z\" fill=\"none\"/>\n",
              "    <path d=\"M18.56 5.44l.94 2.06.94-2.06 2.06-.94-2.06-.94-.94-2.06-.94 2.06-2.06.94zm-11 1L8.5 8.5l.94-2.06 2.06-.94-2.06-.94L8.5 2.5l-.94 2.06-2.06.94zm10 10l.94 2.06.94-2.06 2.06-.94-2.06-.94-.94-2.06-.94 2.06-2.06.94z\"/><path d=\"M17.41 7.96l-1.37-1.37c-.4-.4-.92-.59-1.43-.59-.52 0-1.04.2-1.43.59L10.3 9.45l-7.72 7.72c-.78.78-.78 2.05 0 2.83L4 21.41c.39.39.9.59 1.41.59.51 0 1.02-.2 1.41-.59l7.78-7.78 2.81-2.81c.8-.78.8-2.07 0-2.86zM5.41 20L4 18.59l7.72-7.72 1.47 1.35L5.41 20z\"/>\n",
              "  </svg>\n",
              "      </button>\n",
              "      \n",
              "  <style>\n",
              "    .colab-df-container {\n",
              "      display:flex;\n",
              "      flex-wrap:wrap;\n",
              "      gap: 12px;\n",
              "    }\n",
              "\n",
              "    .colab-df-convert {\n",
              "      background-color: #E8F0FE;\n",
              "      border: none;\n",
              "      border-radius: 50%;\n",
              "      cursor: pointer;\n",
              "      display: none;\n",
              "      fill: #1967D2;\n",
              "      height: 32px;\n",
              "      padding: 0 0 0 0;\n",
              "      width: 32px;\n",
              "    }\n",
              "\n",
              "    .colab-df-convert:hover {\n",
              "      background-color: #E2EBFA;\n",
              "      box-shadow: 0px 1px 2px rgba(60, 64, 67, 0.3), 0px 1px 3px 1px rgba(60, 64, 67, 0.15);\n",
              "      fill: #174EA6;\n",
              "    }\n",
              "\n",
              "    [theme=dark] .colab-df-convert {\n",
              "      background-color: #3B4455;\n",
              "      fill: #D2E3FC;\n",
              "    }\n",
              "\n",
              "    [theme=dark] .colab-df-convert:hover {\n",
              "      background-color: #434B5C;\n",
              "      box-shadow: 0px 1px 3px 1px rgba(0, 0, 0, 0.15);\n",
              "      filter: drop-shadow(0px 1px 2px rgba(0, 0, 0, 0.3));\n",
              "      fill: #FFFFFF;\n",
              "    }\n",
              "  </style>\n",
              "\n",
              "      <script>\n",
              "        const buttonEl =\n",
              "          document.querySelector('#df-15e495e8-09f3-471e-a590-802fb6573f51 button.colab-df-convert');\n",
              "        buttonEl.style.display =\n",
              "          google.colab.kernel.accessAllowed ? 'block' : 'none';\n",
              "\n",
              "        async function convertToInteractive(key) {\n",
              "          const element = document.querySelector('#df-15e495e8-09f3-471e-a590-802fb6573f51');\n",
              "          const dataTable =\n",
              "            await google.colab.kernel.invokeFunction('convertToInteractive',\n",
              "                                                     [key], {});\n",
              "          if (!dataTable) return;\n",
              "\n",
              "          const docLinkHtml = 'Like what you see? Visit the ' +\n",
              "            '<a target=\"_blank\" href=https://colab.research.google.com/notebooks/data_table.ipynb>data table notebook</a>'\n",
              "            + ' to learn more about interactive tables.';\n",
              "          element.innerHTML = '';\n",
              "          dataTable['output_type'] = 'display_data';\n",
              "          await google.colab.output.renderOutput(dataTable, element);\n",
              "          const docLink = document.createElement('div');\n",
              "          docLink.innerHTML = docLinkHtml;\n",
              "          element.appendChild(docLink);\n",
              "        }\n",
              "      </script>\n",
              "    </div>\n",
              "  </div>\n",
              "  "
            ]
          },
          "metadata": {},
          "execution_count": 10
        }
      ],
      "source": [
        "# Grouped by control and treatment groups\n",
        "\n",
        "data.groupby('version')['sum_gamerounds'].agg(['count', 'mean', 'median', 'std', 'max'])"
      ]
    },
    {
      "cell_type": "markdown",
      "id": "6a5a3d96",
      "metadata": {
        "papermill": {
          "duration": 0.01999,
          "end_time": "2022-08-24T13:08:27.007930",
          "exception": false,
          "start_time": "2022-08-24T13:08:26.987940",
          "status": "completed"
        },
        "tags": [],
        "id": "6a5a3d96"
      },
      "source": [
        "Looking at the two groups visually, we can see there is an outlier in the `gate_30` group. This will be skewing the data."
      ]
    },
    {
      "cell_type": "code",
      "execution_count": null,
      "id": "5a66da21",
      "metadata": {
        "execution": {
          "iopub.execute_input": "2022-08-24T13:08:27.051497Z",
          "iopub.status.busy": "2022-08-24T13:08:27.050626Z",
          "iopub.status.idle": "2022-08-24T13:08:28.403338Z",
          "shell.execute_reply": "2022-08-24T13:08:28.401964Z"
        },
        "papermill": {
          "duration": 1.377636,
          "end_time": "2022-08-24T13:08:28.406312",
          "exception": false,
          "start_time": "2022-08-24T13:08:27.028676",
          "status": "completed"
        },
        "tags": [],
        "colab": {
          "base_uri": "https://localhost:8080/",
          "height": 429
        },
        "id": "5a66da21",
        "outputId": "deb42e80-2064-4a0a-e1d7-45ee5819f9aa"
      },
      "outputs": [
        {
          "output_type": "display_data",
          "data": {
            "text/plain": [
              "<Figure size 1490.4x595.44 with 4 Axes>"
            ],
            "image/png": "[encoded data removed]"
          },
          "metadata": {}
        }
      ],
      "source": [
        "fig, axes = plt.subplots(2, 2)\n",
        "\n",
        "sns.histplot(data['sum_gamerounds'], bins=100, ax=axes[0,0])\n",
        "sns.histplot(data[data['version'] == 'gate_30']['sum_gamerounds'], bins=100, ax=axes[0,1])\n",
        "sns.histplot(data[data['version'] == 'gate_40']['sum_gamerounds'], bins=100, ax=axes[1,0])\n",
        "sns.boxplot(x='version', y='sum_gamerounds', data=data, ax=axes[1,1])\n",
        "\n",
        "axes[0,0].set_title('Dist of sum_gamerounds')\n",
        "fig.tight_layout(pad=3.0)\n",
        "axes[0,1].set_title('Dist of Control (gate_30)')\n",
        "axes[1,0].set_title('Dist of Treatment (gate_40)')\n",
        "axes[1,1].set_title('Boxplot of Control and Treatment groups')\n",
        "plt.show()"
      ]
    },
    {
      "cell_type": "code",
      "execution_count": null,
      "id": "7841e630",
      "metadata": {
        "execution": {
          "iopub.execute_input": "2022-08-24T13:08:28.450136Z",
          "iopub.status.busy": "2022-08-24T13:08:28.449111Z",
          "iopub.status.idle": "2022-08-24T13:08:28.470770Z",
          "shell.execute_reply": "2022-08-24T13:08:28.469264Z"
        },
        "papermill": {
          "duration": 0.047291,
          "end_time": "2022-08-24T13:08:28.474118",
          "exception": false,
          "start_time": "2022-08-24T13:08:28.426827",
          "status": "completed"
        },
        "tags": [],
        "colab": {
          "base_uri": "https://localhost:8080/"
        },
        "id": "7841e630",
        "outputId": "ae4a6593-d3c9-4438-b7d7-b47e8654e750"
      },
      "outputs": [
        {
          "output_type": "execute_result",
          "data": {
            "text/plain": [
              "1    90188\n",
              "2        0\n",
              "3        0\n",
              "4        0\n",
              "5        1\n",
              "Name: sum_gamerounds, dtype: int64"
            ]
          },
          "metadata": {},
          "execution_count": 12
        }
      ],
      "source": [
        "# Binning sum_gamerounds into 5 arbitrary size bins to get a feel for how many outliers there are\n",
        "\n",
        "rounds_bins = pd.cut(data['sum_gamerounds'], 5, labels=[i+1 for i in range(5)])\n",
        "rounds_bins.value_counts().sort_index()"
      ]
    },
    {
      "cell_type": "markdown",
      "id": "de5f1c8e",
      "metadata": {
        "papermill": {
          "duration": 0.020288,
          "end_time": "2022-08-24T13:08:28.515816",
          "exception": false,
          "start_time": "2022-08-24T13:08:28.495528",
          "status": "completed"
        },
        "tags": [],
        "id": "de5f1c8e"
      },
      "source": [
        "This means that if the data was sorted into 5 arbitrary but equal bins by `sum_gamecount`, 90,188 of the values would be in bin one, and one value would be in bin five, with no values in bins two, three, or four. \n",
        "\n",
        "The data is telling us that a user played ~50,000 games in the first week after downloading, which if true, is kinda impressive. I am are going to remove the outlier."
      ]
    },
    {
      "cell_type": "code",
      "execution_count": null,
      "id": "2afd4b36",
      "metadata": {
        "execution": {
          "iopub.execute_input": "2022-08-24T13:08:28.560253Z",
          "iopub.status.busy": "2022-08-24T13:08:28.558955Z",
          "iopub.status.idle": "2022-08-24T13:08:28.574566Z",
          "shell.execute_reply": "2022-08-24T13:08:28.572993Z"
        },
        "papermill": {
          "duration": 0.041289,
          "end_time": "2022-08-24T13:08:28.577704",
          "exception": false,
          "start_time": "2022-08-24T13:08:28.536415",
          "status": "completed"
        },
        "tags": [],
        "id": "2afd4b36"
      },
      "outputs": [],
      "source": [
        "data = data[data['sum_gamerounds'] < data['sum_gamerounds'].max()]"
      ]
    },
    {
      "cell_type": "code",
      "execution_count": null,
      "id": "b9544261",
      "metadata": {
        "execution": {
          "iopub.execute_input": "2022-08-24T13:08:28.622295Z",
          "iopub.status.busy": "2022-08-24T13:08:28.621709Z",
          "iopub.status.idle": "2022-08-24T13:08:28.681839Z",
          "shell.execute_reply": "2022-08-24T13:08:28.680038Z"
        },
        "papermill": {
          "duration": 0.086296,
          "end_time": "2022-08-24T13:08:28.685095",
          "exception": false,
          "start_time": "2022-08-24T13:08:28.598799",
          "status": "completed"
        },
        "tags": [],
        "colab": {
          "base_uri": "https://localhost:8080/",
          "height": 238
        },
        "id": "b9544261",
        "outputId": "ce8d6106-7bfa-45dc-ef70-81d9a596dc96"
      },
      "outputs": [
        {
          "output_type": "display_data",
          "data": {
            "text/plain": [
              "                   count         mean          std    min          25%  \\\n",
              "userid         90,188.00 4,998,396.80 2,883,297.87 116.00 2,512,211.25   \n",
              "sum_gamerounds 90,188.00        51.32       102.68   0.00         5.00   \n",
              "\n",
              "                        50%          75%          max  \n",
              "userid         4,995,804.00 7,496,460.75 9,999,861.00  \n",
              "sum_gamerounds        16.00        51.00     2,961.00  "
            ],
            "text/html": [
              "\n",
              "  <div id=\"df-2e950593-983d-457e-b166-db99d7979b7a\">\n",
              "    <div class=\"colab-df-container\">\n",
              "      <div>\n",
              "<style scoped>\n",
              "    .dataframe tbody tr th:only-of-type {\n",
              "        vertical-align: middle;\n",
              "    }\n",
              "\n",
              "    .dataframe tbody tr th {\n",
              "        vertical-align: top;\n",
              "    }\n",
              "\n",
              "    .dataframe thead th {\n",
              "        text-align: right;\n",
              "    }\n",
              "</style>\n",
              "<table border=\"1\" class=\"dataframe\">\n",
              "  <thead>\n",
              "    <tr style=\"text-align: right;\">\n",
              "      <th></th>\n",
              "      <th>count</th>\n",
              "      <th>mean</th>\n",
              "      <th>std</th>\n",
              "      <th>min</th>\n",
              "      <th>25%</th>\n",
              "      <th>50%</th>\n",
              "      <th>75%</th>\n",
              "      <th>max</th>\n",
              "    </tr>\n",
              "  </thead>\n",
              "  <tbody>\n",
              "    <tr>\n",
              "      <th>userid</th>\n",
              "      <td>90,188.00</td>\n",
              "      <td>4,998,396.80</td>\n",
              "      <td>2,883,297.87</td>\n",
              "      <td>116.00</td>\n",
              "      <td>2,512,211.25</td>\n",
              "      <td>4,995,804.00</td>\n",
              "      <td>7,496,460.75</td>\n",
              "      <td>9,999,861.00</td>\n",
              "    </tr>\n",
              "    <tr>\n",
              "      <th>sum_gamerounds</th>\n",
              "      <td>90,188.00</td>\n",
              "      <td>51.32</td>\n",
              "      <td>102.68</td>\n",
              "      <td>0.00</td>\n",
              "      <td>5.00</td>\n",
              "      <td>16.00</td>\n",
              "      <td>51.00</td>\n",
              "      <td>2,961.00</td>\n",
              "    </tr>\n",
              "  </tbody>\n",
              "</table>\n",
              "</div>\n",
              "      <button class=\"colab-df-convert\" onclick=\"convertToInteractive('df-2e950593-983d-457e-b166-db99d7979b7a')\"\n",
              "              title=\"Convert this dataframe to an interactive table.\"\n",
              "              style=\"display:none;\">\n",
              "        \n",
              "  <svg xmlns=\"http://www.w3.org/2000/svg\" height=\"24px\"viewBox=\"0 0 24 24\"\n",
              "       width=\"24px\">\n",
              "    <path d=\"M0 0h24v24H0V0z\" fill=\"none\"/>\n",
              "    <path d=\"M18.56 5.44l.94 2.06.94-2.06 2.06-.94-2.06-.94-.94-2.06-.94 2.06-2.06.94zm-11 1L8.5 8.5l.94-2.06 2.06-.94-2.06-.94L8.5 2.5l-.94 2.06-2.06.94zm10 10l.94 2.06.94-2.06 2.06-.94-2.06-.94-.94-2.06-.94 2.06-2.06.94z\"/><path d=\"M17.41 7.96l-1.37-1.37c-.4-.4-.92-.59-1.43-.59-.52 0-1.04.2-1.43.59L10.3 9.45l-7.72 7.72c-.78.78-.78 2.05 0 2.83L4 21.41c.39.39.9.59 1.41.59.51 0 1.02-.2 1.41-.59l7.78-7.78 2.81-2.81c.8-.78.8-2.07 0-2.86zM5.41 20L4 18.59l7.72-7.72 1.47 1.35L5.41 20z\"/>\n",
              "  </svg>\n",
              "      </button>\n",
              "      \n",
              "  <style>\n",
              "    .colab-df-container {\n",
              "      display:flex;\n",
              "      flex-wrap:wrap;\n",
              "      gap: 12px;\n",
              "    }\n",
              "\n",
              "    .colab-df-convert {\n",
              "      background-color: #E8F0FE;\n",
              "      border: none;\n",
              "      border-radius: 50%;\n",
              "      cursor: pointer;\n",
              "      display: none;\n",
              "      fill: #1967D2;\n",
              "      height: 32px;\n",
              "      padding: 0 0 0 0;\n",
              "      width: 32px;\n",
              "    }\n",
              "\n",
              "    .colab-df-convert:hover {\n",
              "      background-color: #E2EBFA;\n",
              "      box-shadow: 0px 1px 2px rgba(60, 64, 67, 0.3), 0px 1px 3px 1px rgba(60, 64, 67, 0.15);\n",
              "      fill: #174EA6;\n",
              "    }\n",
              "\n",
              "    [theme=dark] .colab-df-convert {\n",
              "      background-color: #3B4455;\n",
              "      fill: #D2E3FC;\n",
              "    }\n",
              "\n",
              "    [theme=dark] .colab-df-convert:hover {\n",
              "      background-color: #434B5C;\n",
              "      box-shadow: 0px 1px 3px 1px rgba(0, 0, 0, 0.15);\n",
              "      filter: drop-shadow(0px 1px 2px rgba(0, 0, 0, 0.3));\n",
              "      fill: #FFFFFF;\n",
              "    }\n",
              "  </style>\n",
              "\n",
              "      <script>\n",
              "        const buttonEl =\n",
              "          document.querySelector('#df-2e950593-983d-457e-b166-db99d7979b7a button.colab-df-convert');\n",
              "        buttonEl.style.display =\n",
              "          google.colab.kernel.accessAllowed ? 'block' : 'none';\n",
              "\n",
              "        async function convertToInteractive(key) {\n",
              "          const element = document.querySelector('#df-2e950593-983d-457e-b166-db99d7979b7a');\n",
              "          const dataTable =\n",
              "            await google.colab.kernel.invokeFunction('convertToInteractive',\n",
              "                                                     [key], {});\n",
              "          if (!dataTable) return;\n",
              "\n",
              "          const docLinkHtml = 'Like what you see? Visit the ' +\n",
              "            '<a target=\"_blank\" href=https://colab.research.google.com/notebooks/data_table.ipynb>data table notebook</a>'\n",
              "            + ' to learn more about interactive tables.';\n",
              "          element.innerHTML = '';\n",
              "          dataTable['output_type'] = 'display_data';\n",
              "          await google.colab.output.renderOutput(dataTable, element);\n",
              "          const docLink = document.createElement('div');\n",
              "          docLink.innerHTML = docLinkHtml;\n",
              "          element.appendChild(docLink);\n",
              "        }\n",
              "      </script>\n",
              "    </div>\n",
              "  </div>\n",
              "  "
            ]
          },
          "metadata": {}
        },
        {
          "output_type": "display_data",
          "data": {
            "text/plain": [
              "         count  mean  median    std   max\n",
              "version                                  \n",
              "gate_30  44699 51.34   17.00 102.06  2961\n",
              "gate_40  45489 51.30   16.00 103.29  2640"
            ],
            "text/html": [
              "\n",
              "  <div id=\"df-7990474e-826a-4d90-9bba-18ea66a04b53\">\n",
              "    <div class=\"colab-df-container\">\n",
              "      <div>\n",
              "<style scoped>\n",
              "    .dataframe tbody tr th:only-of-type {\n",
              "        vertical-align: middle;\n",
              "    }\n",
              "\n",
              "    .dataframe tbody tr th {\n",
              "        vertical-align: top;\n",
              "    }\n",
              "\n",
              "    .dataframe thead th {\n",
              "        text-align: right;\n",
              "    }\n",
              "</style>\n",
              "<table border=\"1\" class=\"dataframe\">\n",
              "  <thead>\n",
              "    <tr style=\"text-align: right;\">\n",
              "      <th></th>\n",
              "      <th>count</th>\n",
              "      <th>mean</th>\n",
              "      <th>median</th>\n",
              "      <th>std</th>\n",
              "      <th>max</th>\n",
              "    </tr>\n",
              "    <tr>\n",
              "      <th>version</th>\n",
              "      <th></th>\n",
              "      <th></th>\n",
              "      <th></th>\n",
              "      <th></th>\n",
              "      <th></th>\n",
              "    </tr>\n",
              "  </thead>\n",
              "  <tbody>\n",
              "    <tr>\n",
              "      <th>gate_30</th>\n",
              "      <td>44699</td>\n",
              "      <td>51.34</td>\n",
              "      <td>17.00</td>\n",
              "      <td>102.06</td>\n",
              "      <td>2961</td>\n",
              "    </tr>\n",
              "    <tr>\n",
              "      <th>gate_40</th>\n",
              "      <td>45489</td>\n",
              "      <td>51.30</td>\n",
              "      <td>16.00</td>\n",
              "      <td>103.29</td>\n",
              "      <td>2640</td>\n",
              "    </tr>\n",
              "  </tbody>\n",
              "</table>\n",
              "</div>\n",
              "      <button class=\"colab-df-convert\" onclick=\"convertToInteractive('df-7990474e-826a-4d90-9bba-18ea66a04b53')\"\n",
              "              title=\"Convert this dataframe to an interactive table.\"\n",
              "              style=\"display:none;\">\n",
              "        \n",
              "  <svg xmlns=\"http://www.w3.org/2000/svg\" height=\"24px\"viewBox=\"0 0 24 24\"\n",
              "       width=\"24px\">\n",
              "    <path d=\"M0 0h24v24H0V0z\" fill=\"none\"/>\n",
              "    <path d=\"M18.56 5.44l.94 2.06.94-2.06 2.06-.94-2.06-.94-.94-2.06-.94 2.06-2.06.94zm-11 1L8.5 8.5l.94-2.06 2.06-.94-2.06-.94L8.5 2.5l-.94 2.06-2.06.94zm10 10l.94 2.06.94-2.06 2.06-.94-2.06-.94-.94-2.06-.94 2.06-2.06.94z\"/><path d=\"M17.41 7.96l-1.37-1.37c-.4-.4-.92-.59-1.43-.59-.52 0-1.04.2-1.43.59L10.3 9.45l-7.72 7.72c-.78.78-.78 2.05 0 2.83L4 21.41c.39.39.9.59 1.41.59.51 0 1.02-.2 1.41-.59l7.78-7.78 2.81-2.81c.8-.78.8-2.07 0-2.86zM5.41 20L4 18.59l7.72-7.72 1.47 1.35L5.41 20z\"/>\n",
              "  </svg>\n",
              "      </button>\n",
              "      \n",
              "  <style>\n",
              "    .colab-df-container {\n",
              "      display:flex;\n",
              "      flex-wrap:wrap;\n",
              "      gap: 12px;\n",
              "    }\n",
              "\n",
              "    .colab-df-convert {\n",
              "      background-color: #E8F0FE;\n",
              "      border: none;\n",
              "      border-radius: 50%;\n",
              "      cursor: pointer;\n",
              "      display: none;\n",
              "      fill: #1967D2;\n",
              "      height: 32px;\n",
              "      padding: 0 0 0 0;\n",
              "      width: 32px;\n",
              "    }\n",
              "\n",
              "    .colab-df-convert:hover {\n",
              "      background-color: #E2EBFA;\n",
              "      box-shadow: 0px 1px 2px rgba(60, 64, 67, 0.3), 0px 1px 3px 1px rgba(60, 64, 67, 0.15);\n",
              "      fill: #174EA6;\n",
              "    }\n",
              "\n",
              "    [theme=dark] .colab-df-convert {\n",
              "      background-color: #3B4455;\n",
              "      fill: #D2E3FC;\n",
              "    }\n",
              "\n",
              "    [theme=dark] .colab-df-convert:hover {\n",
              "      background-color: #434B5C;\n",
              "      box-shadow: 0px 1px 3px 1px rgba(0, 0, 0, 0.15);\n",
              "      filter: drop-shadow(0px 1px 2px rgba(0, 0, 0, 0.3));\n",
              "      fill: #FFFFFF;\n",
              "    }\n",
              "  </style>\n",
              "\n",
              "      <script>\n",
              "        const buttonEl =\n",
              "          document.querySelector('#df-7990474e-826a-4d90-9bba-18ea66a04b53 button.colab-df-convert');\n",
              "        buttonEl.style.display =\n",
              "          google.colab.kernel.accessAllowed ? 'block' : 'none';\n",
              "\n",
              "        async function convertToInteractive(key) {\n",
              "          const element = document.querySelector('#df-7990474e-826a-4d90-9bba-18ea66a04b53');\n",
              "          const dataTable =\n",
              "            await google.colab.kernel.invokeFunction('convertToInteractive',\n",
              "                                                     [key], {});\n",
              "          if (!dataTable) return;\n",
              "\n",
              "          const docLinkHtml = 'Like what you see? Visit the ' +\n",
              "            '<a target=\"_blank\" href=https://colab.research.google.com/notebooks/data_table.ipynb>data table notebook</a>'\n",
              "            + ' to learn more about interactive tables.';\n",
              "          element.innerHTML = '';\n",
              "          dataTable['output_type'] = 'display_data';\n",
              "          await google.colab.output.renderOutput(dataTable, element);\n",
              "          const docLink = document.createElement('div');\n",
              "          docLink.innerHTML = docLinkHtml;\n",
              "          element.appendChild(docLink);\n",
              "        }\n",
              "      </script>\n",
              "    </div>\n",
              "  </div>\n",
              "  "
            ]
          },
          "metadata": {}
        }
      ],
      "source": [
        "# Checking descriptive stats of without outlier\n",
        "\n",
        "display(data.describe().T)\n",
        "display(data.groupby('version')['sum_gamerounds'].agg(['count', 'mean', 'median', 'std', 'max']))"
      ]
    },
    {
      "cell_type": "code",
      "execution_count": null,
      "id": "b9da45f8",
      "metadata": {
        "execution": {
          "iopub.execute_input": "2022-08-24T13:08:28.730547Z",
          "iopub.status.busy": "2022-08-24T13:08:28.729779Z",
          "iopub.status.idle": "2022-08-24T13:08:30.297228Z",
          "shell.execute_reply": "2022-08-24T13:08:30.295618Z"
        },
        "papermill": {
          "duration": 1.593836,
          "end_time": "2022-08-24T13:08:30.300710",
          "exception": false,
          "start_time": "2022-08-24T13:08:28.706874",
          "status": "completed"
        },
        "tags": [],
        "colab": {
          "base_uri": "https://localhost:8080/",
          "height": 429
        },
        "id": "b9da45f8",
        "outputId": "159292cf-581d-4d0a-e53a-d740a42e6131"
      },
      "outputs": [
        {
          "output_type": "display_data",
          "data": {
            "text/plain": [
              "<Figure size 1490.4x595.44 with 4 Axes>"
            ],
            "image/png": "[encoded data removed]"
          },
          "metadata": {}
        }
      ],
      "source": [
        "# Re-plotting without outlier\n",
        "\n",
        "fig, axes = plt.subplots(2, 2)\n",
        "\n",
        "sns.histplot(data['sum_gamerounds'], bins=100, ax=axes[0,0])\n",
        "sns.histplot(data[data['version'] == 'gate_30']['sum_gamerounds'], bins=100, ax=axes[0,1])\n",
        "sns.histplot(data[data['version'] == 'gate_40']['sum_gamerounds'], bins=100, ax=axes[1,0])\n",
        "sns.boxplot(x='version', y='sum_gamerounds', data=data, ax=axes[1,1])\n",
        "\n",
        "axes[0,0].set_title('Dist of sum_gamerounds')\n",
        "fig.tight_layout(pad=3.0)\n",
        "axes[0,1].set_title('Dist of Control (gate_30)')\n",
        "axes[1,0].set_title('Dist of Treatment (gate_40)')\n",
        "axes[1,1].set_title('Boxplot of Control and Treatment groups')\n",
        "plt.show()"
      ]
    },
    {
      "cell_type": "markdown",
      "id": "d45b64dd",
      "metadata": {
        "papermill": {
          "duration": 0.021352,
          "end_time": "2022-08-24T13:08:30.344782",
          "exception": false,
          "start_time": "2022-08-24T13:08:30.323430",
          "status": "completed"
        },
        "tags": [],
        "id": "d45b64dd"
      },
      "source": [
        "Boxplots and some stats (mean, std) look more representative of the sample. There is still a skew.\n",
        "\n",
        "### Univariate - Gamerounds played\n",
        "\n",
        "Starting with the number of players to reach n rounds and a cumulative sum."
      ]
    },
    {
      "cell_type": "code",
      "execution_count": null,
      "id": "73f22b9e",
      "metadata": {
        "execution": {
          "iopub.execute_input": "2022-08-24T13:08:30.391022Z",
          "iopub.status.busy": "2022-08-24T13:08:30.390015Z",
          "iopub.status.idle": "2022-08-24T13:08:30.405828Z",
          "shell.execute_reply": "2022-08-24T13:08:30.404585Z"
        },
        "papermill": {
          "duration": 0.042694,
          "end_time": "2022-08-24T13:08:30.409082",
          "exception": false,
          "start_time": "2022-08-24T13:08:30.366388",
          "status": "completed"
        },
        "tags": [],
        "id": "73f22b9e"
      },
      "outputs": [],
      "source": [
        "# Cumulative sum for total sample\n",
        "def create_gamerounds(df):\n",
        "    '''Return a dataframe with sum_gamerounds, cound, percent_count, cumsum, percent_cumsum'''\n",
        "    gamerounds = df.groupby('sum_gamerounds')['userid'].agg(['count']).reset_index()\n",
        "    gamerounds['percent_count'] = gamerounds['count'] / df.shape[0] * 100\n",
        "    gamerounds['cumsum'] = gamerounds['count'].cumsum()\n",
        "    gamerounds['percent_cumsum'] = gamerounds['cumsum'] / df.shape[0] * 100\n",
        "    return gamerounds\n",
        "    \n",
        "gamerounds_tot = create_gamerounds(data)"
      ]
    },
    {
      "cell_type": "code",
      "execution_count": null,
      "id": "497bb539",
      "metadata": {
        "execution": {
          "iopub.execute_input": "2022-08-24T13:08:30.458723Z",
          "iopub.status.busy": "2022-08-24T13:08:30.457412Z",
          "iopub.status.idle": "2022-08-24T13:08:30.472597Z",
          "shell.execute_reply": "2022-08-24T13:08:30.471240Z"
        },
        "papermill": {
          "duration": 0.044037,
          "end_time": "2022-08-24T13:08:30.475791",
          "exception": false,
          "start_time": "2022-08-24T13:08:30.431754",
          "status": "completed"
        },
        "tags": [],
        "colab": {
          "base_uri": "https://localhost:8080/",
          "height": 676
        },
        "id": "497bb539",
        "outputId": "2151f953-84fc-4673-e651-18ae755ef983"
      },
      "outputs": [
        {
          "output_type": "execute_result",
          "data": {
            "text/plain": [
              "    sum_gamerounds  count  percent_count  cumsum  percent_cumsum\n",
              "0                0   3994           4.43    3994            4.43\n",
              "1                1   5538           6.14    9532           10.57\n",
              "2                2   4606           5.11   14138           15.68\n",
              "3                3   3958           4.39   18096           20.06\n",
              "4                4   3629           4.02   21725           24.09\n",
              "5                5   2992           3.32   24717           27.41\n",
              "6                6   2861           3.17   27578           30.58\n",
              "7                7   2379           2.64   29957           33.22\n",
              "8                8   2267           2.51   32224           35.73\n",
              "9                9   2013           2.23   34237           37.96\n",
              "10              10   1752           1.94   35989           39.90\n",
              "11              11   1654           1.83   37643           41.74\n",
              "12              12   1570           1.74   39213           43.48\n",
              "13              13   1594           1.77   40807           45.25\n",
              "14              14   1519           1.68   42326           46.93\n",
              "15              15   1446           1.60   43772           48.53\n",
              "16              16   1342           1.49   45114           50.02\n",
              "17              17   1269           1.41   46383           51.43\n",
              "18              18   1228           1.36   47611           52.79\n",
              "19              19   1158           1.28   48769           54.07"
            ],
            "text/html": [
              "\n",
              "  <div id=\"df-d3a2c24c-3aff-4a1d-bee7-8160aa2f16b0\">\n",
              "    <div class=\"colab-df-container\">\n",
              "      <div>\n",
              "<style scoped>\n",
              "    .dataframe tbody tr th:only-of-type {\n",
              "        vertical-align: middle;\n",
              "    }\n",
              "\n",
              "    .dataframe tbody tr th {\n",
              "        vertical-align: top;\n",
              "    }\n",
              "\n",
              "    .dataframe thead th {\n",
              "        text-align: right;\n",
              "    }\n",
              "</style>\n",
              "<table border=\"1\" class=\"dataframe\">\n",
              "  <thead>\n",
              "    <tr style=\"text-align: right;\">\n",
              "      <th></th>\n",
              "      <th>sum_gamerounds</th>\n",
              "      <th>count</th>\n",
              "      <th>percent_count</th>\n",
              "      <th>cumsum</th>\n",
              "      <th>percent_cumsum</th>\n",
              "    </tr>\n",
              "  </thead>\n",
              "  <tbody>\n",
              "    <tr>\n",
              "      <th>0</th>\n",
              "      <td>0</td>\n",
              "      <td>3994</td>\n",
              "      <td>4.43</td>\n",
              "      <td>3994</td>\n",
              "      <td>4.43</td>\n",
              "    </tr>\n",
              "    <tr>\n",
              "      <th>1</th>\n",
              "      <td>1</td>\n",
              "      <td>5538</td>\n",
              "      <td>6.14</td>\n",
              "      <td>9532</td>\n",
              "      <td>10.57</td>\n",
              "    </tr>\n",
              "    <tr>\n",
              "      <th>2</th>\n",
              "      <td>2</td>\n",
              "      <td>4606</td>\n",
              "      <td>5.11</td>\n",
              "      <td>14138</td>\n",
              "      <td>15.68</td>\n",
              "    </tr>\n",
              "    <tr>\n",
              "      <th>3</th>\n",
              "      <td>3</td>\n",
              "      <td>3958</td>\n",
              "      <td>4.39</td>\n",
              "      <td>18096</td>\n",
              "      <td>20.06</td>\n",
              "    </tr>\n",
              "    <tr>\n",
              "      <th>4</th>\n",
              "      <td>4</td>\n",
              "      <td>3629</td>\n",
              "      <td>4.02</td>\n",
              "      <td>21725</td>\n",
              "      <td>24.09</td>\n",
              "    </tr>\n",
              "    <tr>\n",
              "      <th>5</th>\n",
              "      <td>5</td>\n",
              "      <td>2992</td>\n",
              "      <td>3.32</td>\n",
              "      <td>24717</td>\n",
              "      <td>27.41</td>\n",
              "    </tr>\n",
              "    <tr>\n",
              "      <th>6</th>\n",
              "      <td>6</td>\n",
              "      <td>2861</td>\n",
              "      <td>3.17</td>\n",
              "      <td>27578</td>\n",
              "      <td>30.58</td>\n",
              "    </tr>\n",
              "    <tr>\n",
              "      <th>7</th>\n",
              "      <td>7</td>\n",
              "      <td>2379</td>\n",
              "      <td>2.64</td>\n",
              "      <td>29957</td>\n",
              "      <td>33.22</td>\n",
              "    </tr>\n",
              "    <tr>\n",
              "      <th>8</th>\n",
              "      <td>8</td>\n",
              "      <td>2267</td>\n",
              "      <td>2.51</td>\n",
              "      <td>32224</td>\n",
              "      <td>35.73</td>\n",
              "    </tr>\n",
              "    <tr>\n",
              "      <th>9</th>\n",
              "      <td>9</td>\n",
              "      <td>2013</td>\n",
              "      <td>2.23</td>\n",
              "      <td>34237</td>\n",
              "      <td>37.96</td>\n",
              "    </tr>\n",
              "    <tr>\n",
              "      <th>10</th>\n",
              "      <td>10</td>\n",
              "      <td>1752</td>\n",
              "      <td>1.94</td>\n",
              "      <td>35989</td>\n",
              "      <td>39.90</td>\n",
              "    </tr>\n",
              "    <tr>\n",
              "      <th>11</th>\n",
              "      <td>11</td>\n",
              "      <td>1654</td>\n",
              "      <td>1.83</td>\n",
              "      <td>37643</td>\n",
              "      <td>41.74</td>\n",
              "    </tr>\n",
              "    <tr>\n",
              "      <th>12</th>\n",
              "      <td>12</td>\n",
              "      <td>1570</td>\n",
              "      <td>1.74</td>\n",
              "      <td>39213</td>\n",
              "      <td>43.48</td>\n",
              "    </tr>\n",
              "    <tr>\n",
              "      <th>13</th>\n",
              "      <td>13</td>\n",
              "      <td>1594</td>\n",
              "      <td>1.77</td>\n",
              "      <td>40807</td>\n",
              "      <td>45.25</td>\n",
              "    </tr>\n",
              "    <tr>\n",
              "      <th>14</th>\n",
              "      <td>14</td>\n",
              "      <td>1519</td>\n",
              "      <td>1.68</td>\n",
              "      <td>42326</td>\n",
              "      <td>46.93</td>\n",
              "    </tr>\n",
              "    <tr>\n",
              "      <th>15</th>\n",
              "      <td>15</td>\n",
              "      <td>1446</td>\n",
              "      <td>1.60</td>\n",
              "      <td>43772</td>\n",
              "      <td>48.53</td>\n",
              "    </tr>\n",
              "    <tr>\n",
              "      <th>16</th>\n",
              "      <td>16</td>\n",
              "      <td>1342</td>\n",
              "      <td>1.49</td>\n",
              "      <td>45114</td>\n",
              "      <td>50.02</td>\n",
              "    </tr>\n",
              "    <tr>\n",
              "      <th>17</th>\n",
              "      <td>17</td>\n",
              "      <td>1269</td>\n",
              "      <td>1.41</td>\n",
              "      <td>46383</td>\n",
              "      <td>51.43</td>\n",
              "    </tr>\n",
              "    <tr>\n",
              "      <th>18</th>\n",
              "      <td>18</td>\n",
              "      <td>1228</td>\n",
              "      <td>1.36</td>\n",
              "      <td>47611</td>\n",
              "      <td>52.79</td>\n",
              "    </tr>\n",
              "    <tr>\n",
              "      <th>19</th>\n",
              "      <td>19</td>\n",
              "      <td>1158</td>\n",
              "      <td>1.28</td>\n",
              "      <td>48769</td>\n",
              "      <td>54.07</td>\n",
              "    </tr>\n",
              "  </tbody>\n",
              "</table>\n",
              "</div>\n",
              "      <button class=\"colab-df-convert\" onclick=\"convertToInteractive('df-d3a2c24c-3aff-4a1d-bee7-8160aa2f16b0')\"\n",
              "              title=\"Convert this dataframe to an interactive table.\"\n",
              "              style=\"display:none;\">\n",
              "        \n",
              "  <svg xmlns=\"http://www.w3.org/2000/svg\" height=\"24px\"viewBox=\"0 0 24 24\"\n",
              "       width=\"24px\">\n",
              "    <path d=\"M0 0h24v24H0V0z\" fill=\"none\"/>\n",
              "    <path d=\"M18.56 5.44l.94 2.06.94-2.06 2.06-.94-2.06-.94-.94-2.06-.94 2.06-2.06.94zm-11 1L8.5 8.5l.94-2.06 2.06-.94-2.06-.94L8.5 2.5l-.94 2.06-2.06.94zm10 10l.94 2.06.94-2.06 2.06-.94-2.06-.94-.94-2.06-.94 2.06-2.06.94z\"/><path d=\"M17.41 7.96l-1.37-1.37c-.4-.4-.92-.59-1.43-.59-.52 0-1.04.2-1.43.59L10.3 9.45l-7.72 7.72c-.78.78-.78 2.05 0 2.83L4 21.41c.39.39.9.59 1.41.59.51 0 1.02-.2 1.41-.59l7.78-7.78 2.81-2.81c.8-.78.8-2.07 0-2.86zM5.41 20L4 18.59l7.72-7.72 1.47 1.35L5.41 20z\"/>\n",
              "  </svg>\n",
              "      </button>\n",
              "      \n",
              "  <style>\n",
              "    .colab-df-container {\n",
              "      display:flex;\n",
              "      flex-wrap:wrap;\n",
              "      gap: 12px;\n",
              "    }\n",
              "\n",
              "    .colab-df-convert {\n",
              "      background-color: #E8F0FE;\n",
              "      border: none;\n",
              "      border-radius: 50%;\n",
              "      cursor: pointer;\n",
              "      display: none;\n",
              "      fill: #1967D2;\n",
              "      height: 32px;\n",
              "      padding: 0 0 0 0;\n",
              "      width: 32px;\n",
              "    }\n",
              "\n",
              "    .colab-df-convert:hover {\n",
              "      background-color: #E2EBFA;\n",
              "      box-shadow: 0px 1px 2px rgba(60, 64, 67, 0.3), 0px 1px 3px 1px rgba(60, 64, 67, 0.15);\n",
              "      fill: #174EA6;\n",
              "    }\n",
              "\n",
              "    [theme=dark] .colab-df-convert {\n",
              "      background-color: #3B4455;\n",
              "      fill: #D2E3FC;\n",
              "    }\n",
              "\n",
              "    [theme=dark] .colab-df-convert:hover {\n",
              "      background-color: #434B5C;\n",
              "      box-shadow: 0px 1px 3px 1px rgba(0, 0, 0, 0.15);\n",
              "      filter: drop-shadow(0px 1px 2px rgba(0, 0, 0, 0.3));\n",
              "      fill: #FFFFFF;\n",
              "    }\n",
              "  </style>\n",
              "\n",
              "      <script>\n",
              "        const buttonEl =\n",
              "          document.querySelector('#df-d3a2c24c-3aff-4a1d-bee7-8160aa2f16b0 button.colab-df-convert');\n",
              "        buttonEl.style.display =\n",
              "          google.colab.kernel.accessAllowed ? 'block' : 'none';\n",
              "\n",
              "        async function convertToInteractive(key) {\n",
              "          const element = document.querySelector('#df-d3a2c24c-3aff-4a1d-bee7-8160aa2f16b0');\n",
              "          const dataTable =\n",
              "            await google.colab.kernel.invokeFunction('convertToInteractive',\n",
              "                                                     [key], {});\n",
              "          if (!dataTable) return;\n",
              "\n",
              "          const docLinkHtml = 'Like what you see? Visit the ' +\n",
              "            '<a target=\"_blank\" href=https://colab.research.google.com/notebooks/data_table.ipynb>data table notebook</a>'\n",
              "            + ' to learn more about interactive tables.';\n",
              "          element.innerHTML = '';\n",
              "          dataTable['output_type'] = 'display_data';\n",
              "          await google.colab.output.renderOutput(dataTable, element);\n",
              "          const docLink = document.createElement('div');\n",
              "          docLink.innerHTML = docLinkHtml;\n",
              "          element.appendChild(docLink);\n",
              "        }\n",
              "      </script>\n",
              "    </div>\n",
              "  </div>\n",
              "  "
            ]
          },
          "metadata": {},
          "execution_count": 17
        }
      ],
      "source": [
        "gamerounds_tot.head(20)"
      ]
    },
    {
      "cell_type": "markdown",
      "id": "983f1c5b",
      "metadata": {
        "papermill": {
          "duration": 0.021716,
          "end_time": "2022-08-24T13:08:30.520098",
          "exception": false,
          "start_time": "2022-08-24T13:08:30.498382",
          "status": "completed"
        },
        "tags": [],
        "id": "983f1c5b"
      },
      "source": [
        "Looking graphically at the a distribution of all players who played between 0 and 100 game rounds (~86 of the sample)"
      ]
    },
    {
      "cell_type": "code",
      "execution_count": null,
      "id": "f1ef4b3a",
      "metadata": {
        "execution": {
          "iopub.execute_input": "2022-08-24T13:08:30.567618Z",
          "iopub.status.busy": "2022-08-24T13:08:30.566731Z",
          "iopub.status.idle": "2022-08-24T13:08:30.838609Z",
          "shell.execute_reply": "2022-08-24T13:08:30.837043Z"
        },
        "papermill": {
          "duration": 0.299187,
          "end_time": "2022-08-24T13:08:30.841951",
          "exception": false,
          "start_time": "2022-08-24T13:08:30.542764",
          "status": "completed"
        },
        "tags": [],
        "colab": {
          "base_uri": "https://localhost:8080/",
          "height": 451
        },
        "id": "f1ef4b3a",
        "outputId": "d89713ce-cb7f-4dee-de7b-65c0d358f529"
      },
      "outputs": [
        {
          "output_type": "display_data",
          "data": {
            "text/plain": [
              "<Figure size 1490.4x595.44 with 1 Axes>"
            ],
            "image/png": "[encoded data removed]"
          },
          "metadata": {}
        }
      ],
      "source": [
        "ax = gamerounds_tot[:100].plot(x='sum_gamerounds', y='count', legend=False)\n",
        "ax.set_xlabel('Game Rounds Played')\n",
        "ax.set_ylabel('Count of Players')\n",
        "plt.show()"
      ]
    },
    {
      "cell_type": "markdown",
      "id": "df2b1595",
      "metadata": {
        "papermill": {
          "duration": 0.022262,
          "end_time": "2022-08-24T13:08:30.888924",
          "exception": false,
          "start_time": "2022-08-24T13:08:30.866662",
          "status": "completed"
        },
        "tags": [],
        "id": "df2b1595"
      },
      "source": [
        "### Bivariate - gamerounds played\n",
        "\n",
        "Insights might be derived from inspecting gamerounds played with respect to group to see if there is an obvious link to retention."
      ]
    },
    {
      "cell_type": "code",
      "execution_count": null,
      "id": "13d67d95",
      "metadata": {
        "execution": {
          "iopub.execute_input": "2022-08-24T13:08:30.937505Z",
          "iopub.status.busy": "2022-08-24T13:08:30.936949Z",
          "iopub.status.idle": "2022-08-24T13:08:30.998415Z",
          "shell.execute_reply": "2022-08-24T13:08:30.996865Z"
        },
        "papermill": {
          "duration": 0.09066,
          "end_time": "2022-08-24T13:08:31.002184",
          "exception": false,
          "start_time": "2022-08-24T13:08:30.911524",
          "status": "completed"
        },
        "tags": [],
        "colab": {
          "base_uri": "https://localhost:8080/",
          "height": 1000
        },
        "id": "13d67d95",
        "outputId": "4d36e3e3-6326-436b-b0a0-b4076618f029"
      },
      "outputs": [
        {
          "output_type": "display_data",
          "data": {
            "text/plain": [
              "    sum_gamerounds  count  percent_count  cumsum  percent_cumsum\n",
              "0                0   1937           4.33    1937            4.33\n",
              "1                1   2749           6.15    4686           10.48\n",
              "2                2   2198           4.92    6884           15.40\n",
              "3                3   1899           4.25    8783           19.65\n",
              "4                4   1831           4.10   10614           23.75\n",
              "5                5   1442           3.23   12056           26.97\n",
              "6                6   1420           3.18   13476           30.15\n",
              "7                7   1199           2.68   14675           32.83\n",
              "8                8   1162           2.60   15837           35.43\n",
              "9                9    998           2.23   16835           37.66\n",
              "10              10    838           1.87   17673           39.54\n",
              "11              11    813           1.82   18486           41.36\n",
              "12              12    784           1.75   19270           43.11\n",
              "13              13    779           1.74   20049           44.85\n",
              "14              14    733           1.64   20782           46.49\n",
              "15              15    729           1.63   21511           48.12\n",
              "16              16    658           1.47   22169           49.60\n",
              "17              17    623           1.39   22792           50.99\n",
              "18              18    612           1.37   23404           52.36\n",
              "19              19    560           1.25   23964           53.61"
            ],
            "text/html": [
              "\n",
              "  <div id=\"df-fa97fd9e-57f8-43c0-b5a6-55d535dddc09\">\n",
              "    <div class=\"colab-df-container\">\n",
              "      <div>\n",
              "<style scoped>\n",
              "    .dataframe tbody tr th:only-of-type {\n",
              "        vertical-align: middle;\n",
              "    }\n",
              "\n",
              "    .dataframe tbody tr th {\n",
              "        vertical-align: top;\n",
              "    }\n",
              "\n",
              "    .dataframe thead th {\n",
              "        text-align: right;\n",
              "    }\n",
              "</style>\n",
              "<table border=\"1\" class=\"dataframe\">\n",
              "  <thead>\n",
              "    <tr style=\"text-align: right;\">\n",
              "      <th></th>\n",
              "      <th>sum_gamerounds</th>\n",
              "      <th>count</th>\n",
              "      <th>percent_count</th>\n",
              "      <th>cumsum</th>\n",
              "      <th>percent_cumsum</th>\n",
              "    </tr>\n",
              "  </thead>\n",
              "  <tbody>\n",
              "    <tr>\n",
              "      <th>0</th>\n",
              "      <td>0</td>\n",
              "      <td>1937</td>\n",
              "      <td>4.33</td>\n",
              "      <td>1937</td>\n",
              "      <td>4.33</td>\n",
              "    </tr>\n",
              "    <tr>\n",
              "      <th>1</th>\n",
              "      <td>1</td>\n",
              "      <td>2749</td>\n",
              "      <td>6.15</td>\n",
              "      <td>4686</td>\n",
              "      <td>10.48</td>\n",
              "    </tr>\n",
              "    <tr>\n",
              "      <th>2</th>\n",
              "      <td>2</td>\n",
              "      <td>2198</td>\n",
              "      <td>4.92</td>\n",
              "      <td>6884</td>\n",
              "      <td>15.40</td>\n",
              "    </tr>\n",
              "    <tr>\n",
              "      <th>3</th>\n",
              "      <td>3</td>\n",
              "      <td>1899</td>\n",
              "      <td>4.25</td>\n",
              "      <td>8783</td>\n",
              "      <td>19.65</td>\n",
              "    </tr>\n",
              "    <tr>\n",
              "      <th>4</th>\n",
              "      <td>4</td>\n",
              "      <td>1831</td>\n",
              "      <td>4.10</td>\n",
              "      <td>10614</td>\n",
              "      <td>23.75</td>\n",
              "    </tr>\n",
              "    <tr>\n",
              "      <th>5</th>\n",
              "      <td>5</td>\n",
              "      <td>1442</td>\n",
              "      <td>3.23</td>\n",
              "      <td>12056</td>\n",
              "      <td>26.97</td>\n",
              "    </tr>\n",
              "    <tr>\n",
              "      <th>6</th>\n",
              "      <td>6</td>\n",
              "      <td>1420</td>\n",
              "      <td>3.18</td>\n",
              "      <td>13476</td>\n",
              "      <td>30.15</td>\n",
              "    </tr>\n",
              "    <tr>\n",
              "      <th>7</th>\n",
              "      <td>7</td>\n",
              "      <td>1199</td>\n",
              "      <td>2.68</td>\n",
              "      <td>14675</td>\n",
              "      <td>32.83</td>\n",
              "    </tr>\n",
              "    <tr>\n",
              "      <th>8</th>\n",
              "      <td>8</td>\n",
              "      <td>1162</td>\n",
              "      <td>2.60</td>\n",
              "      <td>15837</td>\n",
              "      <td>35.43</td>\n",
              "    </tr>\n",
              "    <tr>\n",
              "      <th>9</th>\n",
              "      <td>9</td>\n",
              "      <td>998</td>\n",
              "      <td>2.23</td>\n",
              "      <td>16835</td>\n",
              "      <td>37.66</td>\n",
              "    </tr>\n",
              "    <tr>\n",
              "      <th>10</th>\n",
              "      <td>10</td>\n",
              "      <td>838</td>\n",
              "      <td>1.87</td>\n",
              "      <td>17673</td>\n",
              "      <td>39.54</td>\n",
              "    </tr>\n",
              "    <tr>\n",
              "      <th>11</th>\n",
              "      <td>11</td>\n",
              "      <td>813</td>\n",
              "      <td>1.82</td>\n",
              "      <td>18486</td>\n",
              "      <td>41.36</td>\n",
              "    </tr>\n",
              "    <tr>\n",
              "      <th>12</th>\n",
              "      <td>12</td>\n",
              "      <td>784</td>\n",
              "      <td>1.75</td>\n",
              "      <td>19270</td>\n",
              "      <td>43.11</td>\n",
              "    </tr>\n",
              "    <tr>\n",
              "      <th>13</th>\n",
              "      <td>13</td>\n",
              "      <td>779</td>\n",
              "      <td>1.74</td>\n",
              "      <td>20049</td>\n",
              "      <td>44.85</td>\n",
              "    </tr>\n",
              "    <tr>\n",
              "      <th>14</th>\n",
              "      <td>14</td>\n",
              "      <td>733</td>\n",
              "      <td>1.64</td>\n",
              "      <td>20782</td>\n",
              "      <td>46.49</td>\n",
              "    </tr>\n",
              "    <tr>\n",
              "      <th>15</th>\n",
              "      <td>15</td>\n",
              "      <td>729</td>\n",
              "      <td>1.63</td>\n",
              "      <td>21511</td>\n",
              "      <td>48.12</td>\n",
              "    </tr>\n",
              "    <tr>\n",
              "      <th>16</th>\n",
              "      <td>16</td>\n",
              "      <td>658</td>\n",
              "      <td>1.47</td>\n",
              "      <td>22169</td>\n",
              "      <td>49.60</td>\n",
              "    </tr>\n",
              "    <tr>\n",
              "      <th>17</th>\n",
              "      <td>17</td>\n",
              "      <td>623</td>\n",
              "      <td>1.39</td>\n",
              "      <td>22792</td>\n",
              "      <td>50.99</td>\n",
              "    </tr>\n",
              "    <tr>\n",
              "      <th>18</th>\n",
              "      <td>18</td>\n",
              "      <td>612</td>\n",
              "      <td>1.37</td>\n",
              "      <td>23404</td>\n",
              "      <td>52.36</td>\n",
              "    </tr>\n",
              "    <tr>\n",
              "      <th>19</th>\n",
              "      <td>19</td>\n",
              "      <td>560</td>\n",
              "      <td>1.25</td>\n",
              "      <td>23964</td>\n",
              "      <td>53.61</td>\n",
              "    </tr>\n",
              "  </tbody>\n",
              "</table>\n",
              "</div>\n",
              "      <button class=\"colab-df-convert\" onclick=\"convertToInteractive('df-fa97fd9e-57f8-43c0-b5a6-55d535dddc09')\"\n",
              "              title=\"Convert this dataframe to an interactive table.\"\n",
              "              style=\"display:none;\">\n",
              "        \n",
              "  <svg xmlns=\"http://www.w3.org/2000/svg\" height=\"24px\"viewBox=\"0 0 24 24\"\n",
              "       width=\"24px\">\n",
              "    <path d=\"M0 0h24v24H0V0z\" fill=\"none\"/>\n",
              "    <path d=\"M18.56 5.44l.94 2.06.94-2.06 2.06-.94-2.06-.94-.94-2.06-.94 2.06-2.06.94zm-11 1L8.5 8.5l.94-2.06 2.06-.94-2.06-.94L8.5 2.5l-.94 2.06-2.06.94zm10 10l.94 2.06.94-2.06 2.06-.94-2.06-.94-.94-2.06-.94 2.06-2.06.94z\"/><path d=\"M17.41 7.96l-1.37-1.37c-.4-.4-.92-.59-1.43-.59-.52 0-1.04.2-1.43.59L10.3 9.45l-7.72 7.72c-.78.78-.78 2.05 0 2.83L4 21.41c.39.39.9.59 1.41.59.51 0 1.02-.2 1.41-.59l7.78-7.78 2.81-2.81c.8-.78.8-2.07 0-2.86zM5.41 20L4 18.59l7.72-7.72 1.47 1.35L5.41 20z\"/>\n",
              "  </svg>\n",
              "      </button>\n",
              "      \n",
              "  <style>\n",
              "    .colab-df-container {\n",
              "      display:flex;\n",
              "      flex-wrap:wrap;\n",
              "      gap: 12px;\n",
              "    }\n",
              "\n",
              "    .colab-df-convert {\n",
              "      background-color: #E8F0FE;\n",
              "      border: none;\n",
              "      border-radius: 50%;\n",
              "      cursor: pointer;\n",
              "      display: none;\n",
              "      fill: #1967D2;\n",
              "      height: 32px;\n",
              "      padding: 0 0 0 0;\n",
              "      width: 32px;\n",
              "    }\n",
              "\n",
              "    .colab-df-convert:hover {\n",
              "      background-color: #E2EBFA;\n",
              "      box-shadow: 0px 1px 2px rgba(60, 64, 67, 0.3), 0px 1px 3px 1px rgba(60, 64, 67, 0.15);\n",
              "      fill: #174EA6;\n",
              "    }\n",
              "\n",
              "    [theme=dark] .colab-df-convert {\n",
              "      background-color: #3B4455;\n",
              "      fill: #D2E3FC;\n",
              "    }\n",
              "\n",
              "    [theme=dark] .colab-df-convert:hover {\n",
              "      background-color: #434B5C;\n",
              "      box-shadow: 0px 1px 3px 1px rgba(0, 0, 0, 0.15);\n",
              "      filter: drop-shadow(0px 1px 2px rgba(0, 0, 0, 0.3));\n",
              "      fill: #FFFFFF;\n",
              "    }\n",
              "  </style>\n",
              "\n",
              "      <script>\n",
              "        const buttonEl =\n",
              "          document.querySelector('#df-fa97fd9e-57f8-43c0-b5a6-55d535dddc09 button.colab-df-convert');\n",
              "        buttonEl.style.display =\n",
              "          google.colab.kernel.accessAllowed ? 'block' : 'none';\n",
              "\n",
              "        async function convertToInteractive(key) {\n",
              "          const element = document.querySelector('#df-fa97fd9e-57f8-43c0-b5a6-55d535dddc09');\n",
              "          const dataTable =\n",
              "            await google.colab.kernel.invokeFunction('convertToInteractive',\n",
              "                                                     [key], {});\n",
              "          if (!dataTable) return;\n",
              "\n",
              "          const docLinkHtml = 'Like what you see? Visit the ' +\n",
              "            '<a target=\"_blank\" href=https://colab.research.google.com/notebooks/data_table.ipynb>data table notebook</a>'\n",
              "            + ' to learn more about interactive tables.';\n",
              "          element.innerHTML = '';\n",
              "          dataTable['output_type'] = 'display_data';\n",
              "          await google.colab.output.renderOutput(dataTable, element);\n",
              "          const docLink = document.createElement('div');\n",
              "          docLink.innerHTML = docLinkHtml;\n",
              "          element.appendChild(docLink);\n",
              "        }\n",
              "      </script>\n",
              "    </div>\n",
              "  </div>\n",
              "  "
            ]
          },
          "metadata": {}
        },
        {
          "output_type": "display_data",
          "data": {
            "text/plain": [
              "    sum_gamerounds  count  percent_count  cumsum  percent_cumsum\n",
              "0                0   2057           4.52    2057            4.52\n",
              "1                1   2789           6.13    4846           10.65\n",
              "2                2   2408           5.29    7254           15.95\n",
              "3                3   2059           4.53    9313           20.47\n",
              "4                4   1798           3.95   11111           24.43\n",
              "5                5   1550           3.41   12661           27.83\n",
              "6                6   1441           3.17   14102           31.00\n",
              "7                7   1180           2.59   15282           33.59\n",
              "8                8   1105           2.43   16387           36.02\n",
              "9                9   1015           2.23   17402           38.26\n",
              "10              10    914           2.01   18316           40.26\n",
              "11              11    841           1.85   19157           42.11\n",
              "12              12    786           1.73   19943           43.84\n",
              "13              13    815           1.79   20758           45.63\n",
              "14              14    786           1.73   21544           47.36\n",
              "15              15    717           1.58   22261           48.94\n",
              "16              16    684           1.50   22945           50.44\n",
              "17              17    646           1.42   23591           51.86\n",
              "18              18    616           1.35   24207           53.22\n",
              "19              19    598           1.31   24805           54.53"
            ],
            "text/html": [
              "\n",
              "  <div id=\"df-5ad76eb2-102f-4261-8ab6-327b5422293f\">\n",
              "    <div class=\"colab-df-container\">\n",
              "      <div>\n",
              "<style scoped>\n",
              "    .dataframe tbody tr th:only-of-type {\n",
              "        vertical-align: middle;\n",
              "    }\n",
              "\n",
              "    .dataframe tbody tr th {\n",
              "        vertical-align: top;\n",
              "    }\n",
              "\n",
              "    .dataframe thead th {\n",
              "        text-align: right;\n",
              "    }\n",
              "</style>\n",
              "<table border=\"1\" class=\"dataframe\">\n",
              "  <thead>\n",
              "    <tr style=\"text-align: right;\">\n",
              "      <th></th>\n",
              "      <th>sum_gamerounds</th>\n",
              "      <th>count</th>\n",
              "      <th>percent_count</th>\n",
              "      <th>cumsum</th>\n",
              "      <th>percent_cumsum</th>\n",
              "    </tr>\n",
              "  </thead>\n",
              "  <tbody>\n",
              "    <tr>\n",
              "      <th>0</th>\n",
              "      <td>0</td>\n",
              "      <td>2057</td>\n",
              "      <td>4.52</td>\n",
              "      <td>2057</td>\n",
              "      <td>4.52</td>\n",
              "    </tr>\n",
              "    <tr>\n",
              "      <th>1</th>\n",
              "      <td>1</td>\n",
              "      <td>2789</td>\n",
              "      <td>6.13</td>\n",
              "      <td>4846</td>\n",
              "      <td>10.65</td>\n",
              "    </tr>\n",
              "    <tr>\n",
              "      <th>2</th>\n",
              "      <td>2</td>\n",
              "      <td>2408</td>\n",
              "      <td>5.29</td>\n",
              "      <td>7254</td>\n",
              "      <td>15.95</td>\n",
              "    </tr>\n",
              "    <tr>\n",
              "      <th>3</th>\n",
              "      <td>3</td>\n",
              "      <td>2059</td>\n",
              "      <td>4.53</td>\n",
              "      <td>9313</td>\n",
              "      <td>20.47</td>\n",
              "    </tr>\n",
              "    <tr>\n",
              "      <th>4</th>\n",
              "      <td>4</td>\n",
              "      <td>1798</td>\n",
              "      <td>3.95</td>\n",
              "      <td>11111</td>\n",
              "      <td>24.43</td>\n",
              "    </tr>\n",
              "    <tr>\n",
              "      <th>5</th>\n",
              "      <td>5</td>\n",
              "      <td>1550</td>\n",
              "      <td>3.41</td>\n",
              "      <td>12661</td>\n",
              "      <td>27.83</td>\n",
              "    </tr>\n",
              "    <tr>\n",
              "      <th>6</th>\n",
              "      <td>6</td>\n",
              "      <td>1441</td>\n",
              "      <td>3.17</td>\n",
              "      <td>14102</td>\n",
              "      <td>31.00</td>\n",
              "    </tr>\n",
              "    <tr>\n",
              "      <th>7</th>\n",
              "      <td>7</td>\n",
              "      <td>1180</td>\n",
              "      <td>2.59</td>\n",
              "      <td>15282</td>\n",
              "      <td>33.59</td>\n",
              "    </tr>\n",
              "    <tr>\n",
              "      <th>8</th>\n",
              "      <td>8</td>\n",
              "      <td>1105</td>\n",
              "      <td>2.43</td>\n",
              "      <td>16387</td>\n",
              "      <td>36.02</td>\n",
              "    </tr>\n",
              "    <tr>\n",
              "      <th>9</th>\n",
              "      <td>9</td>\n",
              "      <td>1015</td>\n",
              "      <td>2.23</td>\n",
              "      <td>17402</td>\n",
              "      <td>38.26</td>\n",
              "    </tr>\n",
              "    <tr>\n",
              "      <th>10</th>\n",
              "      <td>10</td>\n",
              "      <td>914</td>\n",
              "      <td>2.01</td>\n",
              "      <td>18316</td>\n",
              "      <td>40.26</td>\n",
              "    </tr>\n",
              "    <tr>\n",
              "      <th>11</th>\n",
              "      <td>11</td>\n",
              "      <td>841</td>\n",
              "      <td>1.85</td>\n",
              "      <td>19157</td>\n",
              "      <td>42.11</td>\n",
              "    </tr>\n",
              "    <tr>\n",
              "      <th>12</th>\n",
              "      <td>12</td>\n",
              "      <td>786</td>\n",
              "      <td>1.73</td>\n",
              "      <td>19943</td>\n",
              "      <td>43.84</td>\n",
              "    </tr>\n",
              "    <tr>\n",
              "      <th>13</th>\n",
              "      <td>13</td>\n",
              "      <td>815</td>\n",
              "      <td>1.79</td>\n",
              "      <td>20758</td>\n",
              "      <td>45.63</td>\n",
              "    </tr>\n",
              "    <tr>\n",
              "      <th>14</th>\n",
              "      <td>14</td>\n",
              "      <td>786</td>\n",
              "      <td>1.73</td>\n",
              "      <td>21544</td>\n",
              "      <td>47.36</td>\n",
              "    </tr>\n",
              "    <tr>\n",
              "      <th>15</th>\n",
              "      <td>15</td>\n",
              "      <td>717</td>\n",
              "      <td>1.58</td>\n",
              "      <td>22261</td>\n",
              "      <td>48.94</td>\n",
              "    </tr>\n",
              "    <tr>\n",
              "      <th>16</th>\n",
              "      <td>16</td>\n",
              "      <td>684</td>\n",
              "      <td>1.50</td>\n",
              "      <td>22945</td>\n",
              "      <td>50.44</td>\n",
              "    </tr>\n",
              "    <tr>\n",
              "      <th>17</th>\n",
              "      <td>17</td>\n",
              "      <td>646</td>\n",
              "      <td>1.42</td>\n",
              "      <td>23591</td>\n",
              "      <td>51.86</td>\n",
              "    </tr>\n",
              "    <tr>\n",
              "      <th>18</th>\n",
              "      <td>18</td>\n",
              "      <td>616</td>\n",
              "      <td>1.35</td>\n",
              "      <td>24207</td>\n",
              "      <td>53.22</td>\n",
              "    </tr>\n",
              "    <tr>\n",
              "      <th>19</th>\n",
              "      <td>19</td>\n",
              "      <td>598</td>\n",
              "      <td>1.31</td>\n",
              "      <td>24805</td>\n",
              "      <td>54.53</td>\n",
              "    </tr>\n",
              "  </tbody>\n",
              "</table>\n",
              "</div>\n",
              "      <button class=\"colab-df-convert\" onclick=\"convertToInteractive('df-5ad76eb2-102f-4261-8ab6-327b5422293f')\"\n",
              "              title=\"Convert this dataframe to an interactive table.\"\n",
              "              style=\"display:none;\">\n",
              "        \n",
              "  <svg xmlns=\"http://www.w3.org/2000/svg\" height=\"24px\"viewBox=\"0 0 24 24\"\n",
              "       width=\"24px\">\n",
              "    <path d=\"M0 0h24v24H0V0z\" fill=\"none\"/>\n",
              "    <path d=\"M18.56 5.44l.94 2.06.94-2.06 2.06-.94-2.06-.94-.94-2.06-.94 2.06-2.06.94zm-11 1L8.5 8.5l.94-2.06 2.06-.94-2.06-.94L8.5 2.5l-.94 2.06-2.06.94zm10 10l.94 2.06.94-2.06 2.06-.94-2.06-.94-.94-2.06-.94 2.06-2.06.94z\"/><path d=\"M17.41 7.96l-1.37-1.37c-.4-.4-.92-.59-1.43-.59-.52 0-1.04.2-1.43.59L10.3 9.45l-7.72 7.72c-.78.78-.78 2.05 0 2.83L4 21.41c.39.39.9.59 1.41.59.51 0 1.02-.2 1.41-.59l7.78-7.78 2.81-2.81c.8-.78.8-2.07 0-2.86zM5.41 20L4 18.59l7.72-7.72 1.47 1.35L5.41 20z\"/>\n",
              "  </svg>\n",
              "      </button>\n",
              "      \n",
              "  <style>\n",
              "    .colab-df-container {\n",
              "      display:flex;\n",
              "      flex-wrap:wrap;\n",
              "      gap: 12px;\n",
              "    }\n",
              "\n",
              "    .colab-df-convert {\n",
              "      background-color: #E8F0FE;\n",
              "      border: none;\n",
              "      border-radius: 50%;\n",
              "      cursor: pointer;\n",
              "      display: none;\n",
              "      fill: #1967D2;\n",
              "      height: 32px;\n",
              "      padding: 0 0 0 0;\n",
              "      width: 32px;\n",
              "    }\n",
              "\n",
              "    .colab-df-convert:hover {\n",
              "      background-color: #E2EBFA;\n",
              "      box-shadow: 0px 1px 2px rgba(60, 64, 67, 0.3), 0px 1px 3px 1px rgba(60, 64, 67, 0.15);\n",
              "      fill: #174EA6;\n",
              "    }\n",
              "\n",
              "    [theme=dark] .colab-df-convert {\n",
              "      background-color: #3B4455;\n",
              "      fill: #D2E3FC;\n",
              "    }\n",
              "\n",
              "    [theme=dark] .colab-df-convert:hover {\n",
              "      background-color: #434B5C;\n",
              "      box-shadow: 0px 1px 3px 1px rgba(0, 0, 0, 0.15);\n",
              "      filter: drop-shadow(0px 1px 2px rgba(0, 0, 0, 0.3));\n",
              "      fill: #FFFFFF;\n",
              "    }\n",
              "  </style>\n",
              "\n",
              "      <script>\n",
              "        const buttonEl =\n",
              "          document.querySelector('#df-5ad76eb2-102f-4261-8ab6-327b5422293f button.colab-df-convert');\n",
              "        buttonEl.style.display =\n",
              "          google.colab.kernel.accessAllowed ? 'block' : 'none';\n",
              "\n",
              "        async function convertToInteractive(key) {\n",
              "          const element = document.querySelector('#df-5ad76eb2-102f-4261-8ab6-327b5422293f');\n",
              "          const dataTable =\n",
              "            await google.colab.kernel.invokeFunction('convertToInteractive',\n",
              "                                                     [key], {});\n",
              "          if (!dataTable) return;\n",
              "\n",
              "          const docLinkHtml = 'Like what you see? Visit the ' +\n",
              "            '<a target=\"_blank\" href=https://colab.research.google.com/notebooks/data_table.ipynb>data table notebook</a>'\n",
              "            + ' to learn more about interactive tables.';\n",
              "          element.innerHTML = '';\n",
              "          dataTable['output_type'] = 'display_data';\n",
              "          await google.colab.output.renderOutput(dataTable, element);\n",
              "          const docLink = document.createElement('div');\n",
              "          docLink.innerHTML = docLinkHtml;\n",
              "          element.appendChild(docLink);\n",
              "        }\n",
              "      </script>\n",
              "    </div>\n",
              "  </div>\n",
              "  "
            ]
          },
          "metadata": {}
        }
      ],
      "source": [
        "# Cumulative sum for control and treatment group\n",
        "gamerounds_cont = create_gamerounds(data[data['version'] == 'gate_30'])\n",
        "gamerounds_treat = create_gamerounds(data[data['version'] == 'gate_40'])\n",
        "\n",
        "display(gamerounds_cont.head(20), gamerounds_treat.head(20))"
      ]
    },
    {
      "cell_type": "code",
      "execution_count": null,
      "id": "ec9766d6",
      "metadata": {
        "execution": {
          "iopub.execute_input": "2022-08-24T13:08:31.052394Z",
          "iopub.status.busy": "2022-08-24T13:08:31.051020Z",
          "iopub.status.idle": "2022-08-24T13:08:31.347768Z",
          "shell.execute_reply": "2022-08-24T13:08:31.346265Z"
        },
        "papermill": {
          "duration": 0.32549,
          "end_time": "2022-08-24T13:08:31.350857",
          "exception": false,
          "start_time": "2022-08-24T13:08:31.025367",
          "status": "completed"
        },
        "tags": [],
        "colab": {
          "base_uri": "https://localhost:8080/",
          "height": 451
        },
        "id": "ec9766d6",
        "outputId": "74b64934-7baa-48eb-f75d-8fd6baf5576f"
      },
      "outputs": [
        {
          "output_type": "display_data",
          "data": {
            "text/plain": [
              "<Figure size 1490.4x595.44 with 1 Axes>"
            ],
            "image/png": "[encoded data removed]"
          },
          "metadata": {}
        }
      ],
      "source": [
        "# Graphically for users who played up to 100 game rounds:\n",
        "\n",
        "fig, ax = plt.subplots()\n",
        "sns.lineplot(x='sum_gamerounds', y='count', data=gamerounds_cont[:100], ax=ax)\n",
        "sns.lineplot(x='sum_gamerounds', y='count', data=gamerounds_treat[:100], ax=ax, palette='Or')\n",
        "ax.set_xlabel('Game Rounds Played')\n",
        "ax.set_ylabel('Count of Players')\n",
        "plt.show()"
      ]
    },
    {
      "cell_type": "markdown",
      "id": "420643f0",
      "metadata": {
        "papermill": {
          "duration": 0.02388,
          "end_time": "2022-08-24T13:08:31.399367",
          "exception": false,
          "start_time": "2022-08-24T13:08:31.375487",
          "status": "completed"
        },
        "tags": [],
        "id": "420643f0"
      },
      "source": [
        "### Observations on rounds played\n",
        "\n",
        "All values are with respect to the week after installation. \n",
        "\n",
        "There are no obvious links between gamerounds played and the group the player was assigned to.\n",
        "\n",
        "The number of players decreases as levels increase. The exception is that a number of players installed the game and did not complete any levels (installed and did not play).\n",
        "- 3,994 (~4.4%) players did not play the game\n",
        "- ~27.4% of players played five or less rounds\n",
        "- 50% of players played 16 or less rounds\n",
        "- 75% of players played less than 50 rounds\n",
        "\n",
        "These values can be explored by themselves, especially the 3,994 players installing the game and not playing in the week following installation, in addition over a quarter of players in the sample played 5 rounds or less in the week following installation. Possible reasons may include but aren't limited to:\n",
        "- Players didn't like the game or aspect of the game (mechanics/aesthetics/music/story?).\n",
        "- Difficulty increased as levels progressed and locked players out.\n",
        "- Don't like the free-mium model.\n",
        "- Product was not as advertised.\n",
        "- Players haven't had an opportunity to play the game.\n",
        "\n",
        "With churn happening at relatively low number of rounds played, there is an opportunity to increase retention. Fact finding (exit surveys) and incentives could lead to higher retention rates. More research is required."
      ]
    },
    {
      "cell_type": "code",
      "execution_count": null,
      "id": "a51d4cf3",
      "metadata": {
        "execution": {
          "iopub.execute_input": "2022-08-24T13:08:31.451369Z",
          "iopub.status.busy": "2022-08-24T13:08:31.450098Z",
          "iopub.status.idle": "2022-08-24T13:08:31.460031Z",
          "shell.execute_reply": "2022-08-24T13:08:31.458752Z"
        },
        "papermill": {
          "duration": 0.038505,
          "end_time": "2022-08-24T13:08:31.462602",
          "exception": false,
          "start_time": "2022-08-24T13:08:31.424097",
          "status": "completed"
        },
        "tags": [],
        "colab": {
          "base_uri": "https://localhost:8080/"
        },
        "id": "a51d4cf3",
        "outputId": "a13b0c19-66a4-4037-c696-2972a0ac577d"
      },
      "outputs": [
        {
          "output_type": "execute_result",
          "data": {
            "text/plain": [
              "758.9956684799998"
            ]
          },
          "metadata": {},
          "execution_count": 21
        }
      ],
      "source": [
        "(0.448 * (1 - 0.448) + 0.442 * (1 - 0.442)) * ((1.96 / 0.05) ** 2)"
      ]
    },
    {
      "cell_type": "markdown",
      "id": "73760250",
      "metadata": {
        "papermill": {
          "duration": 0.023617,
          "end_time": "2022-08-24T13:08:31.510250",
          "exception": false,
          "start_time": "2022-08-24T13:08:31.486633",
          "status": "completed"
        },
        "tags": [],
        "id": "73760250"
      },
      "source": [
        "## 4.2 EDA - Retention <a name ='4.2'></a>"
      ]
    },
    {
      "cell_type": "code",
      "execution_count": null,
      "id": "2fe65e5f",
      "metadata": {
        "execution": {
          "iopub.execute_input": "2022-08-24T13:08:31.561189Z",
          "iopub.status.busy": "2022-08-24T13:08:31.560137Z",
          "iopub.status.idle": "2022-08-24T13:08:31.582589Z",
          "shell.execute_reply": "2022-08-24T13:08:31.581392Z"
        },
        "papermill": {
          "duration": 0.050706,
          "end_time": "2022-08-24T13:08:31.584961",
          "exception": false,
          "start_time": "2022-08-24T13:08:31.534255",
          "status": "completed"
        },
        "tags": [],
        "colab": {
          "base_uri": "https://localhost:8080/",
          "height": 112
        },
        "id": "2fe65e5f",
        "outputId": "c4dfc083-aaa9-4f69-fa55-67cd43f9ea57"
      },
      "outputs": [
        {
          "output_type": "execute_result",
          "data": {
            "text/plain": [
              "   index  retention_1_count  retention_1_perc  retention_7_count  \\\n",
              "0  False              50035              0.55              73408   \n",
              "1   True              40153              0.45              16780   \n",
              "\n",
              "   retention_7_perc  \n",
              "0              0.81  \n",
              "1              0.19  "
            ],
            "text/html": [
              "\n",
              "  <div id=\"df-bd26d1e4-1930-4e80-bc5b-cd4b70029ee7\">\n",
              "    <div class=\"colab-df-container\">\n",
              "      <div>\n",
              "<style scoped>\n",
              "    .dataframe tbody tr th:only-of-type {\n",
              "        vertical-align: middle;\n",
              "    }\n",
              "\n",
              "    .dataframe tbody tr th {\n",
              "        vertical-align: top;\n",
              "    }\n",
              "\n",
              "    .dataframe thead th {\n",
              "        text-align: right;\n",
              "    }\n",
              "</style>\n",
              "<table border=\"1\" class=\"dataframe\">\n",
              "  <thead>\n",
              "    <tr style=\"text-align: right;\">\n",
              "      <th></th>\n",
              "      <th>index</th>\n",
              "      <th>retention_1_count</th>\n",
              "      <th>retention_1_perc</th>\n",
              "      <th>retention_7_count</th>\n",
              "      <th>retention_7_perc</th>\n",
              "    </tr>\n",
              "  </thead>\n",
              "  <tbody>\n",
              "    <tr>\n",
              "      <th>0</th>\n",
              "      <td>False</td>\n",
              "      <td>50035</td>\n",
              "      <td>0.55</td>\n",
              "      <td>73408</td>\n",
              "      <td>0.81</td>\n",
              "    </tr>\n",
              "    <tr>\n",
              "      <th>1</th>\n",
              "      <td>True</td>\n",
              "      <td>40153</td>\n",
              "      <td>0.45</td>\n",
              "      <td>16780</td>\n",
              "      <td>0.19</td>\n",
              "    </tr>\n",
              "  </tbody>\n",
              "</table>\n",
              "</div>\n",
              "      <button class=\"colab-df-convert\" onclick=\"convertToInteractive('df-bd26d1e4-1930-4e80-bc5b-cd4b70029ee7')\"\n",
              "              title=\"Convert this dataframe to an interactive table.\"\n",
              "              style=\"display:none;\">\n",
              "        \n",
              "  <svg xmlns=\"http://www.w3.org/2000/svg\" height=\"24px\"viewBox=\"0 0 24 24\"\n",
              "       width=\"24px\">\n",
              "    <path d=\"M0 0h24v24H0V0z\" fill=\"none\"/>\n",
              "    <path d=\"M18.56 5.44l.94 2.06.94-2.06 2.06-.94-2.06-.94-.94-2.06-.94 2.06-2.06.94zm-11 1L8.5 8.5l.94-2.06 2.06-.94-2.06-.94L8.5 2.5l-.94 2.06-2.06.94zm10 10l.94 2.06.94-2.06 2.06-.94-2.06-.94-.94-2.06-.94 2.06-2.06.94z\"/><path d=\"M17.41 7.96l-1.37-1.37c-.4-.4-.92-.59-1.43-.59-.52 0-1.04.2-1.43.59L10.3 9.45l-7.72 7.72c-.78.78-.78 2.05 0 2.83L4 21.41c.39.39.9.59 1.41.59.51 0 1.02-.2 1.41-.59l7.78-7.78 2.81-2.81c.8-.78.8-2.07 0-2.86zM5.41 20L4 18.59l7.72-7.72 1.47 1.35L5.41 20z\"/>\n",
              "  </svg>\n",
              "      </button>\n",
              "      \n",
              "  <style>\n",
              "    .colab-df-container {\n",
              "      display:flex;\n",
              "      flex-wrap:wrap;\n",
              "      gap: 12px;\n",
              "    }\n",
              "\n",
              "    .colab-df-convert {\n",
              "      background-color: #E8F0FE;\n",
              "      border: none;\n",
              "      border-radius: 50%;\n",
              "      cursor: pointer;\n",
              "      display: none;\n",
              "      fill: #1967D2;\n",
              "      height: 32px;\n",
              "      padding: 0 0 0 0;\n",
              "      width: 32px;\n",
              "    }\n",
              "\n",
              "    .colab-df-convert:hover {\n",
              "      background-color: #E2EBFA;\n",
              "      box-shadow: 0px 1px 2px rgba(60, 64, 67, 0.3), 0px 1px 3px 1px rgba(60, 64, 67, 0.15);\n",
              "      fill: #174EA6;\n",
              "    }\n",
              "\n",
              "    [theme=dark] .colab-df-convert {\n",
              "      background-color: #3B4455;\n",
              "      fill: #D2E3FC;\n",
              "    }\n",
              "\n",
              "    [theme=dark] .colab-df-convert:hover {\n",
              "      background-color: #434B5C;\n",
              "      box-shadow: 0px 1px 3px 1px rgba(0, 0, 0, 0.15);\n",
              "      filter: drop-shadow(0px 1px 2px rgba(0, 0, 0, 0.3));\n",
              "      fill: #FFFFFF;\n",
              "    }\n",
              "  </style>\n",
              "\n",
              "      <script>\n",
              "        const buttonEl =\n",
              "          document.querySelector('#df-bd26d1e4-1930-4e80-bc5b-cd4b70029ee7 button.colab-df-convert');\n",
              "        buttonEl.style.display =\n",
              "          google.colab.kernel.accessAllowed ? 'block' : 'none';\n",
              "\n",
              "        async function convertToInteractive(key) {\n",
              "          const element = document.querySelector('#df-bd26d1e4-1930-4e80-bc5b-cd4b70029ee7');\n",
              "          const dataTable =\n",
              "            await google.colab.kernel.invokeFunction('convertToInteractive',\n",
              "                                                     [key], {});\n",
              "          if (!dataTable) return;\n",
              "\n",
              "          const docLinkHtml = 'Like what you see? Visit the ' +\n",
              "            '<a target=\"_blank\" href=https://colab.research.google.com/notebooks/data_table.ipynb>data table notebook</a>'\n",
              "            + ' to learn more about interactive tables.';\n",
              "          element.innerHTML = '';\n",
              "          dataTable['output_type'] = 'display_data';\n",
              "          await google.colab.output.renderOutput(dataTable, element);\n",
              "          const docLink = document.createElement('div');\n",
              "          docLink.innerHTML = docLinkHtml;\n",
              "          element.appendChild(docLink);\n",
              "        }\n",
              "      </script>\n",
              "    </div>\n",
              "  </div>\n",
              "  "
            ]
          },
          "metadata": {},
          "execution_count": 22
        }
      ],
      "source": [
        "# Looking at all players\n",
        "\n",
        "pd.DataFrame({'retention_1_count': data['retention_1'].value_counts(),\n",
        "             'retention_1_perc': data['retention_1'].value_counts() / data.shape[0],\n",
        "             'retention_7_count': data['retention_7'].value_counts(),\n",
        "             'retention_7_perc': data['retention_7'].value_counts() / data.shape[0]}).reset_index()"
      ]
    },
    {
      "cell_type": "code",
      "execution_count": null,
      "id": "c34dcc22",
      "metadata": {
        "execution": {
          "iopub.execute_input": "2022-08-24T13:08:31.637225Z",
          "iopub.status.busy": "2022-08-24T13:08:31.636698Z",
          "iopub.status.idle": "2022-08-24T13:08:31.688829Z",
          "shell.execute_reply": "2022-08-24T13:08:31.687487Z"
        },
        "papermill": {
          "duration": 0.081441,
          "end_time": "2022-08-24T13:08:31.691565",
          "exception": false,
          "start_time": "2022-08-24T13:08:31.610124",
          "status": "completed"
        },
        "tags": [],
        "colab": {
          "base_uri": "https://localhost:8080/",
          "height": 206
        },
        "id": "c34dcc22",
        "outputId": "70d4f453-947e-48d6-ebf6-d184047501be"
      },
      "outputs": [
        {
          "output_type": "execute_result",
          "data": {
            "text/plain": [
              "                     mean  median    std   max  count  ratio\n",
              "version retention_1                                         \n",
              "gate_30 False       16.36    6.00  36.53  1072  24665   0.55\n",
              "        True        94.41   48.00 135.04  2961  20034   0.45\n",
              "gate_40 False       16.34    6.00  35.93  1241  25370   0.56\n",
              "        True        95.38   49.00 137.89  2640  20119   0.44"
            ],
            "text/html": [
              "\n",
              "  <div id=\"df-717260e9-8e3a-420d-b59c-d3e95c2853a9\">\n",
              "    <div class=\"colab-df-container\">\n",
              "      <div>\n",
              "<style scoped>\n",
              "    .dataframe tbody tr th:only-of-type {\n",
              "        vertical-align: middle;\n",
              "    }\n",
              "\n",
              "    .dataframe tbody tr th {\n",
              "        vertical-align: top;\n",
              "    }\n",
              "\n",
              "    .dataframe thead th {\n",
              "        text-align: right;\n",
              "    }\n",
              "</style>\n",
              "<table border=\"1\" class=\"dataframe\">\n",
              "  <thead>\n",
              "    <tr style=\"text-align: right;\">\n",
              "      <th></th>\n",
              "      <th></th>\n",
              "      <th>mean</th>\n",
              "      <th>median</th>\n",
              "      <th>std</th>\n",
              "      <th>max</th>\n",
              "      <th>count</th>\n",
              "      <th>ratio</th>\n",
              "    </tr>\n",
              "    <tr>\n",
              "      <th>version</th>\n",
              "      <th>retention_1</th>\n",
              "      <th></th>\n",
              "      <th></th>\n",
              "      <th></th>\n",
              "      <th></th>\n",
              "      <th></th>\n",
              "      <th></th>\n",
              "    </tr>\n",
              "  </thead>\n",
              "  <tbody>\n",
              "    <tr>\n",
              "      <th rowspan=\"2\" valign=\"top\">gate_30</th>\n",
              "      <th>False</th>\n",
              "      <td>16.36</td>\n",
              "      <td>6.00</td>\n",
              "      <td>36.53</td>\n",
              "      <td>1072</td>\n",
              "      <td>24665</td>\n",
              "      <td>0.55</td>\n",
              "    </tr>\n",
              "    <tr>\n",
              "      <th>True</th>\n",
              "      <td>94.41</td>\n",
              "      <td>48.00</td>\n",
              "      <td>135.04</td>\n",
              "      <td>2961</td>\n",
              "      <td>20034</td>\n",
              "      <td>0.45</td>\n",
              "    </tr>\n",
              "    <tr>\n",
              "      <th rowspan=\"2\" valign=\"top\">gate_40</th>\n",
              "      <th>False</th>\n",
              "      <td>16.34</td>\n",
              "      <td>6.00</td>\n",
              "      <td>35.93</td>\n",
              "      <td>1241</td>\n",
              "      <td>25370</td>\n",
              "      <td>0.56</td>\n",
              "    </tr>\n",
              "    <tr>\n",
              "      <th>True</th>\n",
              "      <td>95.38</td>\n",
              "      <td>49.00</td>\n",
              "      <td>137.89</td>\n",
              "      <td>2640</td>\n",
              "      <td>20119</td>\n",
              "      <td>0.44</td>\n",
              "    </tr>\n",
              "  </tbody>\n",
              "</table>\n",
              "</div>\n",
              "      <button class=\"colab-df-convert\" onclick=\"convertToInteractive('df-717260e9-8e3a-420d-b59c-d3e95c2853a9')\"\n",
              "              title=\"Convert this dataframe to an interactive table.\"\n",
              "              style=\"display:none;\">\n",
              "        \n",
              "  <svg xmlns=\"http://www.w3.org/2000/svg\" height=\"24px\"viewBox=\"0 0 24 24\"\n",
              "       width=\"24px\">\n",
              "    <path d=\"M0 0h24v24H0V0z\" fill=\"none\"/>\n",
              "    <path d=\"M18.56 5.44l.94 2.06.94-2.06 2.06-.94-2.06-.94-.94-2.06-.94 2.06-2.06.94zm-11 1L8.5 8.5l.94-2.06 2.06-.94-2.06-.94L8.5 2.5l-.94 2.06-2.06.94zm10 10l.94 2.06.94-2.06 2.06-.94-2.06-.94-.94-2.06-.94 2.06-2.06.94z\"/><path d=\"M17.41 7.96l-1.37-1.37c-.4-.4-.92-.59-1.43-.59-.52 0-1.04.2-1.43.59L10.3 9.45l-7.72 7.72c-.78.78-.78 2.05 0 2.83L4 21.41c.39.39.9.59 1.41.59.51 0 1.02-.2 1.41-.59l7.78-7.78 2.81-2.81c.8-.78.8-2.07 0-2.86zM5.41 20L4 18.59l7.72-7.72 1.47 1.35L5.41 20z\"/>\n",
              "  </svg>\n",
              "      </button>\n",
              "      \n",
              "  <style>\n",
              "    .colab-df-container {\n",
              "      display:flex;\n",
              "      flex-wrap:wrap;\n",
              "      gap: 12px;\n",
              "    }\n",
              "\n",
              "    .colab-df-convert {\n",
              "      background-color: #E8F0FE;\n",
              "      border: none;\n",
              "      border-radius: 50%;\n",
              "      cursor: pointer;\n",
              "      display: none;\n",
              "      fill: #1967D2;\n",
              "      height: 32px;\n",
              "      padding: 0 0 0 0;\n",
              "      width: 32px;\n",
              "    }\n",
              "\n",
              "    .colab-df-convert:hover {\n",
              "      background-color: #E2EBFA;\n",
              "      box-shadow: 0px 1px 2px rgba(60, 64, 67, 0.3), 0px 1px 3px 1px rgba(60, 64, 67, 0.15);\n",
              "      fill: #174EA6;\n",
              "    }\n",
              "\n",
              "    [theme=dark] .colab-df-convert {\n",
              "      background-color: #3B4455;\n",
              "      fill: #D2E3FC;\n",
              "    }\n",
              "\n",
              "    [theme=dark] .colab-df-convert:hover {\n",
              "      background-color: #434B5C;\n",
              "      box-shadow: 0px 1px 3px 1px rgba(0, 0, 0, 0.15);\n",
              "      filter: drop-shadow(0px 1px 2px rgba(0, 0, 0, 0.3));\n",
              "      fill: #FFFFFF;\n",
              "    }\n",
              "  </style>\n",
              "\n",
              "      <script>\n",
              "        const buttonEl =\n",
              "          document.querySelector('#df-717260e9-8e3a-420d-b59c-d3e95c2853a9 button.colab-df-convert');\n",
              "        buttonEl.style.display =\n",
              "          google.colab.kernel.accessAllowed ? 'block' : 'none';\n",
              "\n",
              "        async function convertToInteractive(key) {\n",
              "          const element = document.querySelector('#df-717260e9-8e3a-420d-b59c-d3e95c2853a9');\n",
              "          const dataTable =\n",
              "            await google.colab.kernel.invokeFunction('convertToInteractive',\n",
              "                                                     [key], {});\n",
              "          if (!dataTable) return;\n",
              "\n",
              "          const docLinkHtml = 'Like what you see? Visit the ' +\n",
              "            '<a target=\"_blank\" href=https://colab.research.google.com/notebooks/data_table.ipynb>data table notebook</a>'\n",
              "            + ' to learn more about interactive tables.';\n",
              "          element.innerHTML = '';\n",
              "          dataTable['output_type'] = 'display_data';\n",
              "          await google.colab.output.renderOutput(dataTable, element);\n",
              "          const docLink = document.createElement('div');\n",
              "          docLink.innerHTML = docLinkHtml;\n",
              "          element.appendChild(docLink);\n",
              "        }\n",
              "      </script>\n",
              "    </div>\n",
              "  </div>\n",
              "  "
            ]
          },
          "metadata": {},
          "execution_count": 23
        }
      ],
      "source": [
        "# 1 Day Retention by group\n",
        "\n",
        "reten_1 = data.groupby(['version', 'retention_1'])['sum_gamerounds'].agg(['mean', 'median', 'std', 'max', 'count'])\n",
        "reten_1['ratio'] = reten_1.groupby(level=0).apply(lambda x: x / x.sum())['count']\n",
        "reten_1"
      ]
    },
    {
      "cell_type": "code",
      "execution_count": null,
      "id": "b393eb52",
      "metadata": {
        "execution": {
          "iopub.execute_input": "2022-08-24T13:08:31.743899Z",
          "iopub.status.busy": "2022-08-24T13:08:31.742520Z",
          "iopub.status.idle": "2022-08-24T13:08:31.790522Z",
          "shell.execute_reply": "2022-08-24T13:08:31.789048Z"
        },
        "papermill": {
          "duration": 0.076982,
          "end_time": "2022-08-24T13:08:31.793246",
          "exception": false,
          "start_time": "2022-08-24T13:08:31.716264",
          "status": "completed"
        },
        "tags": [],
        "colab": {
          "base_uri": "https://localhost:8080/",
          "height": 206
        },
        "id": "b393eb52",
        "outputId": "fd5120f5-253e-4066-fae3-135c109179ed"
      },
      "outputs": [
        {
          "output_type": "execute_result",
          "data": {
            "text/plain": [
              "                      mean  median    std   max  count  ratio\n",
              "version retention_7                                          \n",
              "gate_30 False        25.80   11.00  43.32   981  36198   0.81\n",
              "        True        160.12  105.00 179.36  2961   8501   0.19\n",
              "gate_40 False        25.86   11.00  44.41  2640  37210   0.82\n",
              "        True        165.65  111.00 183.79  2294   8279   0.18"
            ],
            "text/html": [
              "\n",
              "  <div id=\"df-bc7d9d5f-6d3c-4df0-8ce6-3611bd0060b1\">\n",
              "    <div class=\"colab-df-container\">\n",
              "      <div>\n",
              "<style scoped>\n",
              "    .dataframe tbody tr th:only-of-type {\n",
              "        vertical-align: middle;\n",
              "    }\n",
              "\n",
              "    .dataframe tbody tr th {\n",
              "        vertical-align: top;\n",
              "    }\n",
              "\n",
              "    .dataframe thead th {\n",
              "        text-align: right;\n",
              "    }\n",
              "</style>\n",
              "<table border=\"1\" class=\"dataframe\">\n",
              "  <thead>\n",
              "    <tr style=\"text-align: right;\">\n",
              "      <th></th>\n",
              "      <th></th>\n",
              "      <th>mean</th>\n",
              "      <th>median</th>\n",
              "      <th>std</th>\n",
              "      <th>max</th>\n",
              "      <th>count</th>\n",
              "      <th>ratio</th>\n",
              "    </tr>\n",
              "    <tr>\n",
              "      <th>version</th>\n",
              "      <th>retention_7</th>\n",
              "      <th></th>\n",
              "      <th></th>\n",
              "      <th></th>\n",
              "      <th></th>\n",
              "      <th></th>\n",
              "      <th></th>\n",
              "    </tr>\n",
              "  </thead>\n",
              "  <tbody>\n",
              "    <tr>\n",
              "      <th rowspan=\"2\" valign=\"top\">gate_30</th>\n",
              "      <th>False</th>\n",
              "      <td>25.80</td>\n",
              "      <td>11.00</td>\n",
              "      <td>43.32</td>\n",
              "      <td>981</td>\n",
              "      <td>36198</td>\n",
              "      <td>0.81</td>\n",
              "    </tr>\n",
              "    <tr>\n",
              "      <th>True</th>\n",
              "      <td>160.12</td>\n",
              "      <td>105.00</td>\n",
              "      <td>179.36</td>\n",
              "      <td>2961</td>\n",
              "      <td>8501</td>\n",
              "      <td>0.19</td>\n",
              "    </tr>\n",
              "    <tr>\n",
              "      <th rowspan=\"2\" valign=\"top\">gate_40</th>\n",
              "      <th>False</th>\n",
              "      <td>25.86</td>\n",
              "      <td>11.00</td>\n",
              "      <td>44.41</td>\n",
              "      <td>2640</td>\n",
              "      <td>37210</td>\n",
              "      <td>0.82</td>\n",
              "    </tr>\n",
              "    <tr>\n",
              "      <th>True</th>\n",
              "      <td>165.65</td>\n",
              "      <td>111.00</td>\n",
              "      <td>183.79</td>\n",
              "      <td>2294</td>\n",
              "      <td>8279</td>\n",
              "      <td>0.18</td>\n",
              "    </tr>\n",
              "  </tbody>\n",
              "</table>\n",
              "</div>\n",
              "      <button class=\"colab-df-convert\" onclick=\"convertToInteractive('df-bc7d9d5f-6d3c-4df0-8ce6-3611bd0060b1')\"\n",
              "              title=\"Convert this dataframe to an interactive table.\"\n",
              "              style=\"display:none;\">\n",
              "        \n",
              "  <svg xmlns=\"http://www.w3.org/2000/svg\" height=\"24px\"viewBox=\"0 0 24 24\"\n",
              "       width=\"24px\">\n",
              "    <path d=\"M0 0h24v24H0V0z\" fill=\"none\"/>\n",
              "    <path d=\"M18.56 5.44l.94 2.06.94-2.06 2.06-.94-2.06-.94-.94-2.06-.94 2.06-2.06.94zm-11 1L8.5 8.5l.94-2.06 2.06-.94-2.06-.94L8.5 2.5l-.94 2.06-2.06.94zm10 10l.94 2.06.94-2.06 2.06-.94-2.06-.94-.94-2.06-.94 2.06-2.06.94z\"/><path d=\"M17.41 7.96l-1.37-1.37c-.4-.4-.92-.59-1.43-.59-.52 0-1.04.2-1.43.59L10.3 9.45l-7.72 7.72c-.78.78-.78 2.05 0 2.83L4 21.41c.39.39.9.59 1.41.59.51 0 1.02-.2 1.41-.59l7.78-7.78 2.81-2.81c.8-.78.8-2.07 0-2.86zM5.41 20L4 18.59l7.72-7.72 1.47 1.35L5.41 20z\"/>\n",
              "  </svg>\n",
              "      </button>\n",
              "      \n",
              "  <style>\n",
              "    .colab-df-container {\n",
              "      display:flex;\n",
              "      flex-wrap:wrap;\n",
              "      gap: 12px;\n",
              "    }\n",
              "\n",
              "    .colab-df-convert {\n",
              "      background-color: #E8F0FE;\n",
              "      border: none;\n",
              "      border-radius: 50%;\n",
              "      cursor: pointer;\n",
              "      display: none;\n",
              "      fill: #1967D2;\n",
              "      height: 32px;\n",
              "      padding: 0 0 0 0;\n",
              "      width: 32px;\n",
              "    }\n",
              "\n",
              "    .colab-df-convert:hover {\n",
              "      background-color: #E2EBFA;\n",
              "      box-shadow: 0px 1px 2px rgba(60, 64, 67, 0.3), 0px 1px 3px 1px rgba(60, 64, 67, 0.15);\n",
              "      fill: #174EA6;\n",
              "    }\n",
              "\n",
              "    [theme=dark] .colab-df-convert {\n",
              "      background-color: #3B4455;\n",
              "      fill: #D2E3FC;\n",
              "    }\n",
              "\n",
              "    [theme=dark] .colab-df-convert:hover {\n",
              "      background-color: #434B5C;\n",
              "      box-shadow: 0px 1px 3px 1px rgba(0, 0, 0, 0.15);\n",
              "      filter: drop-shadow(0px 1px 2px rgba(0, 0, 0, 0.3));\n",
              "      fill: #FFFFFF;\n",
              "    }\n",
              "  </style>\n",
              "\n",
              "      <script>\n",
              "        const buttonEl =\n",
              "          document.querySelector('#df-bc7d9d5f-6d3c-4df0-8ce6-3611bd0060b1 button.colab-df-convert');\n",
              "        buttonEl.style.display =\n",
              "          google.colab.kernel.accessAllowed ? 'block' : 'none';\n",
              "\n",
              "        async function convertToInteractive(key) {\n",
              "          const element = document.querySelector('#df-bc7d9d5f-6d3c-4df0-8ce6-3611bd0060b1');\n",
              "          const dataTable =\n",
              "            await google.colab.kernel.invokeFunction('convertToInteractive',\n",
              "                                                     [key], {});\n",
              "          if (!dataTable) return;\n",
              "\n",
              "          const docLinkHtml = 'Like what you see? Visit the ' +\n",
              "            '<a target=\"_blank\" href=https://colab.research.google.com/notebooks/data_table.ipynb>data table notebook</a>'\n",
              "            + ' to learn more about interactive tables.';\n",
              "          element.innerHTML = '';\n",
              "          dataTable['output_type'] = 'display_data';\n",
              "          await google.colab.output.renderOutput(dataTable, element);\n",
              "          const docLink = document.createElement('div');\n",
              "          docLink.innerHTML = docLinkHtml;\n",
              "          element.appendChild(docLink);\n",
              "        }\n",
              "      </script>\n",
              "    </div>\n",
              "  </div>\n",
              "  "
            ]
          },
          "metadata": {},
          "execution_count": 24
        }
      ],
      "source": [
        "# 7 Day Retention by group\n",
        "\n",
        "reten_7 = data.groupby(['version', 'retention_7'])['sum_gamerounds'].agg(['mean', 'median', 'std', 'max', 'count'])\n",
        "reten_7['ratio'] = reten_7.groupby(level=0).apply(lambda x: x / x.sum())['count']\n",
        "reten_7"
      ]
    },
    {
      "cell_type": "code",
      "execution_count": null,
      "id": "3b6df5e3",
      "metadata": {
        "execution": {
          "iopub.execute_input": "2022-08-24T13:08:31.844974Z",
          "iopub.status.busy": "2022-08-24T13:08:31.844489Z",
          "iopub.status.idle": "2022-08-24T13:08:32.246625Z",
          "shell.execute_reply": "2022-08-24T13:08:32.245465Z"
        },
        "papermill": {
          "duration": 0.431244,
          "end_time": "2022-08-24T13:08:32.249447",
          "exception": false,
          "start_time": "2022-08-24T13:08:31.818203",
          "status": "completed"
        },
        "tags": [],
        "colab": {
          "base_uri": "https://localhost:8080/",
          "height": 452
        },
        "id": "3b6df5e3",
        "outputId": "2617f36e-c12c-46b4-96ba-0af1f4f4566a"
      },
      "outputs": [
        {
          "output_type": "display_data",
          "data": {
            "text/plain": [
              "<Figure size 1490.4x595.44 with 2 Axes>"
            ],
            "image/png": "[encoded data removed]"
          },
          "metadata": {}
        }
      ],
      "source": [
        "# 1 and 7 day by treatment group graphically\n",
        "\n",
        "fig, axes = plt.subplots(1, 2)\n",
        "sns.barplot(x='version', y='ratio', data=reten_1.reset_index(), hue='retention_1', ax=axes[0])\n",
        "sns.barplot(x='version', y='ratio', data=reten_7.reset_index(), hue='retention_7', ax=axes[1])\n",
        "\n",
        "plt.suptitle('1 and 7 Day Retention Rates by Group')\n",
        "fig.tight_layout(pad=3.0)\n",
        "axes[0].set_title('1 Day Retention Rate')\n",
        "fig.tight_layout(pad=3.0)\n",
        "axes[1].set_title('7 Day Retention Rate')\n",
        "plt.show()"
      ]
    },
    {
      "cell_type": "code",
      "execution_count": null,
      "id": "d1670484",
      "metadata": {
        "execution": {
          "iopub.execute_input": "2022-08-24T13:08:32.301708Z",
          "iopub.status.busy": "2022-08-24T13:08:32.301080Z",
          "iopub.status.idle": "2022-08-24T13:08:32.351778Z",
          "shell.execute_reply": "2022-08-24T13:08:32.350542Z"
        },
        "papermill": {
          "duration": 0.079867,
          "end_time": "2022-08-24T13:08:32.354442",
          "exception": false,
          "start_time": "2022-08-24T13:08:32.274575",
          "status": "completed"
        },
        "tags": [],
        "colab": {
          "base_uri": "https://localhost:8080/",
          "height": 332
        },
        "id": "d1670484",
        "outputId": "5b38042b-50a0-4804-fe7e-837f515f2000"
      },
      "outputs": [
        {
          "output_type": "execute_result",
          "data": {
            "text/plain": [
              "                                  mean  median    std   max  count  ratio\n",
              "version retention_1 retention_7                                          \n",
              "gate_30 False       False        11.82    6.00  21.64   981  22840   0.51\n",
              "                    True         73.17   43.00  93.22  1072   1825   0.04\n",
              "        True        False        49.69   33.00  58.13   918  13358   0.30\n",
              "                    True        183.89  127.00 189.63  2961   6676   0.15\n",
              "gate_40 False       False        11.91    6.00  20.90   547  23597   0.52\n",
              "                    True         75.26   47.00  94.48  1241   1773   0.04\n",
              "        True        False        50.03   32.00  60.92  2640  13613   0.30\n",
              "                    True        190.28  133.00 194.22  2294   6506   0.14"
            ],
            "text/html": [
              "\n",
              "  <div id=\"df-7def8735-af8f-4ff8-97b9-30ba4410a141\">\n",
              "    <div class=\"colab-df-container\">\n",
              "      <div>\n",
              "<style scoped>\n",
              "    .dataframe tbody tr th:only-of-type {\n",
              "        vertical-align: middle;\n",
              "    }\n",
              "\n",
              "    .dataframe tbody tr th {\n",
              "        vertical-align: top;\n",
              "    }\n",
              "\n",
              "    .dataframe thead th {\n",
              "        text-align: right;\n",
              "    }\n",
              "</style>\n",
              "<table border=\"1\" class=\"dataframe\">\n",
              "  <thead>\n",
              "    <tr style=\"text-align: right;\">\n",
              "      <th></th>\n",
              "      <th></th>\n",
              "      <th></th>\n",
              "      <th>mean</th>\n",
              "      <th>median</th>\n",
              "      <th>std</th>\n",
              "      <th>max</th>\n",
              "      <th>count</th>\n",
              "      <th>ratio</th>\n",
              "    </tr>\n",
              "    <tr>\n",
              "      <th>version</th>\n",
              "      <th>retention_1</th>\n",
              "      <th>retention_7</th>\n",
              "      <th></th>\n",
              "      <th></th>\n",
              "      <th></th>\n",
              "      <th></th>\n",
              "      <th></th>\n",
              "      <th></th>\n",
              "    </tr>\n",
              "  </thead>\n",
              "  <tbody>\n",
              "    <tr>\n",
              "      <th rowspan=\"4\" valign=\"top\">gate_30</th>\n",
              "      <th rowspan=\"2\" valign=\"top\">False</th>\n",
              "      <th>False</th>\n",
              "      <td>11.82</td>\n",
              "      <td>6.00</td>\n",
              "      <td>21.64</td>\n",
              "      <td>981</td>\n",
              "      <td>22840</td>\n",
              "      <td>0.51</td>\n",
              "    </tr>\n",
              "    <tr>\n",
              "      <th>True</th>\n",
              "      <td>73.17</td>\n",
              "      <td>43.00</td>\n",
              "      <td>93.22</td>\n",
              "      <td>1072</td>\n",
              "      <td>1825</td>\n",
              "      <td>0.04</td>\n",
              "    </tr>\n",
              "    <tr>\n",
              "      <th rowspan=\"2\" valign=\"top\">True</th>\n",
              "      <th>False</th>\n",
              "      <td>49.69</td>\n",
              "      <td>33.00</td>\n",
              "      <td>58.13</td>\n",
              "      <td>918</td>\n",
              "      <td>13358</td>\n",
              "      <td>0.30</td>\n",
              "    </tr>\n",
              "    <tr>\n",
              "      <th>True</th>\n",
              "      <td>183.89</td>\n",
              "      <td>127.00</td>\n",
              "      <td>189.63</td>\n",
              "      <td>2961</td>\n",
              "      <td>6676</td>\n",
              "      <td>0.15</td>\n",
              "    </tr>\n",
              "    <tr>\n",
              "      <th rowspan=\"4\" valign=\"top\">gate_40</th>\n",
              "      <th rowspan=\"2\" valign=\"top\">False</th>\n",
              "      <th>False</th>\n",
              "      <td>11.91</td>\n",
              "      <td>6.00</td>\n",
              "      <td>20.90</td>\n",
              "      <td>547</td>\n",
              "      <td>23597</td>\n",
              "      <td>0.52</td>\n",
              "    </tr>\n",
              "    <tr>\n",
              "      <th>True</th>\n",
              "      <td>75.26</td>\n",
              "      <td>47.00</td>\n",
              "      <td>94.48</td>\n",
              "      <td>1241</td>\n",
              "      <td>1773</td>\n",
              "      <td>0.04</td>\n",
              "    </tr>\n",
              "    <tr>\n",
              "      <th rowspan=\"2\" valign=\"top\">True</th>\n",
              "      <th>False</th>\n",
              "      <td>50.03</td>\n",
              "      <td>32.00</td>\n",
              "      <td>60.92</td>\n",
              "      <td>2640</td>\n",
              "      <td>13613</td>\n",
              "      <td>0.30</td>\n",
              "    </tr>\n",
              "    <tr>\n",
              "      <th>True</th>\n",
              "      <td>190.28</td>\n",
              "      <td>133.00</td>\n",
              "      <td>194.22</td>\n",
              "      <td>2294</td>\n",
              "      <td>6506</td>\n",
              "      <td>0.14</td>\n",
              "    </tr>\n",
              "  </tbody>\n",
              "</table>\n",
              "</div>\n",
              "      <button class=\"colab-df-convert\" onclick=\"convertToInteractive('df-7def8735-af8f-4ff8-97b9-30ba4410a141')\"\n",
              "              title=\"Convert this dataframe to an interactive table.\"\n",
              "              style=\"display:none;\">\n",
              "        \n",
              "  <svg xmlns=\"http://www.w3.org/2000/svg\" height=\"24px\"viewBox=\"0 0 24 24\"\n",
              "       width=\"24px\">\n",
              "    <path d=\"M0 0h24v24H0V0z\" fill=\"none\"/>\n",
              "    <path d=\"M18.56 5.44l.94 2.06.94-2.06 2.06-.94-2.06-.94-.94-2.06-.94 2.06-2.06.94zm-11 1L8.5 8.5l.94-2.06 2.06-.94-2.06-.94L8.5 2.5l-.94 2.06-2.06.94zm10 10l.94 2.06.94-2.06 2.06-.94-2.06-.94-.94-2.06-.94 2.06-2.06.94z\"/><path d=\"M17.41 7.96l-1.37-1.37c-.4-.4-.92-.59-1.43-.59-.52 0-1.04.2-1.43.59L10.3 9.45l-7.72 7.72c-.78.78-.78 2.05 0 2.83L4 21.41c.39.39.9.59 1.41.59.51 0 1.02-.2 1.41-.59l7.78-7.78 2.81-2.81c.8-.78.8-2.07 0-2.86zM5.41 20L4 18.59l7.72-7.72 1.47 1.35L5.41 20z\"/>\n",
              "  </svg>\n",
              "      </button>\n",
              "      \n",
              "  <style>\n",
              "    .colab-df-container {\n",
              "      display:flex;\n",
              "      flex-wrap:wrap;\n",
              "      gap: 12px;\n",
              "    }\n",
              "\n",
              "    .colab-df-convert {\n",
              "      background-color: #E8F0FE;\n",
              "      border: none;\n",
              "      border-radius: 50%;\n",
              "      cursor: pointer;\n",
              "      display: none;\n",
              "      fill: #1967D2;\n",
              "      height: 32px;\n",
              "      padding: 0 0 0 0;\n",
              "      width: 32px;\n",
              "    }\n",
              "\n",
              "    .colab-df-convert:hover {\n",
              "      background-color: #E2EBFA;\n",
              "      box-shadow: 0px 1px 2px rgba(60, 64, 67, 0.3), 0px 1px 3px 1px rgba(60, 64, 67, 0.15);\n",
              "      fill: #174EA6;\n",
              "    }\n",
              "\n",
              "    [theme=dark] .colab-df-convert {\n",
              "      background-color: #3B4455;\n",
              "      fill: #D2E3FC;\n",
              "    }\n",
              "\n",
              "    [theme=dark] .colab-df-convert:hover {\n",
              "      background-color: #434B5C;\n",
              "      box-shadow: 0px 1px 3px 1px rgba(0, 0, 0, 0.15);\n",
              "      filter: drop-shadow(0px 1px 2px rgba(0, 0, 0, 0.3));\n",
              "      fill: #FFFFFF;\n",
              "    }\n",
              "  </style>\n",
              "\n",
              "      <script>\n",
              "        const buttonEl =\n",
              "          document.querySelector('#df-7def8735-af8f-4ff8-97b9-30ba4410a141 button.colab-df-convert');\n",
              "        buttonEl.style.display =\n",
              "          google.colab.kernel.accessAllowed ? 'block' : 'none';\n",
              "\n",
              "        async function convertToInteractive(key) {\n",
              "          const element = document.querySelector('#df-7def8735-af8f-4ff8-97b9-30ba4410a141');\n",
              "          const dataTable =\n",
              "            await google.colab.kernel.invokeFunction('convertToInteractive',\n",
              "                                                     [key], {});\n",
              "          if (!dataTable) return;\n",
              "\n",
              "          const docLinkHtml = 'Like what you see? Visit the ' +\n",
              "            '<a target=\"_blank\" href=https://colab.research.google.com/notebooks/data_table.ipynb>data table notebook</a>'\n",
              "            + ' to learn more about interactive tables.';\n",
              "          element.innerHTML = '';\n",
              "          dataTable['output_type'] = 'display_data';\n",
              "          await google.colab.output.renderOutput(dataTable, element);\n",
              "          const docLink = document.createElement('div');\n",
              "          docLink.innerHTML = docLinkHtml;\n",
              "          element.appendChild(docLink);\n",
              "        }\n",
              "      </script>\n",
              "    </div>\n",
              "  </div>\n",
              "  "
            ]
          },
          "metadata": {},
          "execution_count": 26
        }
      ],
      "source": [
        "# Looking at both day 1 and 7 values together\n",
        "\n",
        "reten_both = data.groupby(['version', 'retention_1', 'retention_7'])['sum_gamerounds'].agg(['mean', 'median', 'std', 'max', 'count'])\n",
        "reten_both['ratio'] = reten_both.groupby(level=0).apply(lambda x: x / x.sum())['count']\n",
        "reten_both"
      ]
    },
    {
      "cell_type": "code",
      "execution_count": null,
      "id": "4a25ec48",
      "metadata": {
        "execution": {
          "iopub.execute_input": "2022-08-24T13:08:32.407418Z",
          "iopub.status.busy": "2022-08-24T13:08:32.406857Z",
          "iopub.status.idle": "2022-08-24T13:08:32.445045Z",
          "shell.execute_reply": "2022-08-24T13:08:32.443499Z"
        },
        "papermill": {
          "duration": 0.068622,
          "end_time": "2022-08-24T13:08:32.448388",
          "exception": false,
          "start_time": "2022-08-24T13:08:32.379766",
          "status": "completed"
        },
        "tags": [],
        "colab": {
          "base_uri": "https://localhost:8080/",
          "height": 332
        },
        "id": "4a25ec48",
        "outputId": "a921fe00-c159-476d-d4b4-da797298e013"
      },
      "outputs": [
        {
          "output_type": "execute_result",
          "data": {
            "text/plain": [
              "                                  mean  median    std   max  count  ratio  \\\n",
              "version retention_1 retention_7                                             \n",
              "gate_30 False       False        11.82    6.00  21.64   981  22840   0.51   \n",
              "                    True         73.17   43.00  93.22  1072   1825   0.04   \n",
              "        True        False        49.69   33.00  58.13   918  13358   0.30   \n",
              "                    True        183.89  127.00 189.63  2961   6676   0.15   \n",
              "gate_40 False       False        11.91    6.00  20.90   547  23597   0.52   \n",
              "                    True         75.26   47.00  94.48  1241   1773   0.04   \n",
              "        True        False        50.03   32.00  60.92  2640  13613   0.30   \n",
              "                    True        190.28  133.00 194.22  2294   6506   0.14   \n",
              "\n",
              "                                  reten_both  \n",
              "version retention_1 retention_7               \n",
              "gate_30 False       False        False-False  \n",
              "                    True          False-True  \n",
              "        True        False         True-False  \n",
              "                    True           True-True  \n",
              "gate_40 False       False        False-False  \n",
              "                    True          False-True  \n",
              "        True        False         True-False  \n",
              "                    True           True-True  "
            ],
            "text/html": [
              "\n",
              "  <div id=\"df-75b8a403-d4a3-4fe6-ab9d-4e5bbe4d8b62\">\n",
              "    <div class=\"colab-df-container\">\n",
              "      <div>\n",
              "<style scoped>\n",
              "    .dataframe tbody tr th:only-of-type {\n",
              "        vertical-align: middle;\n",
              "    }\n",
              "\n",
              "    .dataframe tbody tr th {\n",
              "        vertical-align: top;\n",
              "    }\n",
              "\n",
              "    .dataframe thead th {\n",
              "        text-align: right;\n",
              "    }\n",
              "</style>\n",
              "<table border=\"1\" class=\"dataframe\">\n",
              "  <thead>\n",
              "    <tr style=\"text-align: right;\">\n",
              "      <th></th>\n",
              "      <th></th>\n",
              "      <th></th>\n",
              "      <th>mean</th>\n",
              "      <th>median</th>\n",
              "      <th>std</th>\n",
              "      <th>max</th>\n",
              "      <th>count</th>\n",
              "      <th>ratio</th>\n",
              "      <th>reten_both</th>\n",
              "    </tr>\n",
              "    <tr>\n",
              "      <th>version</th>\n",
              "      <th>retention_1</th>\n",
              "      <th>retention_7</th>\n",
              "      <th></th>\n",
              "      <th></th>\n",
              "      <th></th>\n",
              "      <th></th>\n",
              "      <th></th>\n",
              "      <th></th>\n",
              "      <th></th>\n",
              "    </tr>\n",
              "  </thead>\n",
              "  <tbody>\n",
              "    <tr>\n",
              "      <th rowspan=\"4\" valign=\"top\">gate_30</th>\n",
              "      <th rowspan=\"2\" valign=\"top\">False</th>\n",
              "      <th>False</th>\n",
              "      <td>11.82</td>\n",
              "      <td>6.00</td>\n",
              "      <td>21.64</td>\n",
              "      <td>981</td>\n",
              "      <td>22840</td>\n",
              "      <td>0.51</td>\n",
              "      <td>False-False</td>\n",
              "    </tr>\n",
              "    <tr>\n",
              "      <th>True</th>\n",
              "      <td>73.17</td>\n",
              "      <td>43.00</td>\n",
              "      <td>93.22</td>\n",
              "      <td>1072</td>\n",
              "      <td>1825</td>\n",
              "      <td>0.04</td>\n",
              "      <td>False-True</td>\n",
              "    </tr>\n",
              "    <tr>\n",
              "      <th rowspan=\"2\" valign=\"top\">True</th>\n",
              "      <th>False</th>\n",
              "      <td>49.69</td>\n",
              "      <td>33.00</td>\n",
              "      <td>58.13</td>\n",
              "      <td>918</td>\n",
              "      <td>13358</td>\n",
              "      <td>0.30</td>\n",
              "      <td>True-False</td>\n",
              "    </tr>\n",
              "    <tr>\n",
              "      <th>True</th>\n",
              "      <td>183.89</td>\n",
              "      <td>127.00</td>\n",
              "      <td>189.63</td>\n",
              "      <td>2961</td>\n",
              "      <td>6676</td>\n",
              "      <td>0.15</td>\n",
              "      <td>True-True</td>\n",
              "    </tr>\n",
              "    <tr>\n",
              "      <th rowspan=\"4\" valign=\"top\">gate_40</th>\n",
              "      <th rowspan=\"2\" valign=\"top\">False</th>\n",
              "      <th>False</th>\n",
              "      <td>11.91</td>\n",
              "      <td>6.00</td>\n",
              "      <td>20.90</td>\n",
              "      <td>547</td>\n",
              "      <td>23597</td>\n",
              "      <td>0.52</td>\n",
              "      <td>False-False</td>\n",
              "    </tr>\n",
              "    <tr>\n",
              "      <th>True</th>\n",
              "      <td>75.26</td>\n",
              "      <td>47.00</td>\n",
              "      <td>94.48</td>\n",
              "      <td>1241</td>\n",
              "      <td>1773</td>\n",
              "      <td>0.04</td>\n",
              "      <td>False-True</td>\n",
              "    </tr>\n",
              "    <tr>\n",
              "      <th rowspan=\"2\" valign=\"top\">True</th>\n",
              "      <th>False</th>\n",
              "      <td>50.03</td>\n",
              "      <td>32.00</td>\n",
              "      <td>60.92</td>\n",
              "      <td>2640</td>\n",
              "      <td>13613</td>\n",
              "      <td>0.30</td>\n",
              "      <td>True-False</td>\n",
              "    </tr>\n",
              "    <tr>\n",
              "      <th>True</th>\n",
              "      <td>190.28</td>\n",
              "      <td>133.00</td>\n",
              "      <td>194.22</td>\n",
              "      <td>2294</td>\n",
              "      <td>6506</td>\n",
              "      <td>0.14</td>\n",
              "      <td>True-True</td>\n",
              "    </tr>\n",
              "  </tbody>\n",
              "</table>\n",
              "</div>\n",
              "      <button class=\"colab-df-convert\" onclick=\"convertToInteractive('df-75b8a403-d4a3-4fe6-ab9d-4e5bbe4d8b62')\"\n",
              "              title=\"Convert this dataframe to an interactive table.\"\n",
              "              style=\"display:none;\">\n",
              "        \n",
              "  <svg xmlns=\"http://www.w3.org/2000/svg\" height=\"24px\"viewBox=\"0 0 24 24\"\n",
              "       width=\"24px\">\n",
              "    <path d=\"M0 0h24v24H0V0z\" fill=\"none\"/>\n",
              "    <path d=\"M18.56 5.44l.94 2.06.94-2.06 2.06-.94-2.06-.94-.94-2.06-.94 2.06-2.06.94zm-11 1L8.5 8.5l.94-2.06 2.06-.94-2.06-.94L8.5 2.5l-.94 2.06-2.06.94zm10 10l.94 2.06.94-2.06 2.06-.94-2.06-.94-.94-2.06-.94 2.06-2.06.94z\"/><path d=\"M17.41 7.96l-1.37-1.37c-.4-.4-.92-.59-1.43-.59-.52 0-1.04.2-1.43.59L10.3 9.45l-7.72 7.72c-.78.78-.78 2.05 0 2.83L4 21.41c.39.39.9.59 1.41.59.51 0 1.02-.2 1.41-.59l7.78-7.78 2.81-2.81c.8-.78.8-2.07 0-2.86zM5.41 20L4 18.59l7.72-7.72 1.47 1.35L5.41 20z\"/>\n",
              "  </svg>\n",
              "      </button>\n",
              "      \n",
              "  <style>\n",
              "    .colab-df-container {\n",
              "      display:flex;\n",
              "      flex-wrap:wrap;\n",
              "      gap: 12px;\n",
              "    }\n",
              "\n",
              "    .colab-df-convert {\n",
              "      background-color: #E8F0FE;\n",
              "      border: none;\n",
              "      border-radius: 50%;\n",
              "      cursor: pointer;\n",
              "      display: none;\n",
              "      fill: #1967D2;\n",
              "      height: 32px;\n",
              "      padding: 0 0 0 0;\n",
              "      width: 32px;\n",
              "    }\n",
              "\n",
              "    .colab-df-convert:hover {\n",
              "      background-color: #E2EBFA;\n",
              "      box-shadow: 0px 1px 2px rgba(60, 64, 67, 0.3), 0px 1px 3px 1px rgba(60, 64, 67, 0.15);\n",
              "      fill: #174EA6;\n",
              "    }\n",
              "\n",
              "    [theme=dark] .colab-df-convert {\n",
              "      background-color: #3B4455;\n",
              "      fill: #D2E3FC;\n",
              "    }\n",
              "\n",
              "    [theme=dark] .colab-df-convert:hover {\n",
              "      background-color: #434B5C;\n",
              "      box-shadow: 0px 1px 3px 1px rgba(0, 0, 0, 0.15);\n",
              "      filter: drop-shadow(0px 1px 2px rgba(0, 0, 0, 0.3));\n",
              "      fill: #FFFFFF;\n",
              "    }\n",
              "  </style>\n",
              "\n",
              "      <script>\n",
              "        const buttonEl =\n",
              "          document.querySelector('#df-75b8a403-d4a3-4fe6-ab9d-4e5bbe4d8b62 button.colab-df-convert');\n",
              "        buttonEl.style.display =\n",
              "          google.colab.kernel.accessAllowed ? 'block' : 'none';\n",
              "\n",
              "        async function convertToInteractive(key) {\n",
              "          const element = document.querySelector('#df-75b8a403-d4a3-4fe6-ab9d-4e5bbe4d8b62');\n",
              "          const dataTable =\n",
              "            await google.colab.kernel.invokeFunction('convertToInteractive',\n",
              "                                                     [key], {});\n",
              "          if (!dataTable) return;\n",
              "\n",
              "          const docLinkHtml = 'Like what you see? Visit the ' +\n",
              "            '<a target=\"_blank\" href=https://colab.research.google.com/notebooks/data_table.ipynb>data table notebook</a>'\n",
              "            + ' to learn more about interactive tables.';\n",
              "          element.innerHTML = '';\n",
              "          dataTable['output_type'] = 'display_data';\n",
              "          await google.colab.output.renderOutput(dataTable, element);\n",
              "          const docLink = document.createElement('div');\n",
              "          docLink.innerHTML = docLinkHtml;\n",
              "          element.appendChild(docLink);\n",
              "        }\n",
              "      </script>\n",
              "    </div>\n",
              "  </div>\n",
              "  "
            ]
          },
          "metadata": {},
          "execution_count": 27
        }
      ],
      "source": [
        "# Add a column with 1 and 7 Day Retention Bools\n",
        "reten_both['retention_1_str'] = np.where(reten_both.reset_index()['retention_1'] == True, 'True', 'False')\n",
        "reten_both['retention_7_str'] = np.where(reten_both.reset_index()['retention_7'] == True, 'True', 'False')\n",
        "reten_both['reten_both'] = reten_both['retention_1_str'].str.cat(reten_both['retention_7_str'], '-')\n",
        "reten_both.drop(columns=['retention_1_str', 'retention_7_str'], inplace=True)\n",
        "# test['reten_both'] = test['retention_1'].apply(lambda x, y: f\"{str(x)}+{str(y)}\", test['retention_7'], axis=1)\n",
        "reten_both"
      ]
    },
    {
      "cell_type": "code",
      "execution_count": null,
      "id": "9c44ff22",
      "metadata": {
        "execution": {
          "iopub.execute_input": "2022-08-24T13:08:32.504991Z",
          "iopub.status.busy": "2022-08-24T13:08:32.503881Z",
          "iopub.status.idle": "2022-08-24T13:08:32.784776Z",
          "shell.execute_reply": "2022-08-24T13:08:32.783202Z"
        },
        "papermill": {
          "duration": 0.312326,
          "end_time": "2022-08-24T13:08:32.787844",
          "exception": false,
          "start_time": "2022-08-24T13:08:32.475518",
          "status": "completed"
        },
        "tags": [],
        "colab": {
          "base_uri": "https://localhost:8080/",
          "height": 472
        },
        "id": "9c44ff22",
        "outputId": "72f837c6-fa6b-47f2-9a27-e670cd347fc9"
      },
      "outputs": [
        {
          "output_type": "display_data",
          "data": {
            "text/plain": [
              "<Figure size 1490.4x595.44 with 1 Axes>"
            ],
            "image/png": "[encoded data removed]"
          },
          "metadata": {}
        }
      ],
      "source": [
        "# Looking at combined 1 and 7 Day Retention Rates\n",
        "\n",
        "fig, ax = plt.subplots()\n",
        "sns.barplot(x='reten_both', y='ratio', data=reten_both.reset_index(), hue='version', ax=ax)\n",
        "ax.set_title('Combined 1 and 7 Day Retention Rates')\n",
        "ax.set_xlabel('1 and 7 Day Return (Day 1-Day 7)')\n",
        "ax.set_ylabel('Retention Rate')\n",
        "\n",
        "plt.show()"
      ]
    },
    {
      "cell_type": "markdown",
      "id": "b8584615",
      "metadata": {
        "papermill": {
          "duration": 0.025608,
          "end_time": "2022-08-24T13:08:32.839214",
          "exception": false,
          "start_time": "2022-08-24T13:08:32.813606",
          "status": "completed"
        },
        "tags": [],
        "id": "b8584615"
      },
      "source": [
        "### Retention Rate Observations\n",
        "\n",
        "Considering the entire sample, the 1 and 7 Day Retention Rate are 0.445 and 0.186 respectively. \n",
        "\n",
        "Graphically, there is not much to see. **The values for Day 1 and Day 7 retention rates are slightly higher for the control group,  `gate_30`, with a 1 and 7 Day retention rate of 0.448 and 0.190 respectively, compared with the the treatment group, `gate_40`, rates of 0.442 and 0.182.** The control groups retention rates are greater than the retention rates for the entire sample.\n",
        "\n",
        "AB tests will be performed to see if these values are statistically significant or not.\n",
        "\n",
        "Looking at the combined 1 and 7 Day Retention Rates, it looks like slightly more players assigned to the control group, `gate_30`, played the game both on Day 1 and with 7 Days (True-True), and more players assigned to the treatment group, `gate_40`, played neither on Day 1 or Day 7 (False-False) "
      ]
    },
    {
      "cell_type": "markdown",
      "id": "da0c4f34",
      "metadata": {
        "papermill": {
          "duration": 0.02552,
          "end_time": "2022-08-24T13:08:32.891350",
          "exception": false,
          "start_time": "2022-08-24T13:08:32.865830",
          "status": "completed"
        },
        "tags": [],
        "id": "da0c4f34"
      },
      "source": [
        "# 5. AB Tests <a name ='5'></a>\n",
        "\n",
        "The business question relates specifically to changing the gates based on the day 1 and 7 retention rates. We can also perform an A/B test on sum_gamerounds to check if there is a statistically significant difference in the number of gamerounds played based on assigned group.\n",
        "\n",
        "Therefore, A/B tests on three separate targets: `retention_1`, `retention_7`, and `sum_gamerounds`\n",
        "\n",
        "\n",
        "\n",
        "A confidence interval of 95% will be taken for all tests."
      ]
    },
    {
      "cell_type": "markdown",
      "id": "f9cd8b35",
      "metadata": {
        "papermill": {
          "duration": 0.025658,
          "end_time": "2022-08-24T13:08:32.943570",
          "exception": false,
          "start_time": "2022-08-24T13:08:32.917912",
          "status": "completed"
        },
        "tags": [],
        "id": "f9cd8b35"
      },
      "source": [
        "## 5.1. Day 1 Retention <a name ='5.1'></a>"
      ]
    },
    {
      "cell_type": "markdown",
      "id": "98d759cb",
      "metadata": {
        "papermill": {
          "duration": 0.026308,
          "end_time": "2022-08-24T13:08:32.996271",
          "exception": false,
          "start_time": "2022-08-24T13:08:32.969963",
          "status": "completed"
        },
        "tags": [],
        "id": "98d759cb"
      },
      "source": [
        "### 5.1.1. Bootstrapping <a name ='5.1.1'></a>\n",
        "\n",
        "We will perform a bootstrap analysis. Bootstrapping consists of repeatedly resampling the dataset with replacement with respect to each experimental group. This will provide a normal sampling distribution for both experiment groups. The variation between in Day 1 Retention rates played provides an indication of uncertainty between the two sampling distributions."
      ]
    },
    {
      "cell_type": "code",
      "execution_count": null,
      "id": "3f4b4595",
      "metadata": {
        "execution": {
          "iopub.execute_input": "2022-08-24T13:08:33.053937Z",
          "iopub.status.busy": "2022-08-24T13:08:33.052814Z",
          "iopub.status.idle": "2022-08-24T13:08:53.512677Z",
          "shell.execute_reply": "2022-08-24T13:08:53.510913Z"
        },
        "papermill": {
          "duration": 20.492946,
          "end_time": "2022-08-24T13:08:53.516210",
          "exception": false,
          "start_time": "2022-08-24T13:08:33.023264",
          "status": "completed"
        },
        "tags": [],
        "colab": {
          "base_uri": "https://localhost:8080/",
          "height": 206
        },
        "id": "3f4b4595",
        "outputId": "84c3c9e3-e12f-4c57-b87e-dcadb350890b"
      },
      "outputs": [
        {
          "output_type": "execute_result",
          "data": {
            "text/plain": [
              "version  gate_30  gate_40\n",
              "0           0.45     0.44\n",
              "1           0.44     0.44\n",
              "2           0.44     0.45\n",
              "3           0.45     0.44\n",
              "4           0.45     0.44"
            ],
            "text/html": [
              "\n",
              "  <div id=\"df-213e8910-d287-4221-8c94-9086cfd21e87\">\n",
              "    <div class=\"colab-df-container\">\n",
              "      <div>\n",
              "<style scoped>\n",
              "    .dataframe tbody tr th:only-of-type {\n",
              "        vertical-align: middle;\n",
              "    }\n",
              "\n",
              "    .dataframe tbody tr th {\n",
              "        vertical-align: top;\n",
              "    }\n",
              "\n",
              "    .dataframe thead th {\n",
              "        text-align: right;\n",
              "    }\n",
              "</style>\n",
              "<table border=\"1\" class=\"dataframe\">\n",
              "  <thead>\n",
              "    <tr style=\"text-align: right;\">\n",
              "      <th>version</th>\n",
              "      <th>gate_30</th>\n",
              "      <th>gate_40</th>\n",
              "    </tr>\n",
              "  </thead>\n",
              "  <tbody>\n",
              "    <tr>\n",
              "      <th>0</th>\n",
              "      <td>0.45</td>\n",
              "      <td>0.44</td>\n",
              "    </tr>\n",
              "    <tr>\n",
              "      <th>1</th>\n",
              "      <td>0.44</td>\n",
              "      <td>0.44</td>\n",
              "    </tr>\n",
              "    <tr>\n",
              "      <th>2</th>\n",
              "      <td>0.44</td>\n",
              "      <td>0.45</td>\n",
              "    </tr>\n",
              "    <tr>\n",
              "      <th>3</th>\n",
              "      <td>0.45</td>\n",
              "      <td>0.44</td>\n",
              "    </tr>\n",
              "    <tr>\n",
              "      <th>4</th>\n",
              "      <td>0.45</td>\n",
              "      <td>0.44</td>\n",
              "    </tr>\n",
              "  </tbody>\n",
              "</table>\n",
              "</div>\n",
              "      <button class=\"colab-df-convert\" onclick=\"convertToInteractive('df-213e8910-d287-4221-8c94-9086cfd21e87')\"\n",
              "              title=\"Convert this dataframe to an interactive table.\"\n",
              "              style=\"display:none;\">\n",
              "        \n",
              "  <svg xmlns=\"http://www.w3.org/2000/svg\" height=\"24px\"viewBox=\"0 0 24 24\"\n",
              "       width=\"24px\">\n",
              "    <path d=\"M0 0h24v24H0V0z\" fill=\"none\"/>\n",
              "    <path d=\"M18.56 5.44l.94 2.06.94-2.06 2.06-.94-2.06-.94-.94-2.06-.94 2.06-2.06.94zm-11 1L8.5 8.5l.94-2.06 2.06-.94-2.06-.94L8.5 2.5l-.94 2.06-2.06.94zm10 10l.94 2.06.94-2.06 2.06-.94-2.06-.94-.94-2.06-.94 2.06-2.06.94z\"/><path d=\"M17.41 7.96l-1.37-1.37c-.4-.4-.92-.59-1.43-.59-.52 0-1.04.2-1.43.59L10.3 9.45l-7.72 7.72c-.78.78-.78 2.05 0 2.83L4 21.41c.39.39.9.59 1.41.59.51 0 1.02-.2 1.41-.59l7.78-7.78 2.81-2.81c.8-.78.8-2.07 0-2.86zM5.41 20L4 18.59l7.72-7.72 1.47 1.35L5.41 20z\"/>\n",
              "  </svg>\n",
              "      </button>\n",
              "      \n",
              "  <style>\n",
              "    .colab-df-container {\n",
              "      display:flex;\n",
              "      flex-wrap:wrap;\n",
              "      gap: 12px;\n",
              "    }\n",
              "\n",
              "    .colab-df-convert {\n",
              "      background-color: #E8F0FE;\n",
              "      border: none;\n",
              "      border-radius: 50%;\n",
              "      cursor: pointer;\n",
              "      display: none;\n",
              "      fill: #1967D2;\n",
              "      height: 32px;\n",
              "      padding: 0 0 0 0;\n",
              "      width: 32px;\n",
              "    }\n",
              "\n",
              "    .colab-df-convert:hover {\n",
              "      background-color: #E2EBFA;\n",
              "      box-shadow: 0px 1px 2px rgba(60, 64, 67, 0.3), 0px 1px 3px 1px rgba(60, 64, 67, 0.15);\n",
              "      fill: #174EA6;\n",
              "    }\n",
              "\n",
              "    [theme=dark] .colab-df-convert {\n",
              "      background-color: #3B4455;\n",
              "      fill: #D2E3FC;\n",
              "    }\n",
              "\n",
              "    [theme=dark] .colab-df-convert:hover {\n",
              "      background-color: #434B5C;\n",
              "      box-shadow: 0px 1px 3px 1px rgba(0, 0, 0, 0.15);\n",
              "      filter: drop-shadow(0px 1px 2px rgba(0, 0, 0, 0.3));\n",
              "      fill: #FFFFFF;\n",
              "    }\n",
              "  </style>\n",
              "\n",
              "      <script>\n",
              "        const buttonEl =\n",
              "          document.querySelector('#df-213e8910-d287-4221-8c94-9086cfd21e87 button.colab-df-convert');\n",
              "        buttonEl.style.display =\n",
              "          google.colab.kernel.accessAllowed ? 'block' : 'none';\n",
              "\n",
              "        async function convertToInteractive(key) {\n",
              "          const element = document.querySelector('#df-213e8910-d287-4221-8c94-9086cfd21e87');\n",
              "          const dataTable =\n",
              "            await google.colab.kernel.invokeFunction('convertToInteractive',\n",
              "                                                     [key], {});\n",
              "          if (!dataTable) return;\n",
              "\n",
              "          const docLinkHtml = 'Like what you see? Visit the ' +\n",
              "            '<a target=\"_blank\" href=https://colab.research.google.com/notebooks/data_table.ipynb>data table notebook</a>'\n",
              "            + ' to learn more about interactive tables.';\n",
              "          element.innerHTML = '';\n",
              "          dataTable['output_type'] = 'display_data';\n",
              "          await google.colab.output.renderOutput(dataTable, element);\n",
              "          const docLink = document.createElement('div');\n",
              "          docLink.innerHTML = docLinkHtml;\n",
              "          element.appendChild(docLink);\n",
              "        }\n",
              "      </script>\n",
              "    </div>\n",
              "  </div>\n",
              "  "
            ]
          },
          "metadata": {},
          "execution_count": 29
        }
      ],
      "source": [
        "# Arbitrarily using 1000 random samples with replacement\n",
        "boot_1d = []\n",
        "\n",
        "for i in range(1000): # Reduce to reduce notebook run-time\n",
        "    boot_1d.append(data.sample(frac=1, replace=True).groupby('version')['retention_1'].mean())\n",
        "    \n",
        "boot_1d = pd.DataFrame(boot_1d).reset_index().drop(columns=['index'])\n",
        "boot_1d.head()"
      ]
    },
    {
      "cell_type": "code",
      "execution_count": null,
      "id": "3fcdbee9",
      "metadata": {
        "execution": {
          "iopub.execute_input": "2022-08-24T13:08:53.573843Z",
          "iopub.status.busy": "2022-08-24T13:08:53.573281Z",
          "iopub.status.idle": "2022-08-24T13:08:53.864196Z",
          "shell.execute_reply": "2022-08-24T13:08:53.862671Z"
        },
        "papermill": {
          "duration": 0.323911,
          "end_time": "2022-08-24T13:08:53.867212",
          "exception": false,
          "start_time": "2022-08-24T13:08:53.543301",
          "status": "completed"
        },
        "tags": [],
        "colab": {
          "base_uri": "https://localhost:8080/",
          "height": 278
        },
        "id": "3fcdbee9",
        "outputId": "2059bfb3-7c8f-4f4d-9f5a-d20251ba2e73"
      },
      "outputs": [
        {
          "output_type": "display_data",
          "data": {
            "text/plain": [
              "<Figure size 576x288 with 1 Axes>"
            ],
            "image/png": "[encoded data removed]"
          },
          "metadata": {}
        }
      ],
      "source": [
        "# Plotting distributions of the two experimental groups\n",
        "fig, ax = plt.subplots(figsize=(8,4))\n",
        "sns.kdeplot(data=boot_1d, ax=ax)\n",
        "plt.show()"
      ]
    },
    {
      "cell_type": "code",
      "execution_count": null,
      "id": "215ffc63",
      "metadata": {
        "execution": {
          "iopub.execute_input": "2022-08-24T13:08:53.926745Z",
          "iopub.status.busy": "2022-08-24T13:08:53.925231Z",
          "iopub.status.idle": "2022-08-24T13:08:54.154450Z",
          "shell.execute_reply": "2022-08-24T13:08:54.153018Z"
        },
        "papermill": {
          "duration": 0.262537,
          "end_time": "2022-08-24T13:08:54.157575",
          "exception": false,
          "start_time": "2022-08-24T13:08:53.895038",
          "status": "completed"
        },
        "tags": [],
        "colab": {
          "base_uri": "https://localhost:8080/",
          "height": 300
        },
        "id": "215ffc63",
        "outputId": "ed7bd4fd-a8bb-4e2b-c608-74fdf4d28aa2"
      },
      "outputs": [
        {
          "output_type": "display_data",
          "data": {
            "text/plain": [
              "<Figure size 576x288 with 1 Axes>"
            ],
            "image/png": "[encoded data removed]"
          },
          "metadata": {}
        }
      ],
      "source": [
        "# Percentage difference between gate_30 and gate_40, this will provide a distribution relative to zero\n",
        "boot_1d['diff'] = (boot_1d['gate_40'] - boot_1d['gate_30']) / boot_1d['gate_30']\n",
        "\n",
        "# Plotting \n",
        "fig, ax = plt.subplots(figsize=(8,4))\n",
        "sns.kdeplot(data=boot_1d['diff'], ax=ax)\n",
        "plt.show()"
      ]
    },
    {
      "cell_type": "code",
      "execution_count": null,
      "id": "88860acf",
      "metadata": {
        "execution": {
          "iopub.execute_input": "2022-08-24T13:08:54.218643Z",
          "iopub.status.busy": "2022-08-24T13:08:54.217599Z",
          "iopub.status.idle": "2022-08-24T13:08:54.228136Z",
          "shell.execute_reply": "2022-08-24T13:08:54.226702Z"
        },
        "papermill": {
          "duration": 0.044498,
          "end_time": "2022-08-24T13:08:54.231119",
          "exception": false,
          "start_time": "2022-08-24T13:08:54.186621",
          "status": "completed"
        },
        "tags": [],
        "colab": {
          "base_uri": "https://localhost:8080/"
        },
        "id": "88860acf",
        "outputId": "1d9d5af8-9770-4b71-acc4-47b6bc9bcf14"
      },
      "outputs": [
        {
          "output_type": "execute_result",
          "data": {
            "text/plain": [
              "0.037"
            ]
          },
          "metadata": {},
          "execution_count": 32
        }
      ],
      "source": [
        "# Probability that 1 Day Retention is greater when gate is at Level 40\n",
        "prob = (boot_1d['diff'] > 0).mean()\n",
        "prob"
      ]
    },
    {
      "cell_type": "markdown",
      "id": "06d4dfe5",
      "metadata": {
        "papermill": {
          "duration": 0.028821,
          "end_time": "2022-08-24T13:08:54.288666",
          "exception": false,
          "start_time": "2022-08-24T13:08:54.259845",
          "status": "completed"
        },
        "tags": [],
        "id": "06d4dfe5"
      },
      "source": [
        "By plotting the difference between the two bootstrapped distributions and taking the percentage difference, we can determine the probability that the 1 Day retention rate was greater when the gate was set to 40. The probability calculated was 0.021 or 2.1%, suggesting that retention was greater when the gate was set to Level 30."
      ]
    },
    {
      "cell_type": "markdown",
      "id": "38bd8bdb",
      "metadata": {
        "papermill": {
          "duration": 0.028828,
          "end_time": "2022-08-24T13:08:54.346615",
          "exception": false,
          "start_time": "2022-08-24T13:08:54.317787",
          "status": "completed"
        },
        "tags": [],
        "id": "38bd8bdb"
      },
      "source": [
        "## 5.1.2. Proportional z-test <a name ='5.1.2'></a>\n",
        "\n",
        "Because we are testing *retention rates*, a 2 sample proportional z-test is appropriate to check the proportions between the control and treatment group are statistically significant. The retention rate for `gate_40` can either go above or below the existing `gate_30`, requiring a two-tailed z-test. \n",
        "\n",
        "H0 = The proportions are the same\n",
        "\n",
        "H1 = The proportions are different"
      ]
    },
    {
      "cell_type": "code",
      "execution_count": null,
      "id": "86a809ce",
      "metadata": {
        "execution": {
          "iopub.execute_input": "2022-08-24T13:08:54.408274Z",
          "iopub.status.busy": "2022-08-24T13:08:54.407099Z",
          "iopub.status.idle": "2022-08-24T13:08:54.465117Z",
          "shell.execute_reply": "2022-08-24T13:08:54.463549Z"
        },
        "papermill": {
          "duration": 0.092845,
          "end_time": "2022-08-24T13:08:54.468444",
          "exception": false,
          "start_time": "2022-08-24T13:08:54.375599",
          "status": "completed"
        },
        "tags": [],
        "colab": {
          "base_uri": "https://localhost:8080/"
        },
        "id": "86a809ce",
        "outputId": "b16ba271-47fe-4fbd-c960-ed1310348cce"
      },
      "outputs": [
        {
          "output_type": "execute_result",
          "data": {
            "text/plain": [
              "((20034, 44699), (20119, 45489))"
            ]
          },
          "metadata": {},
          "execution_count": 33
        }
      ],
      "source": [
        "# Significance Level\n",
        "alpha = 0.025\n",
        "\n",
        "cont_succ = data[data['version'] == 'gate_30']['retention_1'].sum()\n",
        "cont_size = data[data['version'] == 'gate_30'].shape[0]\n",
        "treat_succ = data[data['version'] == 'gate_40']['retention_1'].sum()\n",
        "treat_size = data[data['version'] == 'gate_40'].shape[0]\n",
        "\n",
        "(cont_succ, cont_size), (treat_succ, treat_size)"
      ]
    },
    {
      "cell_type": "code",
      "execution_count": null,
      "id": "34fd3553",
      "metadata": {
        "execution": {
          "iopub.execute_input": "2022-08-24T13:08:54.530651Z",
          "iopub.status.busy": "2022-08-24T13:08:54.530052Z",
          "iopub.status.idle": "2022-08-24T13:08:54.541321Z",
          "shell.execute_reply": "2022-08-24T13:08:54.539447Z"
        },
        "papermill": {
          "duration": 0.046562,
          "end_time": "2022-08-24T13:08:54.544703",
          "exception": false,
          "start_time": "2022-08-24T13:08:54.498141",
          "status": "completed"
        },
        "tags": [],
        "colab": {
          "base_uri": "https://localhost:8080/"
        },
        "id": "34fd3553",
        "outputId": "7d39324c-72b5-48fa-aaaf-1483a492ea21"
      },
      "outputs": [
        {
          "output_type": "execute_result",
          "data": {
            "text/plain": [
              "(1.787103509763628, 0.0739207603418346)"
            ]
          },
          "metadata": {},
          "execution_count": 34
        }
      ],
      "source": [
        "z_score, p_value = proportions_ztest(count=[cont_succ, treat_succ], nobs=[cont_size, treat_size], alternative='two-sided')\n",
        "\n",
        "z_score, p_value"
      ]
    },
    {
      "cell_type": "markdown",
      "id": "58c31595",
      "metadata": {
        "papermill": {
          "duration": 0.029194,
          "end_time": "2022-08-24T13:08:54.603456",
          "exception": false,
          "start_time": "2022-08-24T13:08:54.574262",
          "status": "completed"
        },
        "tags": [],
        "id": "58c31595"
      },
      "source": [
        "The z-test provided a *p-value* greater than 0.025, meaning we **can not reject the Null Hypothesis** of the the proportions being the same."
      ]
    },
    {
      "cell_type": "markdown",
      "id": "b7c19186",
      "metadata": {
        "papermill": {
          "duration": 0.029086,
          "end_time": "2022-08-24T13:08:54.661835",
          "exception": false,
          "start_time": "2022-08-24T13:08:54.632749",
          "status": "completed"
        },
        "tags": [],
        "id": "b7c19186"
      },
      "source": [
        "### 5.2. Day 7 Retention <a name ='5.2'></a>\n",
        "\n",
        "Analysis is the same as Day 1 Retention."
      ]
    },
    {
      "cell_type": "markdown",
      "id": "f81f24ae",
      "metadata": {
        "papermill": {
          "duration": 0.028517,
          "end_time": "2022-08-24T13:08:54.720509",
          "exception": false,
          "start_time": "2022-08-24T13:08:54.691992",
          "status": "completed"
        },
        "tags": [],
        "id": "f81f24ae"
      },
      "source": [
        "### 5.2.1. Bootstrapping <a name ='5.2.1'></a>"
      ]
    },
    {
      "cell_type": "code",
      "execution_count": null,
      "id": "c1cc8a28",
      "metadata": {
        "execution": {
          "iopub.execute_input": "2022-08-24T13:08:54.782122Z",
          "iopub.status.busy": "2022-08-24T13:08:54.781640Z",
          "iopub.status.idle": "2022-08-24T13:09:19.655881Z",
          "shell.execute_reply": "2022-08-24T13:09:19.654689Z"
        },
        "papermill": {
          "duration": 24.9082,
          "end_time": "2022-08-24T13:09:19.659031",
          "exception": false,
          "start_time": "2022-08-24T13:08:54.750831",
          "status": "completed"
        },
        "tags": [],
        "colab": {
          "base_uri": "https://localhost:8080/",
          "height": 206
        },
        "id": "c1cc8a28",
        "outputId": "4ef1f300-4be0-4357-b79a-8cce6843a244"
      },
      "outputs": [
        {
          "output_type": "execute_result",
          "data": {
            "text/plain": [
              "version  gate_30  gate_40\n",
              "0           0.19     0.18\n",
              "1           0.19     0.18\n",
              "2           0.19     0.18\n",
              "3           0.19     0.18\n",
              "4           0.19     0.18"
            ],
            "text/html": [
              "\n",
              "  <div id=\"df-da7b1cdd-0067-44b0-80da-039b32619777\">\n",
              "    <div class=\"colab-df-container\">\n",
              "      <div>\n",
              "<style scoped>\n",
              "    .dataframe tbody tr th:only-of-type {\n",
              "        vertical-align: middle;\n",
              "    }\n",
              "\n",
              "    .dataframe tbody tr th {\n",
              "        vertical-align: top;\n",
              "    }\n",
              "\n",
              "    .dataframe thead th {\n",
              "        text-align: right;\n",
              "    }\n",
              "</style>\n",
              "<table border=\"1\" class=\"dataframe\">\n",
              "  <thead>\n",
              "    <tr style=\"text-align: right;\">\n",
              "      <th>version</th>\n",
              "      <th>gate_30</th>\n",
              "      <th>gate_40</th>\n",
              "    </tr>\n",
              "  </thead>\n",
              "  <tbody>\n",
              "    <tr>\n",
              "      <th>0</th>\n",
              "      <td>0.19</td>\n",
              "      <td>0.18</td>\n",
              "    </tr>\n",
              "    <tr>\n",
              "      <th>1</th>\n",
              "      <td>0.19</td>\n",
              "      <td>0.18</td>\n",
              "    </tr>\n",
              "    <tr>\n",
              "      <th>2</th>\n",
              "      <td>0.19</td>\n",
              "      <td>0.18</td>\n",
              "    </tr>\n",
              "    <tr>\n",
              "      <th>3</th>\n",
              "      <td>0.19</td>\n",
              "      <td>0.18</td>\n",
              "    </tr>\n",
              "    <tr>\n",
              "      <th>4</th>\n",
              "      <td>0.19</td>\n",
              "      <td>0.18</td>\n",
              "    </tr>\n",
              "  </tbody>\n",
              "</table>\n",
              "</div>\n",
              "      <button class=\"colab-df-convert\" onclick=\"convertToInteractive('df-da7b1cdd-0067-44b0-80da-039b32619777')\"\n",
              "              title=\"Convert this dataframe to an interactive table.\"\n",
              "              style=\"display:none;\">\n",
              "        \n",
              "  <svg xmlns=\"http://www.w3.org/2000/svg\" height=\"24px\"viewBox=\"0 0 24 24\"\n",
              "       width=\"24px\">\n",
              "    <path d=\"M0 0h24v24H0V0z\" fill=\"none\"/>\n",
              "    <path d=\"M18.56 5.44l.94 2.06.94-2.06 2.06-.94-2.06-.94-.94-2.06-.94 2.06-2.06.94zm-11 1L8.5 8.5l.94-2.06 2.06-.94-2.06-.94L8.5 2.5l-.94 2.06-2.06.94zm10 10l.94 2.06.94-2.06 2.06-.94-2.06-.94-.94-2.06-.94 2.06-2.06.94z\"/><path d=\"M17.41 7.96l-1.37-1.37c-.4-.4-.92-.59-1.43-.59-.52 0-1.04.2-1.43.59L10.3 9.45l-7.72 7.72c-.78.78-.78 2.05 0 2.83L4 21.41c.39.39.9.59 1.41.59.51 0 1.02-.2 1.41-.59l7.78-7.78 2.81-2.81c.8-.78.8-2.07 0-2.86zM5.41 20L4 18.59l7.72-7.72 1.47 1.35L5.41 20z\"/>\n",
              "  </svg>\n",
              "      </button>\n",
              "      \n",
              "  <style>\n",
              "    .colab-df-container {\n",
              "      display:flex;\n",
              "      flex-wrap:wrap;\n",
              "      gap: 12px;\n",
              "    }\n",
              "\n",
              "    .colab-df-convert {\n",
              "      background-color: #E8F0FE;\n",
              "      border: none;\n",
              "      border-radius: 50%;\n",
              "      cursor: pointer;\n",
              "      display: none;\n",
              "      fill: #1967D2;\n",
              "      height: 32px;\n",
              "      padding: 0 0 0 0;\n",
              "      width: 32px;\n",
              "    }\n",
              "\n",
              "    .colab-df-convert:hover {\n",
              "      background-color: #E2EBFA;\n",
              "      box-shadow: 0px 1px 2px rgba(60, 64, 67, 0.3), 0px 1px 3px 1px rgba(60, 64, 67, 0.15);\n",
              "      fill: #174EA6;\n",
              "    }\n",
              "\n",
              "    [theme=dark] .colab-df-convert {\n",
              "      background-color: #3B4455;\n",
              "      fill: #D2E3FC;\n",
              "    }\n",
              "\n",
              "    [theme=dark] .colab-df-convert:hover {\n",
              "      background-color: #434B5C;\n",
              "      box-shadow: 0px 1px 3px 1px rgba(0, 0, 0, 0.15);\n",
              "      filter: drop-shadow(0px 1px 2px rgba(0, 0, 0, 0.3));\n",
              "      fill: #FFFFFF;\n",
              "    }\n",
              "  </style>\n",
              "\n",
              "      <script>\n",
              "        const buttonEl =\n",
              "          document.querySelector('#df-da7b1cdd-0067-44b0-80da-039b32619777 button.colab-df-convert');\n",
              "        buttonEl.style.display =\n",
              "          google.colab.kernel.accessAllowed ? 'block' : 'none';\n",
              "\n",
              "        async function convertToInteractive(key) {\n",
              "          const element = document.querySelector('#df-da7b1cdd-0067-44b0-80da-039b32619777');\n",
              "          const dataTable =\n",
              "            await google.colab.kernel.invokeFunction('convertToInteractive',\n",
              "                                                     [key], {});\n",
              "          if (!dataTable) return;\n",
              "\n",
              "          const docLinkHtml = 'Like what you see? Visit the ' +\n",
              "            '<a target=\"_blank\" href=https://colab.research.google.com/notebooks/data_table.ipynb>data table notebook</a>'\n",
              "            + ' to learn more about interactive tables.';\n",
              "          element.innerHTML = '';\n",
              "          dataTable['output_type'] = 'display_data';\n",
              "          await google.colab.output.renderOutput(dataTable, element);\n",
              "          const docLink = document.createElement('div');\n",
              "          docLink.innerHTML = docLinkHtml;\n",
              "          element.appendChild(docLink);\n",
              "        }\n",
              "      </script>\n",
              "    </div>\n",
              "  </div>\n",
              "  "
            ]
          },
          "metadata": {},
          "execution_count": 35
        }
      ],
      "source": [
        "# Arbitrarily using 1000 random samples with replacement\n",
        "boot_7d = []\n",
        "\n",
        "for i in range(1000): # Reduce to reduce notebook run-time\n",
        "    boot_7d.append(data.sample(frac=1, replace=True).groupby('version')['retention_7'].mean())\n",
        "    \n",
        "boot_7d = pd.DataFrame(boot_7d).reset_index().drop(columns=['index'])\n",
        "boot_7d.head()"
      ]
    },
    {
      "cell_type": "code",
      "execution_count": null,
      "id": "cede4177",
      "metadata": {
        "execution": {
          "iopub.execute_input": "2022-08-24T13:09:19.728666Z",
          "iopub.status.busy": "2022-08-24T13:09:19.727148Z",
          "iopub.status.idle": "2022-08-24T13:09:20.006570Z",
          "shell.execute_reply": "2022-08-24T13:09:20.004631Z"
        },
        "papermill": {
          "duration": 0.318566,
          "end_time": "2022-08-24T13:09:20.010126",
          "exception": false,
          "start_time": "2022-08-24T13:09:19.691560",
          "status": "completed"
        },
        "tags": [],
        "colab": {
          "base_uri": "https://localhost:8080/",
          "height": 278
        },
        "id": "cede4177",
        "outputId": "412cda07-b64e-450f-d00e-fb80d082aaa2"
      },
      "outputs": [
        {
          "output_type": "display_data",
          "data": {
            "text/plain": [
              "<Figure size 576x288 with 1 Axes>"
            ],
            "image/png": "[encoded data removed]"
          },
          "metadata": {}
        }
      ],
      "source": [
        "# Plotting distributions of the two experimental groups\n",
        "fig, ax = plt.subplots(figsize=(8,4))\n",
        "sns.kdeplot(data=boot_7d, ax=ax)\n",
        "plt.show()"
      ]
    },
    {
      "cell_type": "code",
      "execution_count": null,
      "id": "745b3d26",
      "metadata": {
        "execution": {
          "iopub.execute_input": "2022-08-24T13:09:20.075576Z",
          "iopub.status.busy": "2022-08-24T13:09:20.074524Z",
          "iopub.status.idle": "2022-08-24T13:09:20.322724Z",
          "shell.execute_reply": "2022-08-24T13:09:20.321254Z"
        },
        "papermill": {
          "duration": 0.284102,
          "end_time": "2022-08-24T13:09:20.326102",
          "exception": false,
          "start_time": "2022-08-24T13:09:20.042000",
          "status": "completed"
        },
        "tags": [],
        "colab": {
          "base_uri": "https://localhost:8080/",
          "height": 300
        },
        "id": "745b3d26",
        "outputId": "c0ce2cae-0b09-44cb-c9fc-7196d364cfd0"
      },
      "outputs": [
        {
          "output_type": "display_data",
          "data": {
            "text/plain": [
              "<Figure size 576x288 with 1 Axes>"
            ],
            "image/png": "[encoded data removed]"
          },
          "metadata": {}
        }
      ],
      "source": [
        "# Percentage difference between gate_30 and gate_40, this will provide a distribution relative to zero\n",
        "boot_7d['diff'] = (boot_7d['gate_40'] - boot_7d['gate_30']) / boot_7d['gate_30']\n",
        "\n",
        "# Plotting \n",
        "fig, ax = plt.subplots(figsize=(8,4))\n",
        "sns.kdeplot(data=boot_7d['diff'], ax=ax)\n",
        "plt.show()"
      ]
    },
    {
      "cell_type": "code",
      "execution_count": null,
      "id": "21c7353c",
      "metadata": {
        "execution": {
          "iopub.execute_input": "2022-08-24T13:09:20.390020Z",
          "iopub.status.busy": "2022-08-24T13:09:20.389480Z",
          "iopub.status.idle": "2022-08-24T13:09:20.400125Z",
          "shell.execute_reply": "2022-08-24T13:09:20.398710Z"
        },
        "papermill": {
          "duration": 0.045981,
          "end_time": "2022-08-24T13:09:20.402891",
          "exception": false,
          "start_time": "2022-08-24T13:09:20.356910",
          "status": "completed"
        },
        "tags": [],
        "colab": {
          "base_uri": "https://localhost:8080/"
        },
        "id": "21c7353c",
        "outputId": "166bae00-3404-4203-8e8d-194a0a7a1746"
      },
      "outputs": [
        {
          "output_type": "execute_result",
          "data": {
            "text/plain": [
              "0.001"
            ]
          },
          "metadata": {},
          "execution_count": 38
        }
      ],
      "source": [
        "# Probability that 1 Day Retention is greater when gate is at Level 40\n",
        "prob = (boot_7d['diff'] > 0).mean()\n",
        "prob"
      ]
    },
    {
      "cell_type": "markdown",
      "id": "b2b95ab6",
      "metadata": {
        "papermill": {
          "duration": 0.030568,
          "end_time": "2022-08-24T13:09:20.465137",
          "exception": false,
          "start_time": "2022-08-24T13:09:20.434569",
          "status": "completed"
        },
        "tags": [],
        "id": "b2b95ab6"
      },
      "source": [
        "By plotting the difference between the two bootstrapped distributions and taking the percentage difference, we can determine the probability that the 7 Day retention rate was greater when the gate was set to 40. The probability calculated was 0.001 or 0.1%, suggesting that retention was greater when the gate was set to Level 30."
      ]
    },
    {
      "cell_type": "markdown",
      "id": "7595d80b",
      "metadata": {
        "papermill": {
          "duration": 0.030671,
          "end_time": "2022-08-24T13:09:20.526775",
          "exception": false,
          "start_time": "2022-08-24T13:09:20.496104",
          "status": "completed"
        },
        "tags": [],
        "id": "7595d80b"
      },
      "source": [
        "### 5.2.2. Proportional z-test <a name ='5.2.2'></a>\n",
        "\n",
        "H0 = The proportions are the same\n",
        "\n",
        "H1 = The proportions are different"
      ]
    },
    {
      "cell_type": "code",
      "execution_count": null,
      "id": "cf1d21b3",
      "metadata": {
        "execution": {
          "iopub.execute_input": "2022-08-24T13:09:20.591806Z",
          "iopub.status.busy": "2022-08-24T13:09:20.590429Z",
          "iopub.status.idle": "2022-08-24T13:09:20.646713Z",
          "shell.execute_reply": "2022-08-24T13:09:20.645491Z"
        },
        "papermill": {
          "duration": 0.092027,
          "end_time": "2022-08-24T13:09:20.649856",
          "exception": false,
          "start_time": "2022-08-24T13:09:20.557829",
          "status": "completed"
        },
        "tags": [],
        "colab": {
          "base_uri": "https://localhost:8080/"
        },
        "id": "cf1d21b3",
        "outputId": "64d6ab98-adc1-4a96-b2ba-ac6217f81dae"
      },
      "outputs": [
        {
          "output_type": "execute_result",
          "data": {
            "text/plain": [
              "((8501, 44699), (8279, 45489))"
            ]
          },
          "metadata": {},
          "execution_count": 39
        }
      ],
      "source": [
        "# Significance Level\n",
        "alpha = 0.025\n",
        "\n",
        "cont_succ = data[data['version'] == 'gate_30']['retention_7'].sum()\n",
        "cont_size = data[data['version'] == 'gate_30'].shape[0]\n",
        "treat_succ = data[data['version'] == 'gate_40']['retention_7'].sum()\n",
        "treat_size = data[data['version'] == 'gate_40'].shape[0]\n",
        "\n",
        "(cont_succ, cont_size), (treat_succ, treat_size)"
      ]
    },
    {
      "cell_type": "code",
      "execution_count": null,
      "id": "773977cf",
      "metadata": {
        "execution": {
          "iopub.execute_input": "2022-08-24T13:09:20.716239Z",
          "iopub.status.busy": "2022-08-24T13:09:20.715673Z",
          "iopub.status.idle": "2022-08-24T13:09:20.725718Z",
          "shell.execute_reply": "2022-08-24T13:09:20.724241Z"
        },
        "papermill": {
          "duration": 0.046336,
          "end_time": "2022-08-24T13:09:20.728721",
          "exception": false,
          "start_time": "2022-08-24T13:09:20.682385",
          "status": "completed"
        },
        "tags": [],
        "colab": {
          "base_uri": "https://localhost:8080/"
        },
        "id": "773977cf",
        "outputId": "b2f679e5-0798-4994-ffe3-12fb3496c723"
      },
      "outputs": [
        {
          "output_type": "execute_result",
          "data": {
            "text/plain": [
              "(3.1574100858819936, 0.0007958865886996721)"
            ]
          },
          "metadata": {},
          "execution_count": 40
        }
      ],
      "source": [
        "z_score, p_value = proportions_ztest(count=[cont_succ, treat_succ], nobs=[cont_size, treat_size], alternative='larger')\n",
        "\n",
        "z_score, p_value"
      ]
    },
    {
      "cell_type": "markdown",
      "id": "52e814f0",
      "metadata": {
        "papermill": {
          "duration": 0.031414,
          "end_time": "2022-08-24T13:09:20.791666",
          "exception": false,
          "start_time": "2022-08-24T13:09:20.760252",
          "status": "completed"
        },
        "tags": [],
        "id": "52e814f0"
      },
      "source": [
        "The z-test provided a *p-value* **less** than 0.025, meaning we can reject the Null Hypothesis. This indicates the proportions between the two distributions are statistically significantly different. Because this is a bi-directional test, **this would suggest that `gate_40` is worse for 7 Day Retention than `gate_30`.**  "
      ]
    },
    {
      "cell_type": "markdown",
      "id": "3ad58929",
      "metadata": {
        "papermill": {
          "duration": 0.032443,
          "end_time": "2022-08-24T13:09:20.855705",
          "exception": false,
          "start_time": "2022-08-24T13:09:20.823262",
          "status": "completed"
        },
        "tags": [],
        "id": "3ad58929"
      },
      "source": [
        "## 5.3. Game Rounds <a name ='5.3'></a>\n",
        "\n",
        "The AB test was based on the Day 1 and 7 retention. This is a statistical analysis on gamerounds just for fun."
      ]
    },
    {
      "cell_type": "markdown",
      "id": "c5bd6b81",
      "metadata": {
        "jp-MarkdownHeadingCollapsed": true,
        "papermill": {
          "duration": 0.031702,
          "end_time": "2022-08-24T13:09:20.919565",
          "exception": false,
          "start_time": "2022-08-24T13:09:20.887863",
          "status": "completed"
        },
        "tags": [],
        "id": "c5bd6b81"
      },
      "source": [
        "## 5.3.1. Bootstrapping <a name ='5.3.1'></a>"
      ]
    },
    {
      "cell_type": "code",
      "execution_count": null,
      "id": "fc7a75e7",
      "metadata": {
        "execution": {
          "iopub.execute_input": "2022-08-24T13:09:20.984783Z",
          "iopub.status.busy": "2022-08-24T13:09:20.984219Z",
          "iopub.status.idle": "2022-08-24T13:09:41.293344Z",
          "shell.execute_reply": "2022-08-24T13:09:41.291843Z"
        },
        "papermill": {
          "duration": 20.345733,
          "end_time": "2022-08-24T13:09:41.296929",
          "exception": false,
          "start_time": "2022-08-24T13:09:20.951196",
          "status": "completed"
        },
        "tags": [],
        "colab": {
          "base_uri": "https://localhost:8080/",
          "height": 206
        },
        "id": "fc7a75e7",
        "outputId": "9d71ca30-7546-42c1-be11-718375aa2444"
      },
      "outputs": [
        {
          "output_type": "execute_result",
          "data": {
            "text/plain": [
              "version  gate_30  gate_40\n",
              "0          51.10    50.93\n",
              "1          51.38    51.68\n",
              "2          51.46    50.83\n",
              "3          51.95    51.93\n",
              "4          51.31    51.07"
            ],
            "text/html": [
              "\n",
              "  <div id=\"df-e664ea28-d4e3-4ab4-9564-a8d84a7dffa1\">\n",
              "    <div class=\"colab-df-container\">\n",
              "      <div>\n",
              "<style scoped>\n",
              "    .dataframe tbody tr th:only-of-type {\n",
              "        vertical-align: middle;\n",
              "    }\n",
              "\n",
              "    .dataframe tbody tr th {\n",
              "        vertical-align: top;\n",
              "    }\n",
              "\n",
              "    .dataframe thead th {\n",
              "        text-align: right;\n",
              "    }\n",
              "</style>\n",
              "<table border=\"1\" class=\"dataframe\">\n",
              "  <thead>\n",
              "    <tr style=\"text-align: right;\">\n",
              "      <th>version</th>\n",
              "      <th>gate_30</th>\n",
              "      <th>gate_40</th>\n",
              "    </tr>\n",
              "  </thead>\n",
              "  <tbody>\n",
              "    <tr>\n",
              "      <th>0</th>\n",
              "      <td>51.10</td>\n",
              "      <td>50.93</td>\n",
              "    </tr>\n",
              "    <tr>\n",
              "      <th>1</th>\n",
              "      <td>51.38</td>\n",
              "      <td>51.68</td>\n",
              "    </tr>\n",
              "    <tr>\n",
              "      <th>2</th>\n",
              "      <td>51.46</td>\n",
              "      <td>50.83</td>\n",
              "    </tr>\n",
              "    <tr>\n",
              "      <th>3</th>\n",
              "      <td>51.95</td>\n",
              "      <td>51.93</td>\n",
              "    </tr>\n",
              "    <tr>\n",
              "      <th>4</th>\n",
              "      <td>51.31</td>\n",
              "      <td>51.07</td>\n",
              "    </tr>\n",
              "  </tbody>\n",
              "</table>\n",
              "</div>\n",
              "      <button class=\"colab-df-convert\" onclick=\"convertToInteractive('df-e664ea28-d4e3-4ab4-9564-a8d84a7dffa1')\"\n",
              "              title=\"Convert this dataframe to an interactive table.\"\n",
              "              style=\"display:none;\">\n",
              "        \n",
              "  <svg xmlns=\"http://www.w3.org/2000/svg\" height=\"24px\"viewBox=\"0 0 24 24\"\n",
              "       width=\"24px\">\n",
              "    <path d=\"M0 0h24v24H0V0z\" fill=\"none\"/>\n",
              "    <path d=\"M18.56 5.44l.94 2.06.94-2.06 2.06-.94-2.06-.94-.94-2.06-.94 2.06-2.06.94zm-11 1L8.5 8.5l.94-2.06 2.06-.94-2.06-.94L8.5 2.5l-.94 2.06-2.06.94zm10 10l.94 2.06.94-2.06 2.06-.94-2.06-.94-.94-2.06-.94 2.06-2.06.94z\"/><path d=\"M17.41 7.96l-1.37-1.37c-.4-.4-.92-.59-1.43-.59-.52 0-1.04.2-1.43.59L10.3 9.45l-7.72 7.72c-.78.78-.78 2.05 0 2.83L4 21.41c.39.39.9.59 1.41.59.51 0 1.02-.2 1.41-.59l7.78-7.78 2.81-2.81c.8-.78.8-2.07 0-2.86zM5.41 20L4 18.59l7.72-7.72 1.47 1.35L5.41 20z\"/>\n",
              "  </svg>\n",
              "      </button>\n",
              "      \n",
              "  <style>\n",
              "    .colab-df-container {\n",
              "      display:flex;\n",
              "      flex-wrap:wrap;\n",
              "      gap: 12px;\n",
              "    }\n",
              "\n",
              "    .colab-df-convert {\n",
              "      background-color: #E8F0FE;\n",
              "      border: none;\n",
              "      border-radius: 50%;\n",
              "      cursor: pointer;\n",
              "      display: none;\n",
              "      fill: #1967D2;\n",
              "      height: 32px;\n",
              "      padding: 0 0 0 0;\n",
              "      width: 32px;\n",
              "    }\n",
              "\n",
              "    .colab-df-convert:hover {\n",
              "      background-color: #E2EBFA;\n",
              "      box-shadow: 0px 1px 2px rgba(60, 64, 67, 0.3), 0px 1px 3px 1px rgba(60, 64, 67, 0.15);\n",
              "      fill: #174EA6;\n",
              "    }\n",
              "\n",
              "    [theme=dark] .colab-df-convert {\n",
              "      background-color: #3B4455;\n",
              "      fill: #D2E3FC;\n",
              "    }\n",
              "\n",
              "    [theme=dark] .colab-df-convert:hover {\n",
              "      background-color: #434B5C;\n",
              "      box-shadow: 0px 1px 3px 1px rgba(0, 0, 0, 0.15);\n",
              "      filter: drop-shadow(0px 1px 2px rgba(0, 0, 0, 0.3));\n",
              "      fill: #FFFFFF;\n",
              "    }\n",
              "  </style>\n",
              "\n",
              "      <script>\n",
              "        const buttonEl =\n",
              "          document.querySelector('#df-e664ea28-d4e3-4ab4-9564-a8d84a7dffa1 button.colab-df-convert');\n",
              "        buttonEl.style.display =\n",
              "          google.colab.kernel.accessAllowed ? 'block' : 'none';\n",
              "\n",
              "        async function convertToInteractive(key) {\n",
              "          const element = document.querySelector('#df-e664ea28-d4e3-4ab4-9564-a8d84a7dffa1');\n",
              "          const dataTable =\n",
              "            await google.colab.kernel.invokeFunction('convertToInteractive',\n",
              "                                                     [key], {});\n",
              "          if (!dataTable) return;\n",
              "\n",
              "          const docLinkHtml = 'Like what you see? Visit the ' +\n",
              "            '<a target=\"_blank\" href=https://colab.research.google.com/notebooks/data_table.ipynb>data table notebook</a>'\n",
              "            + ' to learn more about interactive tables.';\n",
              "          element.innerHTML = '';\n",
              "          dataTable['output_type'] = 'display_data';\n",
              "          await google.colab.output.renderOutput(dataTable, element);\n",
              "          const docLink = document.createElement('div');\n",
              "          docLink.innerHTML = docLinkHtml;\n",
              "          element.appendChild(docLink);\n",
              "        }\n",
              "      </script>\n",
              "    </div>\n",
              "  </div>\n",
              "  "
            ]
          },
          "metadata": {},
          "execution_count": 41
        }
      ],
      "source": [
        "# Arbitrarily using 1000 random samples with replacement\n",
        "sum_gamerounds = []\n",
        "\n",
        "for i in range(1000): # Reduce to reduce notebook run-time\n",
        "    sum_gamerounds.append(data.sample(frac=1, replace=True).groupby('version')['sum_gamerounds'].mean())\n",
        "    \n",
        "sum_gamerounds = pd.DataFrame(sum_gamerounds).reset_index().drop(columns=['index'])\n",
        "sum_gamerounds.head()"
      ]
    },
    {
      "cell_type": "markdown",
      "id": "11ab8738",
      "metadata": {
        "papermill": {
          "duration": 0.031056,
          "end_time": "2022-08-24T13:09:41.360321",
          "exception": false,
          "start_time": "2022-08-24T13:09:41.329265",
          "status": "completed"
        },
        "tags": [],
        "id": "11ab8738"
      },
      "source": [
        "The two bootstrapped distributions provide uncertainty over the underlying sum gamerounds played could be for each experimental group, control and treatment."
      ]
    },
    {
      "cell_type": "code",
      "execution_count": null,
      "id": "43fc5c94",
      "metadata": {
        "execution": {
          "iopub.execute_input": "2022-08-24T13:09:41.427386Z",
          "iopub.status.busy": "2022-08-24T13:09:41.426746Z",
          "iopub.status.idle": "2022-08-24T13:09:41.719731Z",
          "shell.execute_reply": "2022-08-24T13:09:41.717932Z"
        },
        "papermill": {
          "duration": 0.331276,
          "end_time": "2022-08-24T13:09:41.723351",
          "exception": false,
          "start_time": "2022-08-24T13:09:41.392075",
          "status": "completed"
        },
        "tags": [],
        "colab": {
          "base_uri": "https://localhost:8080/",
          "height": 278
        },
        "id": "43fc5c94",
        "outputId": "801ba32f-838f-4db1-c7d4-96021544ea4b"
      },
      "outputs": [
        {
          "output_type": "display_data",
          "data": {
            "text/plain": [
              "<Figure size 576x288 with 1 Axes>"
            ],
            "image/png": "[encoded data removed]"
          },
          "metadata": {}
        }
      ],
      "source": [
        "# Plotting distributions of the two experimental groups\n",
        "fig, ax = plt.subplots(figsize=(8,4))\n",
        "sns.kdeplot(data=sum_gamerounds, ax=ax)\n",
        "plt.show()"
      ]
    },
    {
      "cell_type": "markdown",
      "id": "3b7b4d96",
      "metadata": {
        "papermill": {
          "duration": 0.032008,
          "end_time": "2022-08-24T13:09:41.788981",
          "exception": false,
          "start_time": "2022-08-24T13:09:41.756973",
          "status": "completed"
        },
        "tags": [],
        "id": "3b7b4d96"
      },
      "source": [
        "The two distributions are overlapped, will not gain any useful insights. Looking closer at the differece between the distributions."
      ]
    },
    {
      "cell_type": "code",
      "execution_count": null,
      "id": "cb14817a",
      "metadata": {
        "execution": {
          "iopub.execute_input": "2022-08-24T13:09:41.858640Z",
          "iopub.status.busy": "2022-08-24T13:09:41.857539Z",
          "iopub.status.idle": "2022-08-24T13:09:42.115501Z",
          "shell.execute_reply": "2022-08-24T13:09:42.113433Z"
        },
        "papermill": {
          "duration": 0.297825,
          "end_time": "2022-08-24T13:09:42.119547",
          "exception": false,
          "start_time": "2022-08-24T13:09:41.821722",
          "status": "completed"
        },
        "tags": [],
        "colab": {
          "base_uri": "https://localhost:8080/",
          "height": 300
        },
        "id": "cb14817a",
        "outputId": "35b28d47-bd85-4ab5-9e3e-15d3b62ac6f1"
      },
      "outputs": [
        {
          "output_type": "display_data",
          "data": {
            "text/plain": [
              "<Figure size 576x288 with 1 Axes>"
            ],
            "image/png": "[encoded data removed]"
          },
          "metadata": {}
        }
      ],
      "source": [
        "# Percentage difference between gate_30 and gate_40\n",
        "sum_gamerounds['perc_diff'] = (sum_gamerounds['gate_40'] - sum_gamerounds['gate_30']) / sum_gamerounds['gate_30']\n",
        "\n",
        "# Plotting \n",
        "fig, ax = plt.subplots(figsize=(8,4))\n",
        "sns.kdeplot(data=sum_gamerounds['perc_diff'], ax=ax)\n",
        "plt.show()"
      ]
    },
    {
      "cell_type": "code",
      "execution_count": null,
      "id": "eeb6fc06",
      "metadata": {
        "execution": {
          "iopub.execute_input": "2022-08-24T13:09:42.200037Z",
          "iopub.status.busy": "2022-08-24T13:09:42.198835Z",
          "iopub.status.idle": "2022-08-24T13:09:42.212359Z",
          "shell.execute_reply": "2022-08-24T13:09:42.210138Z"
        },
        "papermill": {
          "duration": 0.056851,
          "end_time": "2022-08-24T13:09:42.215851",
          "exception": false,
          "start_time": "2022-08-24T13:09:42.159000",
          "status": "completed"
        },
        "tags": [],
        "colab": {
          "base_uri": "https://localhost:8080/"
        },
        "id": "eeb6fc06",
        "outputId": "9f1df80a-5db1-4c58-df14-ff22edea6c98"
      },
      "outputs": [
        {
          "output_type": "execute_result",
          "data": {
            "text/plain": [
              "0.476"
            ]
          },
          "metadata": {},
          "execution_count": 44
        }
      ],
      "source": [
        "# Calculating the probability players will complete more gamerounds is greater when the gate is set at Level 40\n",
        "prob = (sum_gamerounds['perc_diff'] > 0).mean()\n",
        "prob"
      ]
    },
    {
      "cell_type": "markdown",
      "id": "7a1b3653",
      "metadata": {
        "papermill": {
          "duration": 0.034934,
          "end_time": "2022-08-24T13:09:42.288537",
          "exception": false,
          "start_time": "2022-08-24T13:09:42.253603",
          "status": "completed"
        },
        "tags": [],
        "id": "7a1b3653"
      },
      "source": [
        "The probability that 1 Day Retention is greater when the gate is set at Level 40 is 0.481, slightly worse than a coin flip."
      ]
    },
    {
      "cell_type": "markdown",
      "id": "cfa1e97c",
      "metadata": {
        "papermill": {
          "duration": 0.034469,
          "end_time": "2022-08-24T13:09:42.358077",
          "exception": false,
          "start_time": "2022-08-24T13:09:42.323608",
          "status": "completed"
        },
        "tags": [],
        "id": "cfa1e97c"
      },
      "source": [
        "### 5.3.2. Mann-Whitney U test <a name ='5.3.2'></a>"
      ]
    },
    {
      "cell_type": "markdown",
      "id": "bc2bb919",
      "metadata": {
        "papermill": {
          "duration": 0.032251,
          "end_time": "2022-08-24T13:09:42.423940",
          "exception": false,
          "start_time": "2022-08-24T13:09:42.391689",
          "status": "completed"
        },
        "tags": [],
        "id": "bc2bb919"
      },
      "source": [
        "The distribution of gamerounds played is clearly not normally distributed, but we can perform a Shapiro-Wilks test to confirm."
      ]
    },
    {
      "cell_type": "code",
      "execution_count": null,
      "id": "04054c6b",
      "metadata": {
        "execution": {
          "iopub.execute_input": "2022-08-24T13:09:42.492575Z",
          "iopub.status.busy": "2022-08-24T13:09:42.491996Z",
          "iopub.status.idle": "2022-08-24T13:09:42.532897Z",
          "shell.execute_reply": "2022-08-24T13:09:42.531419Z"
        },
        "papermill": {
          "duration": 0.078989,
          "end_time": "2022-08-24T13:09:42.536233",
          "exception": false,
          "start_time": "2022-08-24T13:09:42.457244",
          "status": "completed"
        },
        "tags": [],
        "colab": {
          "base_uri": "https://localhost:8080/"
        },
        "id": "04054c6b",
        "outputId": "685a4a27-2e21-4180-ff93-aa0bdef4a0c8"
      },
      "outputs": [
        {
          "output_type": "execute_result",
          "data": {
            "text/plain": [
              "(1, 1)"
            ]
          },
          "metadata": {},
          "execution_count": 45
        }
      ],
      "source": [
        "# Testing the normalcy of sum_gamerounds\n",
        "# H0 = sample is from a normal distribution (p-value > 0.05)\n",
        "# H1 = sample is not from a normal distribution (p-value < 0.05)\n",
        "\n",
        "control = data[data['version'] == 'gate_30']\n",
        "treatment = data[data['version'] == 'gate_40']\n",
        "\n",
        "# Checking control and treatment frames have been split correctly\n",
        "control['version'].nunique(), treatment['version'].nunique()"
      ]
    },
    {
      "cell_type": "code",
      "execution_count": null,
      "id": "bc258fef",
      "metadata": {
        "execution": {
          "iopub.execute_input": "2022-08-24T13:09:42.607980Z",
          "iopub.status.busy": "2022-08-24T13:09:42.606905Z",
          "iopub.status.idle": "2022-08-24T13:09:42.627987Z",
          "shell.execute_reply": "2022-08-24T13:09:42.625978Z"
        },
        "papermill": {
          "duration": 0.061132,
          "end_time": "2022-08-24T13:09:42.631847",
          "exception": false,
          "start_time": "2022-08-24T13:09:42.570715",
          "status": "completed"
        },
        "tags": [],
        "id": "bc258fef"
      },
      "outputs": [],
      "source": [
        "shap_cont = stats.shapiro(control['sum_gamerounds'])\n",
        "shap_treat = stats.shapiro(treatment['sum_gamerounds'])"
      ]
    },
    {
      "cell_type": "code",
      "execution_count": null,
      "id": "fc3140ce",
      "metadata": {
        "execution": {
          "iopub.execute_input": "2022-08-24T13:09:42.703994Z",
          "iopub.status.busy": "2022-08-24T13:09:42.702893Z",
          "iopub.status.idle": "2022-08-24T13:09:42.712837Z",
          "shell.execute_reply": "2022-08-24T13:09:42.711381Z"
        },
        "papermill": {
          "duration": 0.050804,
          "end_time": "2022-08-24T13:09:42.716209",
          "exception": false,
          "start_time": "2022-08-24T13:09:42.665405",
          "status": "completed"
        },
        "tags": [],
        "colab": {
          "base_uri": "https://localhost:8080/"
        },
        "id": "fc3140ce",
        "outputId": "0e9a9823-8413-4238-e79d-f3ba045c1d23"
      },
      "outputs": [
        {
          "output_type": "execute_result",
          "data": {
            "text/plain": [
              "(0.0, 0.0)"
            ]
          },
          "metadata": {},
          "execution_count": 47
        }
      ],
      "source": [
        "shap_cont[1], shap_treat[1]"
      ]
    },
    {
      "cell_type": "markdown",
      "id": "67d5908c",
      "metadata": {
        "papermill": {
          "duration": 0.033471,
          "end_time": "2022-08-24T13:09:42.785040",
          "exception": false,
          "start_time": "2022-08-24T13:09:42.751569",
          "status": "completed"
        },
        "tags": [],
        "id": "67d5908c"
      },
      "source": [
        "The p-values for the Shapiro-Wilks test are non-trivially small, there is sufficient evidence to accept the hypothesis that the sample is not from a normal distribution.\n",
        "\n",
        "Applying Mann-Whitney U test:"
      ]
    },
    {
      "cell_type": "code",
      "execution_count": null,
      "id": "5c9a98f2",
      "metadata": {
        "execution": {
          "iopub.execute_input": "2022-08-24T13:09:42.859782Z",
          "iopub.status.busy": "2022-08-24T13:09:42.858105Z",
          "iopub.status.idle": "2022-08-24T13:09:42.929137Z",
          "shell.execute_reply": "2022-08-24T13:09:42.927429Z"
        },
        "papermill": {
          "duration": 0.113124,
          "end_time": "2022-08-24T13:09:42.932198",
          "exception": false,
          "start_time": "2022-08-24T13:09:42.819074",
          "status": "completed"
        },
        "tags": [],
        "colab": {
          "base_uri": "https://localhost:8080/"
        },
        "id": "5c9a98f2",
        "outputId": "4dec5d3b-8de9-43f9-ec5b-9b21b99bc279"
      },
      "outputs": [
        {
          "output_type": "stream",
          "name": "stdout",
          "text": [
            "The p-value of the Mann Whitney U test is 0.0509.\n"
          ]
        }
      ],
      "source": [
        "_, p_value = stats.mannwhitneyu(control['sum_gamerounds'], treatment['sum_gamerounds'])\n",
        "print(f'The p-value of the Mann Whitney U test is {p_value:.4f}.')"
      ]
    },
    {
      "cell_type": "markdown",
      "id": "eaf556c0",
      "metadata": {
        "papermill": {
          "duration": 0.033945,
          "end_time": "2022-08-24T13:09:43.000293",
          "exception": false,
          "start_time": "2022-08-24T13:09:42.966348",
          "status": "completed"
        },
        "tags": [],
        "id": "eaf556c0"
      },
      "source": [
        "Because the p-value of the Mann Whitney U test, 0.0509, is greater than 0.05, the null hypothesis can not be rejected. That is to say, **there is insufficient evidence that increasing the gate to Level 40 will increase the sum of gamerounds played by users.**\n",
        "\n",
        "Statistically analysing the total gamerounds played has not provided much insight."
      ]
    },
    {
      "cell_type": "markdown",
      "id": "0c158edd",
      "metadata": {
        "papermill": {
          "duration": 0.033173,
          "end_time": "2022-08-24T13:09:43.069857",
          "exception": false,
          "start_time": "2022-08-24T13:09:43.036684",
          "status": "completed"
        },
        "tags": [],
        "id": "0c158edd"
      },
      "source": [
        "# 6. Conclusion <a name ='6'></a>"
      ]
    },
    {
      "cell_type": "markdown",
      "id": "f373c1a7",
      "metadata": {
        "papermill": {
          "duration": 0.033271,
          "end_time": "2022-08-24T13:09:43.136974",
          "exception": false,
          "start_time": "2022-08-24T13:09:43.103703",
          "status": "completed"
        },
        "tags": [],
        "id": "f373c1a7"
      },
      "source": [
        "In this an analysis, an exploratory data analysis was performed on the gamerounds completed by each user and the Day 1 and 7 Retention rates. The data was clean with the exception of a single disproportionate outlier that was corrected for. A/B Testing using bootstrap analysis and proportional z-tests was done on Day 1 and 7 Retention rates, and bootstrap analysis and Mann-Whitney U test on gamerounds played. \n",
        "\n",
        "Based on the results of the z-test, **there is strong evidence that Day 7 retention rates are higher when the gate is at  Level 30.** Therefore, the gate should not be moved.\n",
        "The bootstrap analysis suggests that the Level 30 gate is better for Day 1 Retention. Further investigation is required.\n",
        "\n",
        "Looking at the cumulative number of games played per person, there where no statistically significant results. Rounds played could be examined further, for example to see if there is any impact on in-app micro transactions.\n",
        "\n",
        "---"
      ]
    }
  ],
  "metadata": {
    "kernelspec": {
      "display_name": "Python 3",
      "language": "python",
      "name": "python3"
    },
    "language_info": {
      "codemirror_mode": {
        "name": "ipython",
        "version": 3
      },
      "file_extension": ".py",
      "mimetype": "text/x-python",
      "name": "python",
      "nbconvert_exporter": "python",
      "pygments_lexer": "ipython3",
      "version": "3.7.12"
    },
    "papermill": {
      "default_parameters": {},
      "duration": 93.276635,
      "end_time": "2022-08-24T13:09:44.466547",
      "environment_variables": {},
      "exception": null,
      "input_path": "__notebook__.ipynb",
      "output_path": "__notebook__.ipynb",
      "parameters": {},
      "start_time": "2022-08-24T13:08:11.189912",
      "version": "2.3.4"
    },
    "colab": {
      "provenance": [],
      "toc_visible": true,
      "include_colab_link": true
    }
  },
  "nbformat": 4,
  "nbformat_minor": 5
}